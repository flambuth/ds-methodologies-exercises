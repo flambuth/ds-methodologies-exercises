{
 "cells": [
  {
   "cell_type": "code",
   "execution_count": 3,
   "metadata": {},
   "outputs": [],
   "source": [
    "import pandas as pd\n",
    "import numpy as np\n",
    "from pydataset import data"
   ]
  },
  {
   "cell_type": "code",
   "execution_count": 20,
   "metadata": {},
   "outputs": [],
   "source": [
    "import pyspark\n",
    "from pyspark.sql.functions import concat, sum, avg, min, max, count, mean, concat_ws, lit\n",
    "from pyspark.sql.functions import regexp_extract, regexp_replace\n",
    "spark = pyspark.sql.SparkSession.builder.getOrCreate()"
   ]
  },
  {
   "cell_type": "markdown",
   "metadata": {},
   "source": [
    "# 1\n",
    "Create a spark data frame that contains your favorite programming languages.\n",
    "\n",
    "    The name of the column should be language\n",
    "    View the schema of the dataframe\n",
    "    Output the shape of the dataframe\n",
    "    Show the first 5 records in the dataframe"
   ]
  },
  {
   "cell_type": "code",
   "execution_count": null,
   "metadata": {},
   "outputs": [],
   "source": [
    "#mas tarde"
   ]
  },
  {
   "cell_type": "code",
   "execution_count": null,
   "metadata": {},
   "outputs": [],
   "source": []
  },
  {
   "cell_type": "markdown",
   "metadata": {},
   "source": [
    "# 2\n",
    "Load the mpg dataset as a spark dataframe.\n",
    "\n",
    "    Create 1 column of output that contains a message like the one below:\n",
    "\n",
    "\n",
    "    The 1999 audi a4 has a 4 cylinder engine.\n",
    "    For each vehicle.\n",
    "\n",
    "   "
   ]
  },
  {
   "cell_type": "code",
   "execution_count": 4,
   "metadata": {},
   "outputs": [],
   "source": [
    "mpg = spark.createDataFrame(data(\"mpg\"))"
   ]
  },
  {
   "cell_type": "code",
   "execution_count": 23,
   "metadata": {},
   "outputs": [
    {
     "name": "stdout",
     "output_type": "stream",
     "text": [
      "+--------------------------------+\n",
      "|The Vehicle's Description       |\n",
      "+--------------------------------+\n",
      "|The 1999 audi a4 has a 4 engine.|\n",
      "|The 1999 audi a4 has a 4 engine.|\n",
      "|The 2008 audi a4 has a 4 engine.|\n",
      "|The 2008 audi a4 has a 4 engine.|\n",
      "|The 1999 audi a4 has a 6 engine.|\n",
      "+--------------------------------+\n",
      "only showing top 5 rows\n",
      "\n"
     ]
    }
   ],
   "source": [
    "mpg.select(concat\n",
    "           (lit(\"The \"), \n",
    "            mpg.year, \n",
    "            lit(\" \"), \n",
    "            mpg.manufacturer, \n",
    "            lit(\" \"), \n",
    "            mpg.model, \n",
    "            lit(\" has a \"), \n",
    "            mpg.cyl, \n",
    "            lit(\" engine.\")).alias(\"The Vehicle's Description\")).show(5,truncate=False)"
   ]
  },
  {
   "cell_type": "markdown",
   "metadata": {},
   "source": [
    "    Transform the trans column so that it only contains either manual or auto."
   ]
  },
  {
   "cell_type": "code",
   "execution_count": 28,
   "metadata": {},
   "outputs": [
    {
     "name": "stdout",
     "output_type": "stream",
     "text": [
      "+----------+\n",
      "|trans_type|\n",
      "+----------+\n",
      "|auto      |\n",
      "|manual    |\n",
      "|manual    |\n",
      "|auto      |\n",
      "|auto      |\n",
      "|manual    |\n",
      "|auto      |\n",
      "|manual    |\n",
      "|auto      |\n",
      "|manual    |\n",
      "|auto      |\n",
      "|auto      |\n",
      "|manual    |\n",
      "|auto      |\n",
      "|manual    |\n",
      "|auto      |\n",
      "|auto      |\n",
      "|auto      |\n",
      "|auto      |\n",
      "|auto      |\n",
      "+----------+\n",
      "only showing top 20 rows\n",
      "\n"
     ]
    }
   ],
   "source": [
    "mpg.select(\n",
    "    regexp_extract(\"trans\", r\"(auto|manual)\", 1).alias(\"trans_type\")).show(truncate=False)\n"
   ]
  },
  {
   "cell_type": "code",
   "execution_count": 19,
   "metadata": {},
   "outputs": [
    {
     "name": "stdout",
     "output_type": "stream",
     "text": [
      "+----------+\n",
      "|     trans|\n",
      "+----------+\n",
      "|  auto(l5)|\n",
      "|manual(m5)|\n",
      "|manual(m6)|\n",
      "|  auto(av)|\n",
      "|  auto(l5)|\n",
      "+----------+\n",
      "only showing top 5 rows\n",
      "\n"
     ]
    }
   ],
   "source": [
    "mpg.select(mpg.trans).show(5)"
   ]
  },
  {
   "cell_type": "markdown",
   "metadata": {},
   "source": [
    "# 3\n",
    "Load the tips dataset as a spark dataframe.\n",
    "\n",
    "    What percentage of observations are smokers?"
   ]
  },
  {
   "cell_type": "code",
   "execution_count": 29,
   "metadata": {},
   "outputs": [],
   "source": [
    "tips = spark.createDataFrame(data(\"tips\"))"
   ]
  },
  {
   "cell_type": "code",
   "execution_count": 32,
   "metadata": {},
   "outputs": [
    {
     "name": "stdout",
     "output_type": "stream",
     "text": [
      "+----------+----+----+------+---+------+----+\n",
      "|total_bill| tip| sex|smoker|day|  time|size|\n",
      "+----------+----+----+------+---+------+----+\n",
      "|     38.01| 3.0|Male|   Yes|Sat|Dinner|   4|\n",
      "|     11.24|1.76|Male|   Yes|Sat|Dinner|   2|\n",
      "|     20.29|3.21|Male|   Yes|Sat|Dinner|   2|\n",
      "|     13.81| 2.0|Male|   Yes|Sat|Dinner|   2|\n",
      "|     11.02|1.98|Male|   Yes|Sat|Dinner|   2|\n",
      "+----------+----+----+------+---+------+----+\n",
      "only showing top 5 rows\n",
      "\n"
     ]
    }
   ],
   "source": [
    "tips.where(tips[\"smoker\"] == \"Yes\").show(5)"
   ]
  },
  {
   "cell_type": "code",
   "execution_count": 37,
   "metadata": {},
   "outputs": [
    {
     "name": "stdout",
     "output_type": "stream",
     "text": [
      "+-------+------------------+-----------------+------+------+----+------+------------------+\n",
      "|summary|        total_bill|              tip|   sex|smoker| day|  time|              size|\n",
      "+-------+------------------+-----------------+------+------+----+------+------------------+\n",
      "|  count|               244|              244|   244|   244| 244|   244|               244|\n",
      "|   mean|19.785942622950813| 2.99827868852459|  null|  null|null|  null| 2.569672131147541|\n",
      "| stddev| 8.902411954856856|1.383638189001182|  null|  null|null|  null|0.9510998047322344|\n",
      "|    min|              3.07|              1.0|Female|    No| Fri|Dinner|                 1|\n",
      "|    max|             50.81|             10.0|  Male|   Yes|Thur| Lunch|                 6|\n",
      "+-------+------------------+-----------------+------+------+----+------+------------------+\n",
      "\n"
     ]
    }
   ],
   "source": [
    "tips.describe().show()"
   ]
  },
  {
   "cell_type": "code",
   "execution_count": 42,
   "metadata": {},
   "outputs": [
    {
     "name": "stdout",
     "output_type": "stream",
     "text": [
      "+------+---------------------------+\n",
      "|smoker|Percentage of 244 Customers|\n",
      "+------+---------------------------+\n",
      "|    No|         0.6188524590163934|\n",
      "|   Yes|        0.38114754098360654|\n",
      "+------+---------------------------+\n",
      "\n"
     ]
    }
   ],
   "source": [
    "tips.groupBy(tips.smoker).agg((count(tips.smoker)/244).alias(\"Percentage of 244 Customers\")).show()"
   ]
  },
  {
   "cell_type": "markdown",
   "metadata": {},
   "source": [
    "    Create a column that contains the tip percentage"
   ]
  },
  {
   "cell_type": "code",
   "execution_count": 44,
   "metadata": {},
   "outputs": [
    {
     "name": "stdout",
     "output_type": "stream",
     "text": [
      "+------------------------+\n",
      "|Tip as Percentge of Bill|\n",
      "+------------------------+\n",
      "|     0.05944673337257211|\n",
      "|     0.16054158607350097|\n",
      "|     0.16658733936220846|\n",
      "|      0.1397804054054054|\n",
      "|     0.14680764538430255|\n",
      "+------------------------+\n",
      "only showing top 5 rows\n",
      "\n"
     ]
    }
   ],
   "source": [
    "tips.select((tips.tip/tips.total_bill).alias(\"Tip as Percentge of Bill\")).show(5)"
   ]
  },
  {
   "cell_type": "code",
   "execution_count": 45,
   "metadata": {},
   "outputs": [],
   "source": [
    "tip_percent = tips.select((tips.tip/tips.total_bill).alias(\"Tip as Percentge of Bill\"))"
   ]
  },
  {
   "cell_type": "markdown",
   "metadata": {},
   "source": [
    "    Calculate the average tip percentage for each combination of sex and smoker."
   ]
  },
  {
   "cell_type": "code",
   "execution_count": 49,
   "metadata": {},
   "outputs": [],
   "source": [
    "sexy_smokers = tips.groupby(\"sex\", \"smoker\")"
   ]
  },
  {
   "cell_type": "code",
   "execution_count": 55,
   "metadata": {},
   "outputs": [
    {
     "name": "stdout",
     "output_type": "stream",
     "text": [
      "+------+------+----------------------------+\n",
      "|   sex|smoker|(avg(tip) / avg(total_bill))|\n",
      "+------+------+----------------------------+\n",
      "|  Male|    No|          0.1573121500195338|\n",
      "|  Male|   Yes|         0.13691878510474398|\n",
      "|Female|    No|         0.15318918255461905|\n",
      "|Female|   Yes|         0.16306234935189712|\n",
      "+------+------+----------------------------+\n",
      "\n"
     ]
    }
   ],
   "source": [
    "sexy_smokers.agg(avg('tip')/avg('total_bill')).show()"
   ]
  },
  {
   "cell_type": "markdown",
   "metadata": {},
   "source": [
    "# 4\n",
    "Use the seattle weather dataset referenced in the lesson to answer the questions below."
   ]
  },
  {
   "cell_type": "code",
   "execution_count": 57,
   "metadata": {},
   "outputs": [],
   "source": [
    "from vega_datasets import data\n",
    "\n",
    "weather = data.seattle_weather().assign(date=lambda df: df.date.astype(str))\n",
    "weather = spark.createDataFrame(weather)"
   ]
  },
  {
   "cell_type": "markdown",
   "metadata": {},
   "source": [
    "    Convert the temperatures to farenheight."
   ]
  },
  {
   "cell_type": "code",
   "execution_count": 59,
   "metadata": {},
   "outputs": [
    {
     "name": "stdout",
     "output_type": "stream",
     "text": [
      "+-------+----------+-----------------+-----------------+-----------------+------------------+-------+\n",
      "|summary|      date|    precipitation|         temp_max|         temp_min|              wind|weather|\n",
      "+-------+----------+-----------------+-----------------+-----------------+------------------+-------+\n",
      "|  count|      1461|             1461|             1461|             1461|              1461|   1461|\n",
      "|   mean|      null|3.029431895961668|16.43908281998631| 8.23477070499658|3.2411362080766604|   null|\n",
      "| stddev|      null|6.680194322314739|7.349758097360176|5.023004179961265|1.4378250588746198|   null|\n",
      "|    min|2012-01-01|              0.0|             -1.6|             -7.1|               0.4|drizzle|\n",
      "|    max|2015-12-31|             55.9|             35.6|             18.3|               9.5|    sun|\n",
      "+-------+----------+-----------------+-----------------+-----------------+------------------+-------+\n",
      "\n"
     ]
    }
   ],
   "source": [
    "weather.describe().show()"
   ]
  },
  {
   "cell_type": "code",
   "execution_count": 61,
   "metadata": {},
   "outputs": [
    {
     "name": "stdout",
     "output_type": "stream",
     "text": [
      "+---------------------------+\n",
      "|(((temp_max * 9) / 5) + 32)|\n",
      "+---------------------------+\n",
      "|                      55.04|\n",
      "|                      51.08|\n",
      "|                      53.06|\n",
      "|                      53.96|\n",
      "|                      48.02|\n",
      "+---------------------------+\n",
      "only showing top 5 rows\n",
      "\n"
     ]
    }
   ],
   "source": [
    "weather.select((weather.temp_max*9/5+32).alias(.show(5)"
   ]
  },
  {
   "cell_type": "markdown",
   "metadata": {},
   "source": [
    "    Which month has the most rain, on average?"
   ]
  },
  {
   "cell_type": "code",
   "execution_count": null,
   "metadata": {},
   "outputs": [],
   "source": []
  },
  {
   "cell_type": "markdown",
   "metadata": {},
   "source": [
    "    Which year was the windiest?"
   ]
  },
  {
   "cell_type": "code",
   "execution_count": null,
   "metadata": {},
   "outputs": [],
   "source": []
  },
  {
   "cell_type": "markdown",
   "metadata": {},
   "source": [
    "    What is the most frequent type of weather in January?"
   ]
  },
  {
   "cell_type": "code",
   "execution_count": null,
   "metadata": {},
   "outputs": [],
   "source": []
  },
  {
   "cell_type": "markdown",
   "metadata": {},
   "source": [
    "    What is the average high and low tempurature on sunny days in July in 2013 and 2014?"
   ]
  },
  {
   "cell_type": "code",
   "execution_count": null,
   "metadata": {},
   "outputs": [],
   "source": []
  },
  {
   "cell_type": "markdown",
   "metadata": {},
   "source": [
    "    What percentage of days were rainy in q3 of 2015?"
   ]
  },
  {
   "cell_type": "code",
   "execution_count": null,
   "metadata": {},
   "outputs": [],
   "source": []
  },
  {
   "cell_type": "markdown",
   "metadata": {},
   "source": [
    "    For each year, find what percentage of days it rained (had non-zero precipitation)."
   ]
  },
  {
   "cell_type": "code",
   "execution_count": null,
   "metadata": {},
   "outputs": [],
   "source": []
  },
  {
   "cell_type": "code",
   "execution_count": null,
   "metadata": {},
   "outputs": [],
   "source": []
  },
  {
   "cell_type": "code",
   "execution_count": null,
   "metadata": {},
   "outputs": [],
   "source": []
  }
 ],
 "metadata": {
  "kernelspec": {
   "display_name": "Python 3",
   "language": "python",
   "name": "python3"
  },
  "language_info": {
   "codemirror_mode": {
    "name": "ipython",
    "version": 3
   },
   "file_extension": ".py",
   "mimetype": "text/x-python",
   "name": "python",
   "nbconvert_exporter": "python",
   "pygments_lexer": "ipython3",
   "version": "3.7.3"
  }
 },
 "nbformat": 4,
 "nbformat_minor": 2
}
