{
 "cells": [
  {
   "cell_type": "code",
   "execution_count": 3,
   "metadata": {},
   "outputs": [],
   "source": [
    "import pandas as pd\n",
    "import numpy as np\n",
    "from pydataset import data"
   ]
  },
  {
   "cell_type": "code",
   "execution_count": 20,
   "metadata": {},
   "outputs": [],
   "source": [
    "import pyspark\n",
    "from pyspark.sql.functions import concat, sum, avg, min, max, count, mean, concat_ws, lit\n",
    "from pyspark.sql.functions import regexp_extract, regexp_replace\n",
    "spark = pyspark.sql.SparkSession.builder.getOrCreate()"
   ]
  },
  {
   "cell_type": "markdown",
   "metadata": {},
   "source": [
    "# 1\n",
    "Create a spark data frame that contains your favorite programming languages.\n",
    "\n",
    "    The name of the column should be language\n",
    "    View the schema of the dataframe\n",
    "    Output the shape of the dataframe\n",
    "    Show the first 5 records in the dataframe"
   ]
  },
  {
   "cell_type": "code",
   "execution_count": null,
   "metadata": {},
   "outputs": [],
   "source": [
    "#df = spark.createDataFrame(pd.DataFrame())"
   ]
  },
  {
   "cell_type": "code",
   "execution_count": null,
   "metadata": {},
   "outputs": [],
   "source": []
  },
  {
   "cell_type": "markdown",
   "metadata": {},
   "source": [
    "# 2\n",
    "Load the mpg dataset as a spark dataframe.\n",
    "\n",
    "    Create 1 column of output that contains a message like the one below:\n",
    "\n",
    "\n",
    "    The 1999 audi a4 has a 4 cylinder engine.\n",
    "    For each vehicle.\n",
    "\n",
    "   "
   ]
  },
  {
   "cell_type": "code",
   "execution_count": 4,
   "metadata": {},
   "outputs": [],
   "source": [
    "mpg = spark.createDataFrame(data(\"mpg\"))"
   ]
  },
  {
   "cell_type": "code",
   "execution_count": 168,
   "metadata": {},
   "outputs": [
    {
     "name": "stdout",
     "output_type": "stream",
     "text": [
      "+-----------------------------------------+\n",
      "|The Vehicle's Description                |\n",
      "+-----------------------------------------+\n",
      "|The 1999 audi a4 has a 4 cylinder engine.|\n",
      "|The 1999 audi a4 has a 4 cylinder engine.|\n",
      "|The 2008 audi a4 has a 4 cylinder engine.|\n",
      "|The 2008 audi a4 has a 4 cylinder engine.|\n",
      "|The 1999 audi a4 has a 6 cylinder engine.|\n",
      "+-----------------------------------------+\n",
      "only showing top 5 rows\n",
      "\n"
     ]
    }
   ],
   "source": [
    "mpg.select(concat(\n",
    "            lit(\"The \"), \n",
    "            mpg.year, \n",
    "            lit(\" \"), \n",
    "            mpg.manufacturer, \n",
    "            lit(\" \"), \n",
    "            mpg.model, \n",
    "            lit(\" has a \"), \n",
    "            mpg.cyl, \n",
    "            lit(\" cylinder engine.\")).alias(\"The Vehicle's Description\")).show(5,truncate=False)"
   ]
  },
  {
   "cell_type": "markdown",
   "metadata": {},
   "source": [
    "    Transform the trans column so that it only contains either manual or auto."
   ]
  },
  {
   "cell_type": "code",
   "execution_count": 28,
   "metadata": {},
   "outputs": [
    {
     "name": "stdout",
     "output_type": "stream",
     "text": [
      "+----------+\n",
      "|trans_type|\n",
      "+----------+\n",
      "|auto      |\n",
      "|manual    |\n",
      "|manual    |\n",
      "|auto      |\n",
      "|auto      |\n",
      "|manual    |\n",
      "|auto      |\n",
      "|manual    |\n",
      "|auto      |\n",
      "|manual    |\n",
      "|auto      |\n",
      "|auto      |\n",
      "|manual    |\n",
      "|auto      |\n",
      "|manual    |\n",
      "|auto      |\n",
      "|auto      |\n",
      "|auto      |\n",
      "|auto      |\n",
      "|auto      |\n",
      "+----------+\n",
      "only showing top 20 rows\n",
      "\n"
     ]
    }
   ],
   "source": [
    "mpg.select(\n",
    "    regexp_extract(\"trans\", r\"(auto|manual)\", 1).alias(\"trans_type\")).show(truncate=False)\n"
   ]
  },
  {
   "cell_type": "code",
   "execution_count": 19,
   "metadata": {},
   "outputs": [
    {
     "name": "stdout",
     "output_type": "stream",
     "text": [
      "+----------+\n",
      "|     trans|\n",
      "+----------+\n",
      "|  auto(l5)|\n",
      "|manual(m5)|\n",
      "|manual(m6)|\n",
      "|  auto(av)|\n",
      "|  auto(l5)|\n",
      "+----------+\n",
      "only showing top 5 rows\n",
      "\n"
     ]
    }
   ],
   "source": [
    "mpg.select(mpg.trans).show(5)"
   ]
  },
  {
   "cell_type": "markdown",
   "metadata": {},
   "source": [
    "# 3\n",
    "Load the tips dataset as a spark dataframe.\n",
    "\n",
    "    What percentage of observations are smokers?"
   ]
  },
  {
   "cell_type": "code",
   "execution_count": 29,
   "metadata": {},
   "outputs": [],
   "source": [
    "tips = spark.createDataFrame(data(\"tips\"))"
   ]
  },
  {
   "cell_type": "code",
   "execution_count": 32,
   "metadata": {},
   "outputs": [
    {
     "name": "stdout",
     "output_type": "stream",
     "text": [
      "+----------+----+----+------+---+------+----+\n",
      "|total_bill| tip| sex|smoker|day|  time|size|\n",
      "+----------+----+----+------+---+------+----+\n",
      "|     38.01| 3.0|Male|   Yes|Sat|Dinner|   4|\n",
      "|     11.24|1.76|Male|   Yes|Sat|Dinner|   2|\n",
      "|     20.29|3.21|Male|   Yes|Sat|Dinner|   2|\n",
      "|     13.81| 2.0|Male|   Yes|Sat|Dinner|   2|\n",
      "|     11.02|1.98|Male|   Yes|Sat|Dinner|   2|\n",
      "+----------+----+----+------+---+------+----+\n",
      "only showing top 5 rows\n",
      "\n"
     ]
    }
   ],
   "source": [
    "tips.where(tips[\"smoker\"] == \"Yes\").show(5)"
   ]
  },
  {
   "cell_type": "code",
   "execution_count": 169,
   "metadata": {},
   "outputs": [
    {
     "data": {
      "text/plain": [
       "244"
      ]
     },
     "execution_count": 169,
     "metadata": {},
     "output_type": "execute_result"
    }
   ],
   "source": [
    "tips.count()"
   ]
  },
  {
   "cell_type": "code",
   "execution_count": 42,
   "metadata": {},
   "outputs": [
    {
     "name": "stdout",
     "output_type": "stream",
     "text": [
      "+------+---------------------------+\n",
      "|smoker|Percentage of 244 Customers|\n",
      "+------+---------------------------+\n",
      "|    No|         0.6188524590163934|\n",
      "|   Yes|        0.38114754098360654|\n",
      "+------+---------------------------+\n",
      "\n"
     ]
    }
   ],
   "source": [
    "tips.groupBy(tips.smoker).agg((count(tips.smoker)/244).alias(\"Percentage of 244 Customers\")).show()"
   ]
  },
  {
   "cell_type": "code",
   "execution_count": 170,
   "metadata": {},
   "outputs": [
    {
     "name": "stdout",
     "output_type": "stream",
     "text": [
      "+------+---------------------------+\n",
      "|smoker|Percentage of 244 Customers|\n",
      "+------+---------------------------+\n",
      "|    No|         0.6188524590163934|\n",
      "|   Yes|        0.38114754098360654|\n",
      "+------+---------------------------+\n",
      "\n"
     ]
    }
   ],
   "source": [
    "tips.groupBy(tips.smoker).agg((count(tips.smoker)/tips.count()).alias(\"Percentage of 244 Customers\")).show()"
   ]
  },
  {
   "cell_type": "code",
   "execution_count": 172,
   "metadata": {},
   "outputs": [
    {
     "name": "stdout",
     "output_type": "stream",
     "text": [
      "+------+-----+-------------------+\n",
      "|smoker|count|            percent|\n",
      "+------+-----+-------------------+\n",
      "|    No|  151| 0.6188524590163934|\n",
      "|   Yes|   93|0.38114754098360654|\n",
      "+------+-----+-------------------+\n",
      "\n"
     ]
    }
   ],
   "source": [
    "#The select statement chooses from the groupBy.count table made in the first two functions.\n",
    "#The glob star selects all the rows. Adds a new one that is the count column divided by the value created by\n",
    "#tips.count(). This new row is then aliased.\n",
    "tips.groupBy('smoker').count().select('*', (col('count')/tips.count()).alias('percent')).show()"
   ]
  },
  {
   "cell_type": "markdown",
   "metadata": {},
   "source": [
    "    Create a column that contains the tip percentage"
   ]
  },
  {
   "cell_type": "code",
   "execution_count": 44,
   "metadata": {},
   "outputs": [
    {
     "name": "stdout",
     "output_type": "stream",
     "text": [
      "+------------------------+\n",
      "|Tip as Percentge of Bill|\n",
      "+------------------------+\n",
      "|     0.05944673337257211|\n",
      "|     0.16054158607350097|\n",
      "|     0.16658733936220846|\n",
      "|      0.1397804054054054|\n",
      "|     0.14680764538430255|\n",
      "+------------------------+\n",
      "only showing top 5 rows\n",
      "\n"
     ]
    }
   ],
   "source": [
    "tips.select((tips.tip/tips.total_bill).alias(\"Tip as Percentge of Bill\")).show(5)"
   ]
  },
  {
   "cell_type": "code",
   "execution_count": 45,
   "metadata": {},
   "outputs": [],
   "source": [
    "tip_percent = tips.select((tips.tip/tips.total_bill).alias(\"Tip as Percentge of Bill\"))"
   ]
  },
  {
   "cell_type": "markdown",
   "metadata": {},
   "source": [
    "    Calculate the average tip percentage for each combination of sex and smoker."
   ]
  },
  {
   "cell_type": "code",
   "execution_count": 49,
   "metadata": {},
   "outputs": [],
   "source": [
    "sexy_smokers = tips.groupby(\"sex\", \"smoker\")"
   ]
  },
  {
   "cell_type": "code",
   "execution_count": 55,
   "metadata": {},
   "outputs": [
    {
     "name": "stdout",
     "output_type": "stream",
     "text": [
      "+------+------+----------------------------+\n",
      "|   sex|smoker|(avg(tip) / avg(total_bill))|\n",
      "+------+------+----------------------------+\n",
      "|  Male|    No|          0.1573121500195338|\n",
      "|  Male|   Yes|         0.13691878510474398|\n",
      "|Female|    No|         0.15318918255461905|\n",
      "|Female|   Yes|         0.16306234935189712|\n",
      "+------+------+----------------------------+\n",
      "\n"
     ]
    }
   ],
   "source": [
    "sexy_smokers.agg(avg('tip')/avg('total_bill')).show()"
   ]
  },
  {
   "cell_type": "markdown",
   "metadata": {},
   "source": [
    "# 4\n",
    "Use the seattle weather dataset referenced in the lesson to answer the questions below."
   ]
  },
  {
   "cell_type": "code",
   "execution_count": 57,
   "metadata": {},
   "outputs": [],
   "source": [
    "from vega_datasets import data\n",
    "\n",
    "weather = data.seattle_weather().assign(date=lambda df: df.date.astype(str))\n",
    "weather = spark.createDataFrame(weather)"
   ]
  },
  {
   "cell_type": "markdown",
   "metadata": {},
   "source": [
    "    Convert the temperatures to farenheight."
   ]
  },
  {
   "cell_type": "code",
   "execution_count": 59,
   "metadata": {},
   "outputs": [
    {
     "name": "stdout",
     "output_type": "stream",
     "text": [
      "+-------+----------+-----------------+-----------------+-----------------+------------------+-------+\n",
      "|summary|      date|    precipitation|         temp_max|         temp_min|              wind|weather|\n",
      "+-------+----------+-----------------+-----------------+-----------------+------------------+-------+\n",
      "|  count|      1461|             1461|             1461|             1461|              1461|   1461|\n",
      "|   mean|      null|3.029431895961668|16.43908281998631| 8.23477070499658|3.2411362080766604|   null|\n",
      "| stddev|      null|6.680194322314739|7.349758097360176|5.023004179961265|1.4378250588746198|   null|\n",
      "|    min|2012-01-01|              0.0|             -1.6|             -7.1|               0.4|drizzle|\n",
      "|    max|2015-12-31|             55.9|             35.6|             18.3|               9.5|    sun|\n",
      "+-------+----------+-----------------+-----------------+-----------------+------------------+-------+\n",
      "\n"
     ]
    }
   ],
   "source": [
    "weather.describe().show()"
   ]
  },
  {
   "cell_type": "code",
   "execution_count": 63,
   "metadata": {},
   "outputs": [
    {
     "name": "stdout",
     "output_type": "stream",
     "text": [
      "+--------------+--------------+\n",
      "|Max_Fahrenheit|Min_Fahrenheit|\n",
      "+--------------+--------------+\n",
      "|         55.04|          41.0|\n",
      "|         51.08|         37.04|\n",
      "|         53.06|         44.96|\n",
      "|         53.96|         42.08|\n",
      "|         48.02|         37.04|\n",
      "+--------------+--------------+\n",
      "only showing top 5 rows\n",
      "\n"
     ]
    }
   ],
   "source": [
    "weather.select((weather.temp_max*9/5+32).alias(\"Max_Fahrenheit\"),\n",
    "              (weather.temp_min*9/5+32).alias(\"Min_Fahrenheit\")).show(5)"
   ]
  },
  {
   "cell_type": "markdown",
   "metadata": {},
   "source": [
    "    Which month has the most rain, on average?"
   ]
  },
  {
   "cell_type": "code",
   "execution_count": 72,
   "metadata": {},
   "outputs": [],
   "source": [
    "from pyspark.sql.functions import month, year, quarter, col"
   ]
  },
  {
   "cell_type": "code",
   "execution_count": 75,
   "metadata": {},
   "outputs": [],
   "source": [
    "monthtly_total_rain = weather.withColumn(\"month\", month(\"date\")).groupBy(\"month\").agg(sum(\"precipitation\").alias(\"monthly_total_rainfall\"))"
   ]
  },
  {
   "cell_type": "code",
   "execution_count": 74,
   "metadata": {},
   "outputs": [
    {
     "name": "stdout",
     "output_type": "stream",
     "text": [
      "+-----+----------------------+\n",
      "|month|monthly_total_rainfall|\n",
      "+-----+----------------------+\n",
      "|   11|                 642.5|\n",
      "+-----+----------------------+\n",
      "only showing top 1 row\n",
      "\n"
     ]
    }
   ],
   "source": [
    "monthtly_total_rain.sort(col(\"monthly_total_rainfall\").desc()).show(1)"
   ]
  },
  {
   "cell_type": "code",
   "execution_count": 1,
   "metadata": {},
   "outputs": [
    {
     "ename": "NameError",
     "evalue": "name 'monthtly_total_rain' is not defined",
     "output_type": "error",
     "traceback": [
      "\u001b[0;31m---------------------------------------------------------------------------\u001b[0m",
      "\u001b[0;31mNameError\u001b[0m                                 Traceback (most recent call last)",
      "\u001b[0;32m<ipython-input-1-fb7659958190>\u001b[0m in \u001b[0;36m<module>\u001b[0;34m\u001b[0m\n\u001b[0;32m----> 1\u001b[0;31m \u001b[0mmonthtly_total_rain\u001b[0m\u001b[0;34m.\u001b[0m\u001b[0msort\u001b[0m\u001b[0;34m(\u001b[0m\u001b[0mcol\u001b[0m\u001b[0;34m(\u001b[0m\u001b[0;34m\"monthly_total_rainfall\"\u001b[0m\u001b[0;34m)\u001b[0m\u001b[0;34m.\u001b[0m\u001b[0mdesc\u001b[0m\u001b[0;34m(\u001b[0m\u001b[0;34m)\u001b[0m\u001b[0;34m)\u001b[0m\u001b[0;34m.\u001b[0m\u001b[0mfirst\u001b[0m\u001b[0;34m(\u001b[0m\u001b[0;34m)\u001b[0m\u001b[0;34m\u001b[0m\u001b[0;34m\u001b[0m\u001b[0m\n\u001b[0m",
      "\u001b[0;31mNameError\u001b[0m: name 'monthtly_total_rain' is not defined"
     ]
    }
   ],
   "source": [
    "monthtly_total_rain.sort(col(\"monthly_total_rainfall\").desc()).first()"
   ]
  },
  {
   "cell_type": "code",
   "execution_count": 64,
   "metadata": {},
   "outputs": [
    {
     "data": {
      "text/plain": [
       "[('date', 'string'),\n",
       " ('precipitation', 'double'),\n",
       " ('temp_max', 'double'),\n",
       " ('temp_min', 'double'),\n",
       " ('wind', 'double'),\n",
       " ('weather', 'string')]"
      ]
     },
     "execution_count": 64,
     "metadata": {},
     "output_type": "execute_result"
    }
   ],
   "source": [
    "weather.dtypes"
   ]
  },
  {
   "cell_type": "markdown",
   "metadata": {},
   "source": [
    "    Which year was the windiest?"
   ]
  },
  {
   "cell_type": "code",
   "execution_count": 76,
   "metadata": {},
   "outputs": [],
   "source": [
    "windy_years = weather.withColumn(\"year\", year(\"date\")).groupBy(\"year\").agg(sum(\"wind\").alias(\"annual_wind\"))"
   ]
  },
  {
   "cell_type": "code",
   "execution_count": 80,
   "metadata": {},
   "outputs": [
    {
     "name": "stdout",
     "output_type": "stream",
     "text": [
      "+----+------------------+\n",
      "|year|       annual_wind|\n",
      "+----+------------------+\n",
      "|2012|1244.6999999999998|\n",
      "+----+------------------+\n",
      "only showing top 1 row\n",
      "\n"
     ]
    }
   ],
   "source": [
    "windy_years.sort(col('annual_wind').desc()).show(1)"
   ]
  },
  {
   "cell_type": "markdown",
   "metadata": {},
   "source": [
    "    What is the most frequent type of weather in January?"
   ]
  },
  {
   "cell_type": "code",
   "execution_count": 92,
   "metadata": {},
   "outputs": [],
   "source": [
    "with_month_col = weather.withColumn(\"month\", month(\"date\"))\n",
    "#.where(weather[\"month\"] == 1)"
   ]
  },
  {
   "cell_type": "code",
   "execution_count": 97,
   "metadata": {},
   "outputs": [
    {
     "name": "stdout",
     "output_type": "stream",
     "text": [
      "+-------------+-------+---+----+----+---+\n",
      "|month_weather|drizzle|fog|rain|snow|sun|\n",
      "+-------------+-------+---+----+----+---+\n",
      "|            1|     10| 38|  35|   8| 33|\n",
      "+-------------+-------+---+----+----+---+\n",
      "\n"
     ]
    }
   ],
   "source": [
    "with_month_col.where(with_month_col.month == 1).crosstab(\"month\", \"weather\").show()"
   ]
  },
  {
   "cell_type": "code",
   "execution_count": 95,
   "metadata": {},
   "outputs": [
    {
     "name": "stdout",
     "output_type": "stream",
     "text": [
      "+----------+-------------+--------+--------+----+-------+-----+\n",
      "|      date|precipitation|temp_max|temp_min|wind|weather|month|\n",
      "+----------+-------------+--------+--------+----+-------+-----+\n",
      "|2012-01-01|          0.0|    12.8|     5.0| 4.7|drizzle|    1|\n",
      "|2012-01-02|         10.9|    10.6|     2.8| 4.5|   rain|    1|\n",
      "|2012-01-03|          0.8|    11.7|     7.2| 2.3|   rain|    1|\n",
      "|2012-01-04|         20.3|    12.2|     5.6| 4.7|   rain|    1|\n",
      "|2012-01-05|          1.3|     8.9|     2.8| 6.1|   rain|    1|\n",
      "|2012-01-06|          2.5|     4.4|     2.2| 2.2|   rain|    1|\n",
      "|2012-01-07|          0.0|     7.2|     2.8| 2.3|   rain|    1|\n",
      "|2012-01-08|          0.0|    10.0|     2.8| 2.0|    sun|    1|\n",
      "|2012-01-09|          4.3|     9.4|     5.0| 3.4|   rain|    1|\n",
      "|2012-01-10|          1.0|     6.1|     0.6| 3.4|   rain|    1|\n",
      "|2012-01-11|          0.0|     6.1|    -1.1| 5.1|    sun|    1|\n",
      "|2012-01-12|          0.0|     6.1|    -1.7| 1.9|    sun|    1|\n",
      "|2012-01-13|          0.0|     5.0|    -2.8| 1.3|    sun|    1|\n",
      "|2012-01-14|          4.1|     4.4|     0.6| 5.3|   snow|    1|\n",
      "|2012-01-15|          5.3|     1.1|    -3.3| 3.2|   snow|    1|\n",
      "|2012-01-16|          2.5|     1.7|    -2.8| 5.0|   snow|    1|\n",
      "|2012-01-17|          8.1|     3.3|     0.0| 5.6|   snow|    1|\n",
      "|2012-01-18|         19.8|     0.0|    -2.8| 5.0|   snow|    1|\n",
      "|2012-01-19|         15.2|    -1.1|    -2.8| 1.6|   snow|    1|\n",
      "|2012-01-20|         13.5|     7.2|    -1.1| 2.3|   snow|    1|\n",
      "+----------+-------------+--------+--------+----+-------+-----+\n",
      "only showing top 20 rows\n",
      "\n"
     ]
    }
   ],
   "source": [
    "with_month_col.where(with_month_col[\"month\"] == 1).show()"
   ]
  },
  {
   "cell_type": "markdown",
   "metadata": {},
   "source": [
    "    What is the average high and low tempurature on sunny days in July in 2013 and 2014?"
   ]
  },
  {
   "cell_type": "code",
   "execution_count": 100,
   "metadata": {},
   "outputs": [],
   "source": [
    "just_july = with_month_col.filter(with_month_col.month == 7)"
   ]
  },
  {
   "cell_type": "code",
   "execution_count": 102,
   "metadata": {},
   "outputs": [],
   "source": [
    "july_years = just_july.withColumn(\"year\", year(\"date\"))"
   ]
  },
  {
   "cell_type": "code",
   "execution_count": 106,
   "metadata": {},
   "outputs": [],
   "source": [
    "july2013_14 = july_years.filter((july_years.year == 2013)|(july_years.year == 2014))"
   ]
  },
  {
   "cell_type": "code",
   "execution_count": 115,
   "metadata": {},
   "outputs": [
    {
     "name": "stdout",
     "output_type": "stream",
     "text": [
      "+-------+------------------+-----------------+\n",
      "|weather|     avg(temp_max)|    avg(temp_min)|\n",
      "+-------+------------------+-----------------+\n",
      "|    sun|26.828846153846158|14.18269230769231|\n",
      "+-------+------------------+-----------------+\n",
      "\n"
     ]
    }
   ],
   "source": [
    "july2013_14.filter(july2013_14.weather == 'sun').groupBy('weather').agg(avg('temp_max'), avg('temp_min')).show()"
   ]
  },
  {
   "cell_type": "code",
   "execution_count": 111,
   "metadata": {},
   "outputs": [],
   "source": [
    "sunny_july_2013_14 = july2013_14.filter(july2013_14.weather == 'sun')"
   ]
  },
  {
   "cell_type": "code",
   "execution_count": null,
   "metadata": {},
   "outputs": [],
   "source": [
    "sunny_july_2013_14."
   ]
  },
  {
   "cell_type": "code",
   "execution_count": null,
   "metadata": {},
   "outputs": [],
   "source": [
    "#mpg.filter(mpg.cyl == 4).where(mpg[\"class\"] == \"subcompact\").show()"
   ]
  },
  {
   "cell_type": "markdown",
   "metadata": {},
   "source": [
    "    What percentage of days were rainy in q3 of 2015?"
   ]
  },
  {
   "cell_type": "code",
   "execution_count": 130,
   "metadata": {},
   "outputs": [],
   "source": [
    "weather_2015 = weather_years.filter(weather_years.year == '2015') "
   ]
  },
  {
   "cell_type": "code",
   "execution_count": 135,
   "metadata": {},
   "outputs": [],
   "source": [
    "weather_2015Q3 = weather_2015.filter((weather.date > '2015-07-01') & (weather.date < '2015-09-30'))"
   ]
  },
  {
   "cell_type": "code",
   "execution_count": 138,
   "metadata": {},
   "outputs": [
    {
     "name": "stdout",
     "output_type": "stream",
     "text": [
      "+-------+--------------+\n",
      "|weather|count(weather)|\n",
      "+-------+--------------+\n",
      "|    fog|            20|\n",
      "|drizzle|             5|\n",
      "|   rain|             2|\n",
      "|    sun|            63|\n",
      "+-------+--------------+\n",
      "\n"
     ]
    }
   ],
   "source": [
    "weather_2015Q3.groupBy('weather').agg(count('weather')).show()"
   ]
  },
  {
   "cell_type": "code",
   "execution_count": 166,
   "metadata": {},
   "outputs": [
    {
     "name": "stdout",
     "output_type": "stream",
     "text": [
      "+-------+---------------------+\n",
      "|weather|(count(weather) / 90)|\n",
      "+-------+---------------------+\n",
      "|    fog|   0.2222222222222222|\n",
      "|drizzle|  0.05555555555555555|\n",
      "|   rain| 0.022222222222222223|\n",
      "|    sun|                  0.7|\n",
      "+-------+---------------------+\n",
      "\n"
     ]
    }
   ],
   "source": [
    "weather_2015Q3.groupBy('weather').agg((count('weather')/q3size)).show()"
   ]
  },
  {
   "cell_type": "code",
   "execution_count": 165,
   "metadata": {},
   "outputs": [],
   "source": [
    "q3size = weather_2015Q3.count()"
   ]
  },
  {
   "cell_type": "code",
   "execution_count": 149,
   "metadata": {},
   "outputs": [
    {
     "name": "stdout",
     "output_type": "stream",
     "text": [
      "+-------+-----+\n",
      "|weather|count|\n",
      "+-------+-----+\n",
      "|   null|   90|\n",
      "|    fog|   20|\n",
      "|    sun|   63|\n",
      "|   rain|    2|\n",
      "|drizzle|    5|\n",
      "+-------+-----+\n",
      "\n"
     ]
    }
   ],
   "source": [
    "weather_2015Q3.rollup('weather').count().show()"
   ]
  },
  {
   "cell_type": "markdown",
   "metadata": {},
   "source": [
    "    For each year, find what percentage of days it rained (had non-zero precipitation)."
   ]
  },
  {
   "cell_type": "code",
   "execution_count": 155,
   "metadata": {},
   "outputs": [
    {
     "name": "stdout",
     "output_type": "stream",
     "text": [
      "+----+------------------+\n",
      "|year|sum(precipitation)|\n",
      "+----+------------------+\n",
      "|2015|1139.1999999999996|\n",
      "|2013| 827.9999999999995|\n",
      "|2014| 1232.799999999999|\n",
      "|2012|1225.9999999999989|\n",
      "+----+------------------+\n",
      "\n"
     ]
    }
   ],
   "source": [
    "weather_years.groupBy('year').agg(sum('precipitation')).show()"
   ]
  },
  {
   "cell_type": "code",
   "execution_count": 157,
   "metadata": {},
   "outputs": [],
   "source": [
    "no_rain = weather_years.filter(weather_years.precipitation == 0)"
   ]
  },
  {
   "cell_type": "code",
   "execution_count": 164,
   "metadata": {},
   "outputs": [
    {
     "name": "stdout",
     "output_type": "stream",
     "text": [
      "+----+------------------------------+\n",
      "|year|% of Year with 0 Precipitation|\n",
      "+----+------------------------------+\n",
      "|2015|            0.6054794520547945|\n",
      "|2013|            0.5835616438356165|\n",
      "|2014|             0.589041095890411|\n",
      "|2012|            0.5178082191780822|\n",
      "+----+------------------------------+\n",
      "\n"
     ]
    }
   ],
   "source": [
    "no_rain.groupBy('year').agg((count('year')/365).alias(\"% of Year with 0 Precipitation\")).show()                            \n",
    "#tips.groupBy(tips.smoker).agg((count(tips.smoker)/244).alias(\"Percentage of 244 Customers\")).show()"
   ]
  },
  {
   "cell_type": "code",
   "execution_count": null,
   "metadata": {},
   "outputs": [],
   "source": []
  }
 ],
 "metadata": {
  "kernelspec": {
   "display_name": "Python 3",
   "language": "python",
   "name": "python3"
  },
  "language_info": {
   "codemirror_mode": {
    "name": "ipython",
    "version": 3
   },
   "file_extension": ".py",
   "mimetype": "text/x-python",
   "name": "python",
   "nbconvert_exporter": "python",
   "pygments_lexer": "ipython3",
   "version": "3.7.3"
  }
 },
 "nbformat": 4,
 "nbformat_minor": 2
}
