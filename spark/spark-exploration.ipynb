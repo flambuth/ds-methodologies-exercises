{
 "cells": [
  {
   "cell_type": "code",
   "execution_count": 1,
   "metadata": {},
   "outputs": [],
   "source": [
    "import warnings\n",
    "\n",
    "warnings.filterwarnings(\"ignore\")\n",
    "\n",
    "import pyspark.sql\n",
    "from pyspark.sql.functions import *\n",
    "\n",
    "import numpy as np\n",
    "import pandas as pd\n",
    "\n",
    "%matplotlib inline\n",
    "import matplotlib.pyplot as plt\n",
    "import seaborn as sns\n",
    "\n",
    "from wrangle import wrangle_311\n",
    "\n",
    "spark = pyspark.sql.SparkSession.builder.getOrCreate()"
   ]
  },
  {
   "cell_type": "markdown",
   "metadata": {},
   "source": [
    "Answer the questions below by using a combination of the techniques discussed in the lesson that you think is appropriate."
   ]
  },
  {
   "cell_type": "code",
   "execution_count": 2,
   "metadata": {},
   "outputs": [
    {
     "name": "stdout",
     "output_type": "stream",
     "text": [
      "[wrangle.py] reading case.csv\n",
      "[wrangle.py] handling data types\n",
      "[wrangle.py] parsing dates\n",
      "[wrangle.py] adding features\n",
      "[wrangle.py] joining departments\n"
     ]
    }
   ],
   "source": [
    "df = wrangle_311(spark)"
   ]
  },
  {
   "cell_type": "code",
   "execution_count": 6,
   "metadata": {},
   "outputs": [
    {
     "data": {
      "text/plain": [
       "[('case_id', 'int'),\n",
       " ('case_opened_date', 'timestamp'),\n",
       " ('case_closed_date', 'timestamp'),\n",
       " ('case_due_date', 'timestamp'),\n",
       " ('case_late', 'boolean'),\n",
       " ('num_days_late', 'double'),\n",
       " ('case_closed', 'boolean'),\n",
       " ('service_request_type', 'string'),\n",
       " ('SLA_days', 'double'),\n",
       " ('case_status', 'string'),\n",
       " ('source_id', 'string'),\n",
       " ('request_address', 'string'),\n",
       " ('council_district', 'string'),\n",
       " ('num_weeks_late', 'double'),\n",
       " ('zipcode', 'string'),\n",
       " ('case_age', 'int'),\n",
       " ('days_to_closed', 'int'),\n",
       " ('case_lifetime', 'int'),\n",
       " ('department', 'string'),\n",
       " ('dept_subject_to_SLA', 'boolean')]"
      ]
     },
     "execution_count": 6,
     "metadata": {},
     "output_type": "execute_result"
    }
   ],
   "source": [
    "df.dtypes"
   ]
  },
  {
   "cell_type": "markdown",
   "metadata": {},
   "source": [
    "How many different cases are there, by department?"
   ]
  },
  {
   "cell_type": "code",
   "execution_count": 9,
   "metadata": {},
   "outputs": [
    {
     "name": "stdout",
     "output_type": "stream",
     "text": [
      "+--------------------+------+\n",
      "|          department| count|\n",
      "+--------------------+------+\n",
      "|        City Council|    33|\n",
      "|    Customer Service|  2849|\n",
      "|        Metro Health|  5163|\n",
      "|  Parks & Recreation| 19907|\n",
      "|Trans & Cap Impro...| 96193|\n",
      "|Animal Care Services|116915|\n",
      "|         Solid Waste|279270|\n",
      "|DSD/Code Enforcement|321374|\n",
      "+--------------------+------+\n",
      "\n"
     ]
    }
   ],
   "source": [
    "df.groupBy('department').count().sort('count').show()"
   ]
  },
  {
   "cell_type": "markdown",
   "metadata": {},
   "source": [
    "Does the percentage of cases that are late vary by department?"
   ]
  },
  {
   "cell_type": "code",
   "execution_count": 15,
   "metadata": {},
   "outputs": [],
   "source": [
    "dept_late = df.crosstab(\"department\", \"case_late\")"
   ]
  },
  {
   "cell_type": "code",
   "execution_count": 19,
   "metadata": {},
   "outputs": [
    {
     "data": {
      "text/plain": [
       "[('department_case_late', 'string'), ('false', 'bigint'), ('true', 'bigint')]"
      ]
     },
     "execution_count": 19,
     "metadata": {},
     "output_type": "execute_result"
    }
   ],
   "source": [
    "dept_late.dtypes"
   ]
  },
  {
   "cell_type": "code",
   "execution_count": 21,
   "metadata": {},
   "outputs": [
    {
     "name": "stdout",
     "output_type": "stream",
     "text": [
      "+--------------------+------------------------+\n",
      "|department_case_late|Percentage of Cases Late|\n",
      "+--------------------+------------------------+\n",
      "|        City Council|                     0.0|\n",
      "|         Solid Waste|      0.1179682744297633|\n",
      "|Trans & Cap Impro...|     0.05625149439148379|\n",
      "|  Parks & Recreation|     0.19073692670919776|\n",
      "|    Customer Service|      0.7055107055107055|\n",
      "|DSD/Code Enforcement|      0.0816338596152769|\n",
      "|Animal Care Services|     0.19908480520035923|\n",
      "|        Metro Health|     0.16056556265736974|\n",
      "+--------------------+------------------------+\n",
      "\n"
     ]
    }
   ],
   "source": [
    "dept_late.select(\n",
    "    dept_late.department_case_late, \n",
    "    (dept_late.true/(dept_late.true + dept_late.false)).alias(\"Percentage of Cases Late\")\n",
    ").show()"
   ]
  },
  {
   "cell_type": "markdown",
   "metadata": {},
   "source": [
    "On average, how late are the late cases by department?"
   ]
  },
  {
   "cell_type": "code",
   "execution_count": 23,
   "metadata": {},
   "outputs": [
    {
     "name": "stdout",
     "output_type": "stream",
     "text": [
      "+--------------------+------------------+\n",
      "|          department|avg(num_days_late)|\n",
      "+--------------------+------------------+\n",
      "|         Solid Waste| 7.186821906120906|\n",
      "|Animal Care Services|23.458633245820135|\n",
      "|Trans & Cap Impro...| 10.60306468031694|\n",
      "|  Parks & Recreation|22.348910457867508|\n",
      "|    Customer Service| 87.68385942150395|\n",
      "|        Metro Health| 6.543813315547647|\n",
      "|DSD/Code Enforcement|49.384287053588935|\n",
      "+--------------------+------------------+\n",
      "\n"
     ]
    }
   ],
   "source": [
    "df.filter(df.num_days_late>0).groupBy('department').mean('num_days_late').show()"
   ]
  },
  {
   "cell_type": "markdown",
   "metadata": {},
   "source": [
    "What is the service type that is the most late? "
   ]
  },
  {
   "cell_type": "code",
   "execution_count": 32,
   "metadata": {},
   "outputs": [
    {
     "data": {
      "text/plain": [
       "'Zoning: Recycle Yard'"
      ]
     },
     "execution_count": 32,
     "metadata": {},
     "output_type": "execute_result"
    }
   ],
   "source": [
    "df.filter(df.num_days_late>0).groupBy(\n",
    "    'service_request_type').mean(\n",
    "    'num_days_late').sort(desc(\n",
    "    \"avg(num_days_late)\")).first().service_request_type"
   ]
  },
  {
   "cell_type": "markdown",
   "metadata": {},
   "source": [
    "Just for Parks & Rec?"
   ]
  },
  {
   "cell_type": "code",
   "execution_count": 33,
   "metadata": {},
   "outputs": [
    {
     "data": {
      "text/plain": [
       "'Amenity Park Improvement'"
      ]
     },
     "execution_count": 33,
     "metadata": {},
     "output_type": "execute_result"
    }
   ],
   "source": [
    "df.filter(df.num_days_late>0).where(df['department'] == 'Parks & Recreation').groupBy(\n",
    "    'service_request_type').mean(\n",
    "    'num_days_late').sort(desc(\n",
    "    \"avg(num_days_late)\")).first().service_request_type"
   ]
  },
  {
   "cell_type": "markdown",
   "metadata": {},
   "source": [
    "For the DSD/Code Enforcement department, what are the most common service request types? Look at other departments too."
   ]
  },
  {
   "cell_type": "code",
   "execution_count": 39,
   "metadata": {},
   "outputs": [
    {
     "data": {
      "text/plain": [
       "[Row(service_request_type='Overgrown Yard/Trash', count=65895),\n",
       " Row(service_request_type='Bandit Signs', count=32910),\n",
       " Row(service_request_type='Front Or Side Yard Parking', count=28794),\n",
       " Row(service_request_type='Junk Vehicle On Private Property', count=21473),\n",
       " Row(service_request_type='Alley-Way Maintenance', count=20214)]"
      ]
     },
     "execution_count": 39,
     "metadata": {},
     "output_type": "execute_result"
    }
   ],
   "source": [
    "df.where(df['department'] == \"DSD/Code Enforcement\").groupBy('service_request_type').count().sort(desc('count')).head(5)"
   ]
  },
  {
   "cell_type": "markdown",
   "metadata": {},
   "source": [
    "Does whether or not its a weekend matter for when a case is opened/closed?"
   ]
  },
  {
   "cell_type": "code",
   "execution_count": 41,
   "metadata": {},
   "outputs": [],
   "source": [
    "#Create a sparkDF that is just the department column, the date opened/closed columns reduced down to calendar day.\n",
    "cases_by_day = df.select(\n",
    "    \"department\",\n",
    "    date_format(\"case_opened_date\", \"yyyy-MM-dd\").alias(\"case_opened_date\"),\n",
    "    date_format(\"case_closed_date\", \"yyyy-MM-dd\").alias(\"case_closed_date\"),\n",
    ")"
   ]
  },
  {
   "cell_type": "code",
   "execution_count": 46,
   "metadata": {},
   "outputs": [
    {
     "data": {
      "text/plain": [
       "[Row(case_opened_date='2017-02-21', count=2438),\n",
       " Row(case_opened_date='2018-08-07', count=2405),\n",
       " Row(case_opened_date='2018-04-17', count=2388),\n",
       " Row(case_opened_date='2017-02-28', count=2370),\n",
       " Row(case_opened_date='2018-03-26', count=2349)]"
      ]
     },
     "execution_count": 46,
     "metadata": {},
     "output_type": "execute_result"
    }
   ],
   "source": [
    "cases_by_day.groupBy('case_opened_date').count().sort(desc('count')).head(5)"
   ]
  },
  {
   "cell_type": "code",
   "execution_count": 55,
   "metadata": {},
   "outputs": [],
   "source": [
    "blob = (\n",
    "    cases_by_day\n",
    "    .groupby('case_opened_date')\n",
    "    .count()\n",
    "    .na.drop()\n",
    "    .sort('case_opened_date')\n",
    "    .toPandas()\n",
    "    .assign(case_opened_date=lambda df: pd.to_datetime(df.case_opened_date))\n",
    "    .set_index('case_opened_date')\n",
    ")"
   ]
  },
  {
   "cell_type": "code",
   "execution_count": 47,
   "metadata": {},
   "outputs": [],
   "source": [
    "#Creates a panda series\n",
    "#  From the previous sparkDF, they're grouped by their open date, and each record with that open date is counted. The\n",
    "#  count is the value.\n",
    "#  That sorted, nulldropped groupby SparkDF is made into a PandasDF, and the case_opened_date (which is the groups)\n",
    "#  is turned into a pandas datetime type, which is then set as the index.\n",
    "#  WTF is that ['count'] at the end do?\n",
    "cases_opened_by_day = (\n",
    "    cases_by_day\n",
    "    .groupby('case_opened_date')\n",
    "    .count()\n",
    "    .na.drop()\n",
    "    .sort('case_opened_date')\n",
    "    .toPandas()\n",
    "    .assign(case_opened_date=lambda df: pd.to_datetime(df.case_opened_date))\n",
    "    .set_index('case_opened_date')\n",
    "    ['count']\n",
    ")\n",
    "#That ['count'] is specifically naming the only column in the dataframe made by .topandas\n",
    "#Without the ['count'], a DF would be assigned, rather than a Series"
   ]
  },
  {
   "cell_type": "code",
   "execution_count": 68,
   "metadata": {},
   "outputs": [
    {
     "data": {
      "text/html": [
       "<div>\n",
       "<style scoped>\n",
       "    .dataframe tbody tr th:only-of-type {\n",
       "        vertical-align: middle;\n",
       "    }\n",
       "\n",
       "    .dataframe tbody tr th {\n",
       "        vertical-align: top;\n",
       "    }\n",
       "\n",
       "    .dataframe thead th {\n",
       "        text-align: right;\n",
       "    }\n",
       "</style>\n",
       "<table border=\"1\" class=\"dataframe\">\n",
       "  <thead>\n",
       "    <tr style=\"text-align: right;\">\n",
       "      <th></th>\n",
       "      <th>count</th>\n",
       "      <th>Day_Of_Week</th>\n",
       "    </tr>\n",
       "    <tr>\n",
       "      <th>case_opened_date</th>\n",
       "      <th></th>\n",
       "      <th></th>\n",
       "    </tr>\n",
       "  </thead>\n",
       "  <tbody>\n",
       "    <tr>\n",
       "      <th>2017-01-01</th>\n",
       "      <td>155</td>\n",
       "      <td>Sunday</td>\n",
       "    </tr>\n",
       "    <tr>\n",
       "      <th>2017-01-02</th>\n",
       "      <td>1397</td>\n",
       "      <td>Monday</td>\n",
       "    </tr>\n",
       "    <tr>\n",
       "      <th>2017-01-03</th>\n",
       "      <td>1760</td>\n",
       "      <td>Tuesday</td>\n",
       "    </tr>\n",
       "    <tr>\n",
       "      <th>2017-01-04</th>\n",
       "      <td>1613</td>\n",
       "      <td>Wednesday</td>\n",
       "    </tr>\n",
       "    <tr>\n",
       "      <th>2017-01-05</th>\n",
       "      <td>1791</td>\n",
       "      <td>Thursday</td>\n",
       "    </tr>\n",
       "    <tr>\n",
       "      <th>...</th>\n",
       "      <td>...</td>\n",
       "      <td>...</td>\n",
       "    </tr>\n",
       "    <tr>\n",
       "      <th>2018-08-04</th>\n",
       "      <td>665</td>\n",
       "      <td>Saturday</td>\n",
       "    </tr>\n",
       "    <tr>\n",
       "      <th>2018-08-05</th>\n",
       "      <td>319</td>\n",
       "      <td>Sunday</td>\n",
       "    </tr>\n",
       "    <tr>\n",
       "      <th>2018-08-06</th>\n",
       "      <td>2071</td>\n",
       "      <td>Monday</td>\n",
       "    </tr>\n",
       "    <tr>\n",
       "      <th>2018-08-07</th>\n",
       "      <td>2405</td>\n",
       "      <td>Tuesday</td>\n",
       "    </tr>\n",
       "    <tr>\n",
       "      <th>2018-08-08</th>\n",
       "      <td>604</td>\n",
       "      <td>Wednesday</td>\n",
       "    </tr>\n",
       "  </tbody>\n",
       "</table>\n",
       "<p>585 rows × 2 columns</p>\n",
       "</div>"
      ],
      "text/plain": [
       "                  count Day_Of_Week\n",
       "case_opened_date                   \n",
       "2017-01-01          155      Sunday\n",
       "2017-01-02         1397      Monday\n",
       "2017-01-03         1760     Tuesday\n",
       "2017-01-04         1613   Wednesday\n",
       "2017-01-05         1791    Thursday\n",
       "...                 ...         ...\n",
       "2018-08-04          665    Saturday\n",
       "2018-08-05          319      Sunday\n",
       "2018-08-06         2071      Monday\n",
       "2018-08-07         2405     Tuesday\n",
       "2018-08-08          604   Wednesday\n",
       "\n",
       "[585 rows x 2 columns]"
      ]
     },
     "execution_count": 68,
     "metadata": {},
     "output_type": "execute_result"
    }
   ],
   "source": [
    "blob"
   ]
  },
  {
   "cell_type": "code",
   "execution_count": 63,
   "metadata": {},
   "outputs": [],
   "source": [
    "blob['Day_Of_Week'] = blob.index.strftime(\"%A\")"
   ]
  },
  {
   "cell_type": "code",
   "execution_count": 75,
   "metadata": {},
   "outputs": [
    {
     "data": {
      "text/plain": [
       "<matplotlib.axes._subplots.AxesSubplot at 0x1a216ff828>"
      ]
     },
     "execution_count": 75,
     "metadata": {},
     "output_type": "execute_result"
    },
    {
     "data": {
      "image/png": "[encoded data removed]",
      "text/plain": [
       "<Figure size 432x288 with 1 Axes>"
      ]
     },
     "metadata": {
      "needs_background": "light"
     },
     "output_type": "display_data"
    }
   ],
   "source": [
    "blob.groupby('Day_Of_Week')['count'].mean().plot('bar')"
   ]
  },
  {
   "cell_type": "code",
   "execution_count": 59,
   "metadata": {},
   "outputs": [
    {
     "data": {
      "text/plain": [
       "pandas.core.series.Series"
      ]
     },
     "execution_count": 59,
     "metadata": {},
     "output_type": "execute_result"
    }
   ],
   "source": [
    "type(cases_opened_by_day)"
   ]
  },
  {
   "cell_type": "code",
   "execution_count": 62,
   "metadata": {},
   "outputs": [
    {
     "data": {
      "text/plain": [
       "'Sunday'"
      ]
     },
     "execution_count": 62,
     "metadata": {},
     "output_type": "execute_result"
    }
   ],
   "source": [
    "cases_opened_by_day.index[0].strftime(\"%A\")"
   ]
  },
  {
   "cell_type": "markdown",
   "metadata": {},
   "source": [
    "On average, how many cases are opened a day for the Customer Service department?"
   ]
  },
  {
   "cell_type": "code",
   "execution_count": 78,
   "metadata": {},
   "outputs": [],
   "source": [
    "customer_service = cases_by_day.filter(cases_by_day.department == 'Customer Service')"
   ]
  },
  {
   "cell_type": "code",
   "execution_count": 82,
   "metadata": {},
   "outputs": [],
   "source": [
    "cs_df = customer_service.toPandas()"
   ]
  },
  {
   "cell_type": "code",
   "execution_count": 89,
   "metadata": {},
   "outputs": [],
   "source": [
    "cs_df = cs_df.assign(case_opened_date=lambda df: pd.to_datetime(df.case_opened_date))"
   ]
  },
  {
   "cell_type": "code",
   "execution_count": 90,
   "metadata": {},
   "outputs": [],
   "source": [
    "cs_df = cs_df.assign(case_closed_date=lambda df: pd.to_datetime(df.case_opened_date))"
   ]
  },
  {
   "cell_type": "code",
   "execution_count": 93,
   "metadata": {},
   "outputs": [
    {
     "data": {
      "text/plain": [
       "pandas._libs.tslibs.timestamps.Timestamp"
      ]
     },
     "execution_count": 93,
     "metadata": {},
     "output_type": "execute_result"
    }
   ],
   "source": [
    "type(cs_df.case_opened_date.max())"
   ]
  },
  {
   "cell_type": "code",
   "execution_count": 96,
   "metadata": {},
   "outputs": [],
   "source": [
    "time_range = cs_df.case_opened_date.max() - cs_df.case_opened_date.min()"
   ]
  },
  {
   "cell_type": "code",
   "execution_count": 97,
   "metadata": {},
   "outputs": [
    {
     "data": {
      "text/plain": [
       "582"
      ]
     },
     "execution_count": 97,
     "metadata": {},
     "output_type": "execute_result"
    }
   ],
   "source": [
    "time_range.days"
   ]
  },
  {
   "cell_type": "code",
   "execution_count": 98,
   "metadata": {},
   "outputs": [
    {
     "data": {
      "text/plain": [
       "4.8951890034364265"
      ]
     },
     "execution_count": 98,
     "metadata": {},
     "output_type": "execute_result"
    }
   ],
   "source": [
    "customer_service.count()/time_range.days"
   ]
  },
  {
   "cell_type": "markdown",
   "metadata": {},
   "source": [
    "Does the number of service requests for the solid waste department vary by day of the week?"
   ]
  },
  {
   "cell_type": "code",
   "execution_count": 99,
   "metadata": {},
   "outputs": [],
   "source": [
    "solid_waste = cases_by_day.filter(cases_by_day.department == 'Solid Waste')"
   ]
  },
  {
   "cell_type": "code",
   "execution_count": 105,
   "metadata": {},
   "outputs": [
    {
     "data": {
      "text/plain": [
       "[Row(department='Solid Waste', case_opened_date='2018-01-01', case_closed_date='2018-01-02'),\n",
       " Row(department='Solid Waste', case_opened_date='2018-01-01', case_closed_date='2018-01-02'),\n",
       " Row(department='Solid Waste', case_opened_date='2018-01-01', case_closed_date='2018-01-02'),\n",
       " Row(department='Solid Waste', case_opened_date='2018-01-01', case_closed_date='2018-01-02'),\n",
       " Row(department='Solid Waste', case_opened_date='2018-01-01', case_closed_date='2018-01-02')]"
      ]
     },
     "execution_count": 105,
     "metadata": {},
     "output_type": "execute_result"
    }
   ],
   "source": [
    "solid_waste.head(5)"
   ]
  },
  {
   "cell_type": "code",
   "execution_count": 123,
   "metadata": {},
   "outputs": [],
   "source": [
    "solid_waste_pandas = (\n",
    "    solid_waste\n",
    "    .groupby('case_opened_date')\n",
    "    .count()\n",
    "    .na.drop()\n",
    "    .sort('case_opened_date')\n",
    "    .toPandas()\n",
    "    .assign(case_opened_date=lambda df: pd.to_datetime(df.case_opened_date))\n",
    "    .set_index('case_opened_date')\n",
    "    ['count']\n",
    ")"
   ]
  },
  {
   "cell_type": "code",
   "execution_count": 124,
   "metadata": {},
   "outputs": [],
   "source": [
    "DoW = solid_waste_pandas.index.strftime(\"%A\")"
   ]
  },
  {
   "cell_type": "code",
   "execution_count": 127,
   "metadata": {},
   "outputs": [
    {
     "data": {
      "text/plain": [
       "Index(['Sunday', 'Monday', 'Tuesday', 'Wednesday', 'Thursday', 'Friday',\n",
       "       'Saturday', 'Sunday', 'Monday', 'Tuesday',\n",
       "       ...\n",
       "       'Monday', 'Tuesday', 'Wednesday', 'Thursday', 'Friday', 'Saturday',\n",
       "       'Sunday', 'Monday', 'Tuesday', 'Wednesday'],\n",
       "      dtype='object', length=585)"
      ]
     },
     "execution_count": 127,
     "metadata": {},
     "output_type": "execute_result"
    }
   ],
   "source": [
    "DoW"
   ]
  },
  {
   "cell_type": "code",
   "execution_count": 130,
   "metadata": {},
   "outputs": [],
   "source": [
    "solid_waste_pandas['DoW'] = solid_waste_pandas.index.strftime(\"%A\")"
   ]
  },
  {
   "cell_type": "code",
   "execution_count": 125,
   "metadata": {},
   "outputs": [],
   "source": [
    "solid_waste_pandas = pd.DataFrame(solid_waste_pandas)"
   ]
  },
  {
   "cell_type": "code",
   "execution_count": 133,
   "metadata": {},
   "outputs": [
    {
     "data": {
      "text/plain": [
       "<matplotlib.axes._subplots.AxesSubplot at 0x1a22eed080>"
      ]
     },
     "execution_count": 133,
     "metadata": {},
     "output_type": "execute_result"
    },
    {
     "data": {
      "image/png": "[encoded data removed]",
      "text/plain": [
       "<Figure size 432x288 with 1 Axes>"
      ]
     },
     "metadata": {
      "needs_background": "light"
     },
     "output_type": "display_data"
    }
   ],
   "source": [
    "solid_waste_pandas.groupby('DoW')['count'].mean().plot('bar')"
   ]
  },
  {
   "cell_type": "code",
   "execution_count": null,
   "metadata": {},
   "outputs": [],
   "source": []
  }
 ],
 "metadata": {
  "kernelspec": {
   "display_name": "Python 3",
   "language": "python",
   "name": "python3"
  },
  "language_info": {
   "codemirror_mode": {
    "name": "ipython",
    "version": 3
   },
   "file_extension": ".py",
   "mimetype": "text/x-python",
   "name": "python",
   "nbconvert_exporter": "python",
   "pygments_lexer": "ipython3",
   "version": "3.7.3"
  }
 },
 "nbformat": 4,
 "nbformat_minor": 2
}
