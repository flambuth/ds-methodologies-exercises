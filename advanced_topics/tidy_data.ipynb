{
 "cells": [
  {
   "cell_type": "code",
   "execution_count": 68,
   "metadata": {},
   "outputs": [],
   "source": [
    "import pandas as pd\n",
    "import numpy as np\n",
    "from scipy import stats"
   ]
  },
  {
   "cell_type": "markdown",
   "metadata": {},
   "source": [
    "# 1\n",
    "\n",
    "Load the attendance.csv file and calculate an attendnace percentage for each student. \n",
    "\n",
    "One half day is worth 50% of a full day, and 10 tardies is equal to one absence."
   ]
  },
  {
   "cell_type": "code",
   "execution_count": 2,
   "metadata": {},
   "outputs": [],
   "source": [
    "df = pd.read_csv(\"untidy_data/attendance.csv\")"
   ]
  },
  {
   "cell_type": "code",
   "execution_count": 5,
   "metadata": {},
   "outputs": [],
   "source": [
    "df = df.rename(columns={\"Unnamed: 0\": \"Student\"})"
   ]
  },
  {
   "cell_type": "code",
   "execution_count": 10,
   "metadata": {},
   "outputs": [],
   "source": [
    "df = df.melt(id_vars=\"Student\", var_name='date', value_name='attendance')"
   ]
  },
  {
   "cell_type": "code",
   "execution_count": 12,
   "metadata": {},
   "outputs": [
    {
     "data": {
      "text/plain": [
       "array(['P', 'A', 'T', 'H'], dtype=object)"
      ]
     },
     "execution_count": 12,
     "metadata": {},
     "output_type": "execute_result"
    }
   ],
   "source": [
    "df.attendance.uniqueque()"
   ]
  },
  {
   "cell_type": "code",
   "execution_count": 19,
   "metadata": {},
   "outputs": [
    {
     "name": "stdout",
     "output_type": "stream",
     "text": [
      "<class 'pandas.core.frame.DataFrame'>\n",
      "RangeIndex: 32 entries, 0 to 31\n",
      "Data columns (total 4 columns):\n",
      "Student       32 non-null object\n",
      "date          32 non-null object\n",
      "attendance    32 non-null object\n",
      "Score         32 non-null float64\n",
      "dtypes: float64(1), object(3)\n",
      "memory usage: 1.1+ KB\n"
     ]
    }
   ],
   "source": [
    "df.info()"
   ]
  },
  {
   "cell_type": "code",
   "execution_count": 13,
   "metadata": {},
   "outputs": [],
   "source": [
    "#A dictionary that corresponds a score for each of the attendance options.\n",
    "event_dictionary ={'P' : 1, 'A' : 0, 'T' : 1, 'H' : 0.5} "
   ]
  },
  {
   "cell_type": "code",
   "execution_count": 17,
   "metadata": {},
   "outputs": [],
   "source": [
    "#Create a new column that is made from the attendance column.\n",
    "#dataframe.map is used to create the values.\n",
    "df['Score'] = df['attendance'].map(event_dictionary)"
   ]
  },
  {
   "cell_type": "code",
   "execution_count": 25,
   "metadata": {},
   "outputs": [
    {
     "data": {
      "text/plain": [
       "Student\n",
       "Billy    0.5625\n",
       "Jane     0.7500\n",
       "John     0.9375\n",
       "Sally    0.8125\n",
       "Name: Score, dtype: float64"
      ]
     },
     "execution_count": 25,
     "metadata": {},
     "output_type": "execute_result"
    }
   ],
   "source": [
    "\n",
    "df.groupby('Student')['Score'].sum()/8"
   ]
  },
  {
   "cell_type": "code",
   "execution_count": 28,
   "metadata": {},
   "outputs": [],
   "source": [
    "sally = df[df.Student == 'Sally']"
   ]
  },
  {
   "cell_type": "code",
   "execution_count": 29,
   "metadata": {},
   "outputs": [
    {
     "data": {
      "text/plain": [
       "6.5"
      ]
     },
     "execution_count": 29,
     "metadata": {},
     "output_type": "execute_result"
    }
   ],
   "source": [
    "sally.Score.sum()"
   ]
  },
  {
   "cell_type": "code",
   "execution_count": 30,
   "metadata": {},
   "outputs": [
    {
     "data": {
      "text/plain": [
       "0.8125"
      ]
     },
     "execution_count": 30,
     "metadata": {},
     "output_type": "execute_result"
    }
   ],
   "source": [
    "6.5/8"
   ]
  },
  {
   "cell_type": "code",
   "execution_count": 104,
   "metadata": {},
   "outputs": [
    {
     "data": {
      "text/plain": [
       "0.8125"
      ]
     },
     "execution_count": 104,
     "metadata": {},
     "output_type": "execute_result"
    }
   ],
   "source": [
    "sally.Score.mean()"
   ]
  },
  {
   "cell_type": "markdown",
   "metadata": {},
   "source": [
    "## 2\n",
    "\n",
    "Transform the data so that each carafe is in it's own column.\n",
    "\n",
    "Is this the best shape for the data?"
   ]
  },
  {
   "cell_type": "code",
   "execution_count": 31,
   "metadata": {},
   "outputs": [],
   "source": [
    "df2 = pd.read_csv(\"untidy_data/coffee_levels.csv\")"
   ]
  },
  {
   "cell_type": "code",
   "execution_count": 34,
   "metadata": {},
   "outputs": [
    {
     "name": "stdout",
     "output_type": "stream",
     "text": [
      "<class 'pandas.core.frame.DataFrame'>\n",
      "RangeIndex: 30 entries, 0 to 29\n",
      "Data columns (total 3 columns):\n",
      "hour             30 non-null int64\n",
      "coffee_carafe    30 non-null object\n",
      "coffee_amount    30 non-null float64\n",
      "dtypes: float64(1), int64(1), object(1)\n",
      "memory usage: 848.0+ bytes\n"
     ]
    }
   ],
   "source": [
    "df2.info()"
   ]
  },
  {
   "cell_type": "code",
   "execution_count": 39,
   "metadata": {},
   "outputs": [
    {
     "data": {
      "text/html": [
       "<div>\n",
       "<style scoped>\n",
       "    .dataframe tbody tr th:only-of-type {\n",
       "        vertical-align: middle;\n",
       "    }\n",
       "\n",
       "    .dataframe tbody tr th {\n",
       "        vertical-align: top;\n",
       "    }\n",
       "\n",
       "    .dataframe thead th {\n",
       "        text-align: right;\n",
       "    }\n",
       "</style>\n",
       "<table border=\"1\" class=\"dataframe\">\n",
       "  <thead>\n",
       "    <tr style=\"text-align: right;\">\n",
       "      <th>coffee_carafe</th>\n",
       "      <th>x</th>\n",
       "      <th>y</th>\n",
       "      <th>z</th>\n",
       "    </tr>\n",
       "    <tr>\n",
       "      <th>hour</th>\n",
       "      <th></th>\n",
       "      <th></th>\n",
       "      <th></th>\n",
       "    </tr>\n",
       "  </thead>\n",
       "  <tbody>\n",
       "    <tr>\n",
       "      <th>8</th>\n",
       "      <td>0.816164</td>\n",
       "      <td>0.189297</td>\n",
       "      <td>0.999264</td>\n",
       "    </tr>\n",
       "    <tr>\n",
       "      <th>9</th>\n",
       "      <td>0.451018</td>\n",
       "      <td>0.521502</td>\n",
       "      <td>0.915990</td>\n",
       "    </tr>\n",
       "    <tr>\n",
       "      <th>10</th>\n",
       "      <td>0.843279</td>\n",
       "      <td>0.023163</td>\n",
       "      <td>0.144928</td>\n",
       "    </tr>\n",
       "    <tr>\n",
       "      <th>11</th>\n",
       "      <td>0.335533</td>\n",
       "      <td>0.235529</td>\n",
       "      <td>0.311495</td>\n",
       "    </tr>\n",
       "    <tr>\n",
       "      <th>12</th>\n",
       "      <td>0.898291</td>\n",
       "      <td>0.017009</td>\n",
       "      <td>0.771947</td>\n",
       "    </tr>\n",
       "    <tr>\n",
       "      <th>13</th>\n",
       "      <td>0.310711</td>\n",
       "      <td>0.997464</td>\n",
       "      <td>0.398520</td>\n",
       "    </tr>\n",
       "    <tr>\n",
       "      <th>14</th>\n",
       "      <td>0.507288</td>\n",
       "      <td>0.058361</td>\n",
       "      <td>0.864464</td>\n",
       "    </tr>\n",
       "    <tr>\n",
       "      <th>15</th>\n",
       "      <td>0.215043</td>\n",
       "      <td>0.144644</td>\n",
       "      <td>0.436364</td>\n",
       "    </tr>\n",
       "    <tr>\n",
       "      <th>16</th>\n",
       "      <td>0.183891</td>\n",
       "      <td>0.544676</td>\n",
       "      <td>0.280621</td>\n",
       "    </tr>\n",
       "    <tr>\n",
       "      <th>17</th>\n",
       "      <td>0.391560</td>\n",
       "      <td>0.594126</td>\n",
       "      <td>0.436677</td>\n",
       "    </tr>\n",
       "  </tbody>\n",
       "</table>\n",
       "</div>"
      ],
      "text/plain": [
       "coffee_carafe         x         y         z\n",
       "hour                                       \n",
       "8              0.816164  0.189297  0.999264\n",
       "9              0.451018  0.521502  0.915990\n",
       "10             0.843279  0.023163  0.144928\n",
       "11             0.335533  0.235529  0.311495\n",
       "12             0.898291  0.017009  0.771947\n",
       "13             0.310711  0.997464  0.398520\n",
       "14             0.507288  0.058361  0.864464\n",
       "15             0.215043  0.144644  0.436364\n",
       "16             0.183891  0.544676  0.280621\n",
       "17             0.391560  0.594126  0.436677"
      ]
     },
     "execution_count": 39,
     "metadata": {},
     "output_type": "execute_result"
    }
   ],
   "source": [
    "df2.pivot_table('coffee_amount', 'hour', 'coffee_carafe')"
   ]
  },
  {
   "cell_type": "markdown",
   "metadata": {},
   "source": [
    "# 3\n",
    "\n",
    "Read the cake_recipes.csv data. This data set contains cake tastiness scores for combinations of different recipes, oven rack positions, and oven temperatures.\n",
    "\n",
    "Tidy the data as necessary.\n",
    "\n",
    "Which recipe, on average, is the best? recipe b\n",
    "\n",
    "Which oven temperature, on average, produces the best results? 275\n",
    "\n",
    "Which combination of recipe, rack position, and temperature gives the best result? recipe b, bottom rack, 300 degrees"
   ]
  },
  {
   "cell_type": "code",
   "execution_count": 40,
   "metadata": {},
   "outputs": [],
   "source": [
    "df3 = pd.read_csv(\"untidy_data/cake_recipes.csv\")"
   ]
  },
  {
   "cell_type": "code",
   "execution_count": 53,
   "metadata": {},
   "outputs": [
    {
     "data": {
      "text/html": [
       "<div>\n",
       "<style scoped>\n",
       "    .dataframe tbody tr th:only-of-type {\n",
       "        vertical-align: middle;\n",
       "    }\n",
       "\n",
       "    .dataframe tbody tr th {\n",
       "        vertical-align: top;\n",
       "    }\n",
       "\n",
       "    .dataframe thead th {\n",
       "        text-align: right;\n",
       "    }\n",
       "</style>\n",
       "<table border=\"1\" class=\"dataframe\">\n",
       "  <thead>\n",
       "    <tr style=\"text-align: right;\">\n",
       "      <th></th>\n",
       "      <th>225</th>\n",
       "      <th>250</th>\n",
       "      <th>275</th>\n",
       "      <th>300</th>\n",
       "      <th>oven</th>\n",
       "      <th>position</th>\n",
       "    </tr>\n",
       "  </thead>\n",
       "  <tbody>\n",
       "    <tr>\n",
       "      <th>0</th>\n",
       "      <td>61.738655</td>\n",
       "      <td>53.912627</td>\n",
       "      <td>74.414730</td>\n",
       "      <td>98.786784</td>\n",
       "      <td>a</td>\n",
       "      <td>bottom</td>\n",
       "    </tr>\n",
       "    <tr>\n",
       "      <th>1</th>\n",
       "      <td>51.709751</td>\n",
       "      <td>52.009735</td>\n",
       "      <td>68.576858</td>\n",
       "      <td>50.228470</td>\n",
       "      <td>a</td>\n",
       "      <td>top</td>\n",
       "    </tr>\n",
       "    <tr>\n",
       "      <th>2</th>\n",
       "      <td>57.095320</td>\n",
       "      <td>61.904369</td>\n",
       "      <td>61.196980</td>\n",
       "      <td>99.248541</td>\n",
       "      <td>b</td>\n",
       "      <td>bottom</td>\n",
       "    </tr>\n",
       "    <tr>\n",
       "      <th>3</th>\n",
       "      <td>82.455004</td>\n",
       "      <td>95.224151</td>\n",
       "      <td>98.594881</td>\n",
       "      <td>58.169349</td>\n",
       "      <td>b</td>\n",
       "      <td>top</td>\n",
       "    </tr>\n",
       "    <tr>\n",
       "      <th>4</th>\n",
       "      <td>96.470207</td>\n",
       "      <td>52.001358</td>\n",
       "      <td>92.893227</td>\n",
       "      <td>65.473084</td>\n",
       "      <td>c</td>\n",
       "      <td>bottom</td>\n",
       "    </tr>\n",
       "    <tr>\n",
       "      <th>5</th>\n",
       "      <td>71.306308</td>\n",
       "      <td>82.795477</td>\n",
       "      <td>92.098049</td>\n",
       "      <td>53.960273</td>\n",
       "      <td>c</td>\n",
       "      <td>top</td>\n",
       "    </tr>\n",
       "    <tr>\n",
       "      <th>6</th>\n",
       "      <td>52.799753</td>\n",
       "      <td>58.670419</td>\n",
       "      <td>51.747686</td>\n",
       "      <td>56.183110</td>\n",
       "      <td>d</td>\n",
       "      <td>bottom</td>\n",
       "    </tr>\n",
       "    <tr>\n",
       "      <th>7</th>\n",
       "      <td>96.873178</td>\n",
       "      <td>76.101363</td>\n",
       "      <td>59.571620</td>\n",
       "      <td>50.971626</td>\n",
       "      <td>d</td>\n",
       "      <td>top</td>\n",
       "    </tr>\n",
       "  </tbody>\n",
       "</table>\n",
       "</div>"
      ],
      "text/plain": [
       "         225        250        275        300 oven position\n",
       "0  61.738655  53.912627  74.414730  98.786784    a   bottom\n",
       "1  51.709751  52.009735  68.576858  50.228470    a      top\n",
       "2  57.095320  61.904369  61.196980  99.248541    b   bottom\n",
       "3  82.455004  95.224151  98.594881  58.169349    b      top\n",
       "4  96.470207  52.001358  92.893227  65.473084    c   bottom\n",
       "5  71.306308  82.795477  92.098049  53.960273    c      top\n",
       "6  52.799753  58.670419  51.747686  56.183110    d   bottom\n",
       "7  96.873178  76.101363  59.571620  50.971626    d      top"
      ]
     },
     "execution_count": 53,
     "metadata": {},
     "output_type": "execute_result"
    }
   ],
   "source": [
    "df3"
   ]
  },
  {
   "cell_type": "code",
   "execution_count": 45,
   "metadata": {},
   "outputs": [],
   "source": [
    "df3['oven'] = df3['recipe:position'].str.extract(r'([abcd])')"
   ]
  },
  {
   "cell_type": "code",
   "execution_count": 50,
   "metadata": {},
   "outputs": [],
   "source": [
    "df3['position'] = df3['recipe:position'].str.extract(r'^[abdc]:(\\w*)$')"
   ]
  },
  {
   "cell_type": "code",
   "execution_count": 52,
   "metadata": {},
   "outputs": [],
   "source": [
    "df3.drop('recipe:position', axis=1, inplace=True)"
   ]
  },
  {
   "cell_type": "code",
   "execution_count": 64,
   "metadata": {},
   "outputs": [],
   "source": [
    "melted_df3 = df3.melt(id_vars=['oven','position'], var_name='temperature', value_name='cake_quality')"
   ]
  },
  {
   "cell_type": "code",
   "execution_count": 59,
   "metadata": {},
   "outputs": [
    {
     "data": {
      "text/html": [
       "<div>\n",
       "<style scoped>\n",
       "    .dataframe tbody tr th:only-of-type {\n",
       "        vertical-align: middle;\n",
       "    }\n",
       "\n",
       "    .dataframe tbody tr th {\n",
       "        vertical-align: top;\n",
       "    }\n",
       "\n",
       "    .dataframe thead th {\n",
       "        text-align: right;\n",
       "    }\n",
       "</style>\n",
       "<table border=\"1\" class=\"dataframe\">\n",
       "  <thead>\n",
       "    <tr style=\"text-align: right;\">\n",
       "      <th></th>\n",
       "      <th>oven</th>\n",
       "      <th>position</th>\n",
       "      <th>temperature</th>\n",
       "      <th>cake_quality</th>\n",
       "    </tr>\n",
       "  </thead>\n",
       "  <tbody>\n",
       "    <tr>\n",
       "      <th>0</th>\n",
       "      <td>a</td>\n",
       "      <td>bottom</td>\n",
       "      <td>225</td>\n",
       "      <td>61.738655</td>\n",
       "    </tr>\n",
       "    <tr>\n",
       "      <th>1</th>\n",
       "      <td>a</td>\n",
       "      <td>top</td>\n",
       "      <td>225</td>\n",
       "      <td>51.709751</td>\n",
       "    </tr>\n",
       "    <tr>\n",
       "      <th>2</th>\n",
       "      <td>b</td>\n",
       "      <td>bottom</td>\n",
       "      <td>225</td>\n",
       "      <td>57.095320</td>\n",
       "    </tr>\n",
       "    <tr>\n",
       "      <th>3</th>\n",
       "      <td>b</td>\n",
       "      <td>top</td>\n",
       "      <td>225</td>\n",
       "      <td>82.455004</td>\n",
       "    </tr>\n",
       "    <tr>\n",
       "      <th>4</th>\n",
       "      <td>c</td>\n",
       "      <td>bottom</td>\n",
       "      <td>225</td>\n",
       "      <td>96.470207</td>\n",
       "    </tr>\n",
       "    <tr>\n",
       "      <th>5</th>\n",
       "      <td>c</td>\n",
       "      <td>top</td>\n",
       "      <td>225</td>\n",
       "      <td>71.306308</td>\n",
       "    </tr>\n",
       "    <tr>\n",
       "      <th>6</th>\n",
       "      <td>d</td>\n",
       "      <td>bottom</td>\n",
       "      <td>225</td>\n",
       "      <td>52.799753</td>\n",
       "    </tr>\n",
       "    <tr>\n",
       "      <th>7</th>\n",
       "      <td>d</td>\n",
       "      <td>top</td>\n",
       "      <td>225</td>\n",
       "      <td>96.873178</td>\n",
       "    </tr>\n",
       "    <tr>\n",
       "      <th>8</th>\n",
       "      <td>a</td>\n",
       "      <td>bottom</td>\n",
       "      <td>250</td>\n",
       "      <td>53.912627</td>\n",
       "    </tr>\n",
       "    <tr>\n",
       "      <th>9</th>\n",
       "      <td>a</td>\n",
       "      <td>top</td>\n",
       "      <td>250</td>\n",
       "      <td>52.009735</td>\n",
       "    </tr>\n",
       "    <tr>\n",
       "      <th>10</th>\n",
       "      <td>b</td>\n",
       "      <td>bottom</td>\n",
       "      <td>250</td>\n",
       "      <td>61.904369</td>\n",
       "    </tr>\n",
       "    <tr>\n",
       "      <th>11</th>\n",
       "      <td>b</td>\n",
       "      <td>top</td>\n",
       "      <td>250</td>\n",
       "      <td>95.224151</td>\n",
       "    </tr>\n",
       "    <tr>\n",
       "      <th>12</th>\n",
       "      <td>c</td>\n",
       "      <td>bottom</td>\n",
       "      <td>250</td>\n",
       "      <td>52.001358</td>\n",
       "    </tr>\n",
       "    <tr>\n",
       "      <th>13</th>\n",
       "      <td>c</td>\n",
       "      <td>top</td>\n",
       "      <td>250</td>\n",
       "      <td>82.795477</td>\n",
       "    </tr>\n",
       "    <tr>\n",
       "      <th>14</th>\n",
       "      <td>d</td>\n",
       "      <td>bottom</td>\n",
       "      <td>250</td>\n",
       "      <td>58.670419</td>\n",
       "    </tr>\n",
       "    <tr>\n",
       "      <th>15</th>\n",
       "      <td>d</td>\n",
       "      <td>top</td>\n",
       "      <td>250</td>\n",
       "      <td>76.101363</td>\n",
       "    </tr>\n",
       "    <tr>\n",
       "      <th>16</th>\n",
       "      <td>a</td>\n",
       "      <td>bottom</td>\n",
       "      <td>275</td>\n",
       "      <td>74.414730</td>\n",
       "    </tr>\n",
       "    <tr>\n",
       "      <th>17</th>\n",
       "      <td>a</td>\n",
       "      <td>top</td>\n",
       "      <td>275</td>\n",
       "      <td>68.576858</td>\n",
       "    </tr>\n",
       "    <tr>\n",
       "      <th>18</th>\n",
       "      <td>b</td>\n",
       "      <td>bottom</td>\n",
       "      <td>275</td>\n",
       "      <td>61.196980</td>\n",
       "    </tr>\n",
       "    <tr>\n",
       "      <th>19</th>\n",
       "      <td>b</td>\n",
       "      <td>top</td>\n",
       "      <td>275</td>\n",
       "      <td>98.594881</td>\n",
       "    </tr>\n",
       "    <tr>\n",
       "      <th>20</th>\n",
       "      <td>c</td>\n",
       "      <td>bottom</td>\n",
       "      <td>275</td>\n",
       "      <td>92.893227</td>\n",
       "    </tr>\n",
       "    <tr>\n",
       "      <th>21</th>\n",
       "      <td>c</td>\n",
       "      <td>top</td>\n",
       "      <td>275</td>\n",
       "      <td>92.098049</td>\n",
       "    </tr>\n",
       "    <tr>\n",
       "      <th>22</th>\n",
       "      <td>d</td>\n",
       "      <td>bottom</td>\n",
       "      <td>275</td>\n",
       "      <td>51.747686</td>\n",
       "    </tr>\n",
       "    <tr>\n",
       "      <th>23</th>\n",
       "      <td>d</td>\n",
       "      <td>top</td>\n",
       "      <td>275</td>\n",
       "      <td>59.571620</td>\n",
       "    </tr>\n",
       "    <tr>\n",
       "      <th>24</th>\n",
       "      <td>a</td>\n",
       "      <td>bottom</td>\n",
       "      <td>300</td>\n",
       "      <td>98.786784</td>\n",
       "    </tr>\n",
       "    <tr>\n",
       "      <th>25</th>\n",
       "      <td>a</td>\n",
       "      <td>top</td>\n",
       "      <td>300</td>\n",
       "      <td>50.228470</td>\n",
       "    </tr>\n",
       "    <tr>\n",
       "      <th>26</th>\n",
       "      <td>b</td>\n",
       "      <td>bottom</td>\n",
       "      <td>300</td>\n",
       "      <td>99.248541</td>\n",
       "    </tr>\n",
       "    <tr>\n",
       "      <th>27</th>\n",
       "      <td>b</td>\n",
       "      <td>top</td>\n",
       "      <td>300</td>\n",
       "      <td>58.169349</td>\n",
       "    </tr>\n",
       "    <tr>\n",
       "      <th>28</th>\n",
       "      <td>c</td>\n",
       "      <td>bottom</td>\n",
       "      <td>300</td>\n",
       "      <td>65.473084</td>\n",
       "    </tr>\n",
       "    <tr>\n",
       "      <th>29</th>\n",
       "      <td>c</td>\n",
       "      <td>top</td>\n",
       "      <td>300</td>\n",
       "      <td>53.960273</td>\n",
       "    </tr>\n",
       "    <tr>\n",
       "      <th>30</th>\n",
       "      <td>d</td>\n",
       "      <td>bottom</td>\n",
       "      <td>300</td>\n",
       "      <td>56.183110</td>\n",
       "    </tr>\n",
       "    <tr>\n",
       "      <th>31</th>\n",
       "      <td>d</td>\n",
       "      <td>top</td>\n",
       "      <td>300</td>\n",
       "      <td>50.971626</td>\n",
       "    </tr>\n",
       "  </tbody>\n",
       "</table>\n",
       "</div>"
      ],
      "text/plain": [
       "   oven position temperature  cake_quality\n",
       "0     a   bottom         225     61.738655\n",
       "1     a      top         225     51.709751\n",
       "2     b   bottom         225     57.095320\n",
       "3     b      top         225     82.455004\n",
       "4     c   bottom         225     96.470207\n",
       "5     c      top         225     71.306308\n",
       "6     d   bottom         225     52.799753\n",
       "7     d      top         225     96.873178\n",
       "8     a   bottom         250     53.912627\n",
       "9     a      top         250     52.009735\n",
       "10    b   bottom         250     61.904369\n",
       "11    b      top         250     95.224151\n",
       "12    c   bottom         250     52.001358\n",
       "13    c      top         250     82.795477\n",
       "14    d   bottom         250     58.670419\n",
       "15    d      top         250     76.101363\n",
       "16    a   bottom         275     74.414730\n",
       "17    a      top         275     68.576858\n",
       "18    b   bottom         275     61.196980\n",
       "19    b      top         275     98.594881\n",
       "20    c   bottom         275     92.893227\n",
       "21    c      top         275     92.098049\n",
       "22    d   bottom         275     51.747686\n",
       "23    d      top         275     59.571620\n",
       "24    a   bottom         300     98.786784\n",
       "25    a      top         300     50.228470\n",
       "26    b   bottom         300     99.248541\n",
       "27    b      top         300     58.169349\n",
       "28    c   bottom         300     65.473084\n",
       "29    c      top         300     53.960273\n",
       "30    d   bottom         300     56.183110\n",
       "31    d      top         300     50.971626"
      ]
     },
     "execution_count": 59,
     "metadata": {},
     "output_type": "execute_result"
    }
   ],
   "source": [
    "melted_df3"
   ]
  },
  {
   "cell_type": "code",
   "execution_count": 62,
   "metadata": {},
   "outputs": [
    {
     "data": {
      "text/plain": [
       "99.2485405378462"
      ]
     },
     "execution_count": 62,
     "metadata": {},
     "output_type": "execute_result"
    }
   ],
   "source": [
    "melted_df3.cake_quality.max()"
   ]
  },
  {
   "cell_type": "code",
   "execution_count": 66,
   "metadata": {},
   "outputs": [
    {
     "data": {
      "text/html": [
       "<div>\n",
       "<style scoped>\n",
       "    .dataframe tbody tr th:only-of-type {\n",
       "        vertical-align: middle;\n",
       "    }\n",
       "\n",
       "    .dataframe tbody tr th {\n",
       "        vertical-align: top;\n",
       "    }\n",
       "\n",
       "    .dataframe thead th {\n",
       "        text-align: right;\n",
       "    }\n",
       "</style>\n",
       "<table border=\"1\" class=\"dataframe\">\n",
       "  <thead>\n",
       "    <tr style=\"text-align: right;\">\n",
       "      <th></th>\n",
       "      <th>oven</th>\n",
       "      <th>position</th>\n",
       "      <th>temperature</th>\n",
       "      <th>cake_quality</th>\n",
       "    </tr>\n",
       "  </thead>\n",
       "  <tbody>\n",
       "    <tr>\n",
       "      <th>26</th>\n",
       "      <td>b</td>\n",
       "      <td>bottom</td>\n",
       "      <td>300</td>\n",
       "      <td>99.248541</td>\n",
       "    </tr>\n",
       "  </tbody>\n",
       "</table>\n",
       "</div>"
      ],
      "text/plain": [
       "   oven position temperature  cake_quality\n",
       "26    b   bottom         300     99.248541"
      ]
     },
     "execution_count": 66,
     "metadata": {},
     "output_type": "execute_result"
    }
   ],
   "source": [
    "melted_df3[melted_df3.cake_quality == melted_df3.cake_quality.max()]"
   ]
  },
  {
   "cell_type": "markdown",
   "metadata": {},
   "source": [
    "### Dont look past here"
   ]
  },
  {
   "cell_type": "code",
   "execution_count": 69,
   "metadata": {},
   "outputs": [],
   "source": [
    "x = stats.randint(1,7)"
   ]
  },
  {
   "cell_type": "code",
   "execution_count": 70,
   "metadata": {},
   "outputs": [
    {
     "data": {
      "text/plain": [
       "<scipy.stats._distn_infrastructure.rv_frozen at 0x1a1f6628d0>"
      ]
     },
     "execution_count": 70,
     "metadata": {},
     "output_type": "execute_result"
    }
   ],
   "source": [
    "x"
   ]
  },
  {
   "cell_type": "code",
   "execution_count": 71,
   "metadata": {},
   "outputs": [
    {
     "data": {
      "text/plain": [
       "5"
      ]
     },
     "execution_count": 71,
     "metadata": {},
     "output_type": "execute_result"
    }
   ],
   "source": [
    "x.rvs()"
   ]
  },
  {
   "cell_type": "code",
   "execution_count": 72,
   "metadata": {},
   "outputs": [
    {
     "data": {
      "text/plain": [
       "array([1, 4, 6, 1, 3, 5, 2, 6, 1, 4, 3, 1])"
      ]
     },
     "execution_count": 72,
     "metadata": {},
     "output_type": "execute_result"
    }
   ],
   "source": [
    "x.rvs(12)"
   ]
  },
  {
   "cell_type": "code",
   "execution_count": 74,
   "metadata": {},
   "outputs": [
    {
     "data": {
      "text/plain": [
       "array([[1, 4, 6],\n",
       "       [3, 2, 1],\n",
       "       [4, 6, 5]])"
      ]
     },
     "execution_count": 74,
     "metadata": {},
     "output_type": "execute_result"
    }
   ],
   "source": [
    "x.rvs((3,3))"
   ]
  },
  {
   "cell_type": "code",
   "execution_count": 100,
   "metadata": {},
   "outputs": [
    {
     "data": {
      "text/plain": [
       "0.3769531250000001"
      ]
     },
     "execution_count": 100,
     "metadata": {},
     "output_type": "execute_result"
    }
   ],
   "source": [
    "stats.binom(10,.5).sf(5)"
   ]
  },
  {
   "cell_type": "code",
   "execution_count": 103,
   "metadata": {},
   "outputs": [
    {
     "data": {
      "text/plain": [
       "5.0"
      ]
     },
     "execution_count": 103,
     "metadata": {},
     "output_type": "execute_result"
    }
   ],
   "source": [
    "stats.binom(10,.5).isf(.38)"
   ]
  },
  {
   "cell_type": "code",
   "execution_count": 99,
   "metadata": {},
   "outputs": [
    {
     "data": {
      "text/plain": [
       "0.6230468749999999"
      ]
     },
     "execution_count": 99,
     "metadata": {},
     "output_type": "execute_result"
    }
   ],
   "source": [
    "stats.binom(10,.5).cdf(5)"
   ]
  },
  {
   "cell_type": "code",
   "execution_count": 102,
   "metadata": {},
   "outputs": [
    {
     "data": {
      "text/plain": [
       "5.0"
      ]
     },
     "execution_count": 102,
     "metadata": {},
     "output_type": "execute_result"
    }
   ],
   "source": [
    "stats.binom(10,.5).ppf(.6230)"
   ]
  },
  {
   "cell_type": "code",
   "execution_count": null,
   "metadata": {},
   "outputs": [],
   "source": []
  }
 ],
 "metadata": {
  "kernelspec": {
   "display_name": "Python 3",
   "language": "python",
   "name": "python3"
  },
  "language_info": {
   "codemirror_mode": {
    "name": "ipython",
    "version": 3
   },
   "file_extension": ".py",
   "mimetype": "text/x-python",
   "name": "python",
   "nbconvert_exporter": "python",
   "pygments_lexer": "ipython3",
   "version": "3.7.3"
  }
 },
 "nbformat": 4,
 "nbformat_minor": 2
}
