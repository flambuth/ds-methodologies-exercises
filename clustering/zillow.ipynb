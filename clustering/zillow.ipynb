{
 "cells": [
  {
   "cell_type": "code",
   "execution_count": 1,
   "metadata": {},
   "outputs": [],
   "source": [
    "# ignore warnings\n",
    "import warnings\n",
    "warnings.filterwarnings(\"ignore\")\n",
    "\n",
    "# Wrangling\n",
    "import pandas as pd\n",
    "import numpy as np\n",
    "\n",
    "# Exploring\n",
    "import scipy.stats as stats\n",
    "\n",
    "# Visualizing\n",
    "%matplotlib inline\n",
    "import matplotlib.pyplot as plt\n",
    "import seaborn as sns"
   ]
  },
  {
   "cell_type": "code",
   "execution_count": 2,
   "metadata": {},
   "outputs": [],
   "source": [
    "import acquire"
   ]
  },
  {
   "cell_type": "code",
   "execution_count": 3,
   "metadata": {},
   "outputs": [],
   "source": [
    "df = acquire.get_zillow_chunk()"
   ]
  },
  {
   "cell_type": "markdown",
   "metadata": {},
   "source": [
    "## ACQUIRE the most recent transaction for each parcelid that happened in 2017"
   ]
  },
  {
   "cell_type": "code",
   "execution_count": null,
   "metadata": {},
   "outputs": [],
   "source": [
    "df.columns"
   ]
  },
  {
   "cell_type": "code",
   "execution_count": 4,
   "metadata": {},
   "outputs": [
    {
     "data": {
      "text/plain": [
       "73424"
      ]
     },
     "execution_count": 4,
     "metadata": {},
     "output_type": "execute_result"
    }
   ],
   "source": [
    "len(df)"
   ]
  },
  {
   "cell_type": "code",
   "execution_count": null,
   "metadata": {},
   "outputs": [],
   "source": [
    "len(df.parcelid.unique())"
   ]
  },
  {
   "cell_type": "code",
   "execution_count": null,
   "metadata": {},
   "outputs": [],
   "source": [
    "df_sorted = df.sort_values(by='transactiondate', ascending=False)"
   ]
  },
  {
   "cell_type": "code",
   "execution_count": null,
   "metadata": {},
   "outputs": [],
   "source": [
    "blobs = df_sorted.parcelid.unique()"
   ]
  },
  {
   "cell_type": "code",
   "execution_count": null,
   "metadata": {},
   "outputs": [],
   "source": [
    "len(blobs)"
   ]
  },
  {
   "cell_type": "code",
   "execution_count": null,
   "metadata": {},
   "outputs": [],
   "source": [
    "df_sorted.parcelid[[13083743,2,3]]"
   ]
  },
  {
   "cell_type": "code",
   "execution_count": null,
   "metadata": {},
   "outputs": [],
   "source": [
    " df.drop_duplicates(subset =\"parcelid\", keep = 'first', inplace = True) "
   ]
  },
  {
   "cell_type": "code",
   "execution_count": null,
   "metadata": {},
   "outputs": [],
   "source": [
    "len(df)"
   ]
  },
  {
   "cell_type": "markdown",
   "metadata": {},
   "source": [
    "## Summarize your data (summary stats, info, dtypes, shape, distributions, value_counts, etc.)"
   ]
  },
  {
   "cell_type": "code",
   "execution_count": 6,
   "metadata": {},
   "outputs": [],
   "source": [
    "import summarize"
   ]
  },
  {
   "cell_type": "code",
   "execution_count": 7,
   "metadata": {},
   "outputs": [
    {
     "name": "stdout",
     "output_type": "stream",
     "text": [
      "--- Shape: (73424, 61)\n",
      "--- Info\n",
      "<class 'pandas.core.frame.DataFrame'>\n",
      "Int64Index: 73424 entries, 0 to 73594\n",
      "Data columns (total 61 columns):\n",
      "id                              73424 non-null int64\n",
      "parcelid                        73424 non-null int64\n",
      "airconditioningtypeid           24546 non-null float64\n",
      "architecturalstyletypeid        206 non-null float64\n",
      "basementsqft                    50 non-null float64\n",
      "bathroomcnt                     73424 non-null float64\n",
      "bedroomcnt                      73424 non-null float64\n",
      "buildingclasstypeid             0 non-null object\n",
      "buildingqualitytypeid           46646 non-null float64\n",
      "calculatedbathnbr               73409 non-null float64\n",
      "decktypeid                      611 non-null float64\n",
      "finishedfloor1squarefeet        5993 non-null float64\n",
      "calculatedfinishedsquarefeet    73424 non-null float64\n",
      "finishedsquarefeet12            73208 non-null float64\n",
      "finishedsquarefeet13            26 non-null float64\n",
      "finishedsquarefeet15            37 non-null float64\n",
      "finishedsquarefeet50            5993 non-null float64\n",
      "finishedsquarefeet6             153 non-null float64\n",
      "fips                            73424 non-null float64\n",
      "fireplacecnt                    8243 non-null float64\n",
      "fullbathcnt                     73409 non-null float64\n",
      "garagecarcnt                    25237 non-null float64\n",
      "garagetotalsqft                 25237 non-null float64\n",
      "hashottuborspa                  1537 non-null float64\n",
      "heatingorsystemtypeid           48200 non-null float64\n",
      "latitude                        73424 non-null float64\n",
      "longitude                       73424 non-null float64\n",
      "lotsizesquarefeet               65357 non-null float64\n",
      "poolcnt                         15984 non-null float64\n",
      "poolsizesum                     862 non-null float64\n",
      "pooltypeid10                    463 non-null float64\n",
      "pooltypeid2                     1074 non-null float64\n",
      "pooltypeid7                     14889 non-null float64\n",
      "propertycountylandusecode       73424 non-null object\n",
      "propertylandusetypeid           73424 non-null float64\n",
      "propertyzoningdesc              46907 non-null object\n",
      "rawcensustractandblock          73424 non-null float64\n",
      "regionidcity                    71987 non-null float64\n",
      "regionidcounty                  73424 non-null float64\n",
      "regionidneighborhood            28669 non-null float64\n",
      "regionidzip                     73380 non-null float64\n",
      "roomcnt                         73424 non-null float64\n",
      "storytypeid                     50 non-null float64\n",
      "threequarterbathnbr             10090 non-null float64\n",
      "typeconstructiontypeid          222 non-null float64\n",
      "unitcnt                         46946 non-null float64\n",
      "yardbuildingsqft17              2376 non-null float64\n",
      "yardbuildingsqft26              69 non-null float64\n",
      "yearbuilt                       73389 non-null float64\n",
      "numberofstories                 17283 non-null float64\n",
      "fireplaceflag                   172 non-null float64\n",
      "structuretaxvaluedollarcnt      73351 non-null float64\n",
      "taxvaluedollarcnt               73423 non-null float64\n",
      "assessmentyear                  73424 non-null float64\n",
      "landtaxvaluedollarcnt           73423 non-null float64\n",
      "taxamount                       73419 non-null float64\n",
      "taxdelinquencyflag              2623 non-null object\n",
      "taxdelinquencyyear              2623 non-null float64\n",
      "censustractandblock             73208 non-null float64\n",
      "logerror                        73424 non-null float64\n",
      "transactiondate                 73424 non-null object\n",
      "dtypes: float64(54), int64(2), object(5)\n",
      "memory usage: 34.7+ MB\n",
      "--- Descriptions\n",
      "                  id      parcelid  airconditioningtypeid  \\\n",
      "count   7.342400e+04  7.342400e+04           24546.000000   \n",
      "unique           NaN           NaN                    NaN   \n",
      "top              NaN           NaN                    NaN   \n",
      "freq             NaN           NaN                    NaN   \n",
      "mean    1.495578e+06  1.303098e+07               1.815204   \n",
      "std     8.608046e+05  3.371991e+06               2.975912   \n",
      "min     3.490000e+02  1.071186e+07               1.000000   \n",
      "25%     7.542930e+05  1.151491e+07               1.000000   \n",
      "50%     1.498964e+06  1.257023e+07               1.000000   \n",
      "75%     2.241077e+06  1.424073e+07               1.000000   \n",
      "max     2.982274e+06  1.676885e+08              13.000000   \n",
      "\n",
      "        architecturalstyletypeid  basementsqft   bathroomcnt    bedroomcnt  \\\n",
      "count                 206.000000     50.000000  73424.000000  73424.000000   \n",
      "unique                       NaN           NaN           NaN           NaN   \n",
      "top                          NaN           NaN           NaN           NaN   \n",
      "freq                         NaN           NaN           NaN           NaN   \n",
      "mean                    7.388350    679.720000      2.291471      3.028179   \n",
      "std                     2.734542    689.703546      0.945030      0.999494   \n",
      "min                     2.000000     38.000000      1.000000      1.000000   \n",
      "25%                     7.000000    273.000000      2.000000      2.000000   \n",
      "50%                     7.000000    515.000000      2.000000      3.000000   \n",
      "75%                     7.000000    796.500000      3.000000      4.000000   \n",
      "max                    21.000000   3560.000000     13.000000     11.000000   \n",
      "\n",
      "        buildingclasstypeid  buildingqualitytypeid  calculatedbathnbr  ...  \\\n",
      "count                   0.0           46646.000000       73409.000000  ...   \n",
      "unique                  0.0                    NaN                NaN  ...   \n",
      "top                     NaN                    NaN                NaN  ...   \n",
      "freq                    NaN                    NaN                NaN  ...   \n",
      "mean                    NaN               6.637311           2.291470  ...   \n",
      "std                     NaN               1.689259           0.945023  ...   \n",
      "min                     NaN               1.000000           1.000000  ...   \n",
      "25%                     NaN               6.000000           2.000000  ...   \n",
      "50%                     NaN               7.000000           2.000000  ...   \n",
      "75%                     NaN               8.000000           3.000000  ...   \n",
      "max                     NaN              12.000000          13.000000  ...   \n",
      "\n",
      "        structuretaxvaluedollarcnt  taxvaluedollarcnt  assessmentyear  \\\n",
      "count                 7.335100e+04       7.342300e+04         73424.0   \n",
      "unique                         NaN                NaN             NaN   \n",
      "top                            NaN                NaN             NaN   \n",
      "freq                           NaN                NaN             NaN   \n",
      "mean                  1.899111e+05       4.898952e+05          2016.0   \n",
      "std                   2.261086e+05       6.286868e+05             0.0   \n",
      "min                   4.400000e+01       1.000000e+03          2016.0   \n",
      "25%                   8.489450e+04       2.077305e+05          2016.0   \n",
      "50%                   1.370000e+05       3.600000e+05          2016.0   \n",
      "75%                   2.190075e+05       5.690860e+05          2016.0   \n",
      "max                   9.164901e+06       2.538125e+07          2016.0   \n",
      "\n",
      "        landtaxvaluedollarcnt      taxamount  taxdelinquencyflag  \\\n",
      "count            7.342300e+04   73419.000000                2623   \n",
      "unique                    NaN            NaN                   1   \n",
      "top                       NaN            NaN                   Y   \n",
      "freq                      NaN            NaN                2623   \n",
      "mean             3.001703e+05    5982.268291                 NaN   \n",
      "std              4.600894e+05    7318.556485                 NaN   \n",
      "min              1.610000e+02      19.920000                 NaN   \n",
      "25%              8.510650e+04    2719.045000                 NaN   \n",
      "50%              2.040700e+05    4446.520000                 NaN   \n",
      "75%              3.670350e+05    6916.040000                 NaN   \n",
      "max              2.233550e+07  290998.060000                 NaN   \n",
      "\n",
      "        taxdelinquencyyear  censustractandblock      logerror  transactiondate  \n",
      "count          2623.000000         7.320800e+04  73424.000000            73424  \n",
      "unique                 NaN                  NaN           NaN              264  \n",
      "top                    NaN                  NaN           NaN       2017-06-30  \n",
      "freq                   NaN                  NaN           NaN             1114  \n",
      "mean             14.107892         6.050080e+13      0.016598              NaN  \n",
      "std               2.219846         1.575434e+12      0.164469              NaN  \n",
      "min               4.000000         6.037101e+13     -4.655420              NaN  \n",
      "25%              14.000000         6.037401e+13     -0.023326              NaN  \n",
      "50%              15.000000         6.037621e+13      0.006719              NaN  \n",
      "75%              15.000000         6.059042e+13      0.038381              NaN  \n",
      "max              99.000000         4.830301e+14      5.262999              NaN  \n",
      "\n",
      "[11 rows x 61 columns]\n",
      "--- Nulls By Column\n"
     ]
    },
    {
     "ename": "NameError",
     "evalue": "name 'nulls_by_col' is not defined",
     "output_type": "error",
     "traceback": [
      "\u001b[0;31m---------------------------------------------------------------------------\u001b[0m",
      "\u001b[0;31mNameError\u001b[0m                                 Traceback (most recent call last)",
      "\u001b[0;32m<ipython-input-7-1b757562818f>\u001b[0m in \u001b[0;36m<module>\u001b[0;34m\u001b[0m\n\u001b[0;32m----> 1\u001b[0;31m \u001b[0msummarize\u001b[0m\u001b[0;34m.\u001b[0m\u001b[0mdf_summary\u001b[0m\u001b[0;34m(\u001b[0m\u001b[0mdf\u001b[0m\u001b[0;34m)\u001b[0m\u001b[0;34m\u001b[0m\u001b[0;34m\u001b[0m\u001b[0m\n\u001b[0m",
      "\u001b[0;32m~/codeup-data-science/ds-methodologies-exercises/clustering/summarize.py\u001b[0m in \u001b[0;36mdf_summary\u001b[0;34m(df)\u001b[0m\n\u001b[1;32m      8\u001b[0m     \u001b[0mprint\u001b[0m\u001b[0;34m(\u001b[0m\u001b[0mdf\u001b[0m\u001b[0;34m.\u001b[0m\u001b[0mdescribe\u001b[0m\u001b[0;34m(\u001b[0m\u001b[0minclude\u001b[0m\u001b[0;34m=\u001b[0m\u001b[0;34m'all'\u001b[0m\u001b[0;34m)\u001b[0m\u001b[0;34m)\u001b[0m\u001b[0;34m\u001b[0m\u001b[0;34m\u001b[0m\u001b[0m\n\u001b[1;32m      9\u001b[0m     \u001b[0mprint\u001b[0m\u001b[0;34m(\u001b[0m\u001b[0;34m'--- Nulls By Column'\u001b[0m\u001b[0;34m)\u001b[0m\u001b[0;34m\u001b[0m\u001b[0;34m\u001b[0m\u001b[0m\n\u001b[0;32m---> 10\u001b[0;31m     \u001b[0mprint\u001b[0m\u001b[0;34m(\u001b[0m\u001b[0mnulls_by_col\u001b[0m\u001b[0;34m(\u001b[0m\u001b[0mdf\u001b[0m\u001b[0;34m)\u001b[0m\u001b[0;34m)\u001b[0m\u001b[0;34m\u001b[0m\u001b[0;34m\u001b[0m\u001b[0m\n\u001b[0m\u001b[1;32m     11\u001b[0m     \u001b[0mprint\u001b[0m\u001b[0;34m(\u001b[0m\u001b[0;34m'--- Nulls By Row'\u001b[0m\u001b[0;34m)\u001b[0m\u001b[0;34m\u001b[0m\u001b[0;34m\u001b[0m\u001b[0m\n\u001b[1;32m     12\u001b[0m     \u001b[0mprint\u001b[0m\u001b[0;34m(\u001b[0m\u001b[0mnulls_by_row\u001b[0m\u001b[0;34m(\u001b[0m\u001b[0mdf\u001b[0m\u001b[0;34m)\u001b[0m\u001b[0;34m)\u001b[0m\u001b[0;34m\u001b[0m\u001b[0;34m\u001b[0m\u001b[0m\n",
      "\u001b[0;31mNameError\u001b[0m: name 'nulls_by_col' is not defined"
     ]
    }
   ],
   "source": [
    "summarize.df_summary(df)"
   ]
  },
  {
   "cell_type": "code",
   "execution_count": null,
   "metadata": {},
   "outputs": [],
   "source": []
  }
 ],
 "metadata": {
  "kernelspec": {
   "display_name": "Python 3",
   "language": "python",
   "name": "python3"
  },
  "language_info": {
   "codemirror_mode": {
    "name": "ipython",
    "version": 3
   },
   "file_extension": ".py",
   "mimetype": "text/x-python",
   "name": "python",
   "nbconvert_exporter": "python",
   "pygments_lexer": "ipython3",
   "version": "3.7.3"
  }
 },
 "nbformat": 4,
 "nbformat_minor": 2
}
