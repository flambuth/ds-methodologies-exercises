{
 "cells": [
  {
   "cell_type": "code",
   "execution_count": 1,
   "metadata": {},
   "outputs": [],
   "source": [
    "import numpy as np\n",
    "import pandas as pd\n",
    "import math\n",
    "from sklearn import metrics\n",
    "\n",
    "import warnings\n",
    "warnings.filterwarnings(\"ignore\")\n",
    "import matplotlib.pyplot as plt\n",
    "import matplotlib.dates as mdates\n",
    "%matplotlib inline\n",
    "import seaborn as sns"
   ]
  },
  {
   "cell_type": "code",
   "execution_count": 17,
   "metadata": {},
   "outputs": [],
   "source": [
    "sns.set()"
   ]
  },
  {
   "cell_type": "markdown",
   "metadata": {},
   "source": [
    "## What we got here, is a failure to communicate."
   ]
  },
  {
   "cell_type": "code",
   "execution_count": 3,
   "metadata": {},
   "outputs": [],
   "source": [
    "cols = ['date','time','resource','number1','number2','ip_source']"
   ]
  },
  {
   "cell_type": "code",
   "execution_count": 4,
   "metadata": {},
   "outputs": [],
   "source": [
    "blob = pd.read_csv('anonymized-curriculum-access.txt', sep=' ', names=cols)"
   ]
  },
  {
   "cell_type": "code",
   "execution_count": 6,
   "metadata": {},
   "outputs": [],
   "source": [
    "#Cleaning up the time data. \n",
    "Date = blob['date'] + ' ' + blob['time']\n",
    "Date = pd.to_datetime(Date)\n",
    "blob['Date'] = Date\n",
    "blob.drop(['date','time'],axis=1,inplace=True)"
   ]
  },
  {
   "cell_type": "code",
   "execution_count": 7,
   "metadata": {},
   "outputs": [
    {
     "name": "stdout",
     "output_type": "stream",
     "text": [
      "<class 'pandas.core.frame.DataFrame'>\n",
      "RangeIndex: 399195 entries, 0 to 399194\n",
      "Data columns (total 5 columns):\n",
      "resource     399195 non-null object\n",
      "number1      399195 non-null int64\n",
      "number2      372441 non-null float64\n",
      "ip_source    399195 non-null object\n",
      "Date         399195 non-null datetime64[ns]\n",
      "dtypes: datetime64[ns](1), float64(1), int64(1), object(2)\n",
      "memory usage: 15.2+ MB\n"
     ]
    }
   ],
   "source": [
    "blob.info()"
   ]
  },
  {
   "cell_type": "code",
   "execution_count": 45,
   "metadata": {},
   "outputs": [],
   "source": [
    "df = blob.set_index('Date')"
   ]
  },
  {
   "cell_type": "code",
   "execution_count": 73,
   "metadata": {},
   "outputs": [
    {
     "data": {
      "text/plain": [
       "DatetimeIndex(['2018-01-26 09:55:03', '2018-01-26 09:56:02',\n",
       "               '2018-01-26 09:56:05', '2018-01-26 09:56:06',\n",
       "               '2018-01-26 09:56:24', '2018-01-26 09:56:41',\n",
       "               '2018-01-26 09:56:46', '2018-01-26 09:56:48',\n",
       "               '2018-01-26 09:56:59', '2018-01-26 09:58:26',\n",
       "               ...\n",
       "               '2019-11-19 10:05:00', '2019-11-19 10:05:53',\n",
       "               '2019-11-19 10:06:13', '2019-11-19 10:06:21',\n",
       "               '2019-11-19 10:06:26', '2019-11-19 10:06:28',\n",
       "               '2019-11-19 10:06:50', '2019-11-19 10:07:03',\n",
       "               '2019-11-19 10:07:07', '2019-11-19 10:07:45'],\n",
       "              dtype='datetime64[ns]', name='Date', length=399195, freq=None)"
      ]
     },
     "execution_count": 73,
     "metadata": {},
     "output_type": "execute_result"
    }
   ],
   "source": [
    "df.index"
   ]
  },
  {
   "cell_type": "markdown",
   "metadata": {},
   "source": [
    "#### Looks like there is just one column with some nulls. Maybe that's significant."
   ]
  },
  {
   "cell_type": "code",
   "execution_count": 10,
   "metadata": {},
   "outputs": [
    {
     "data": {
      "text/plain": [
       "26754"
      ]
     },
     "execution_count": 10,
     "metadata": {},
     "output_type": "execute_result"
    }
   ],
   "source": [
    "blob.number2.isnull().sum()"
   ]
  },
  {
   "cell_type": "markdown",
   "metadata": {},
   "source": [
    "#### Lets see if there's anything that jumps out about these null values in the number2 column"
   ]
  },
  {
   "cell_type": "code",
   "execution_count": 26,
   "metadata": {},
   "outputs": [
    {
     "data": {
      "text/plain": [
       "array([ 48,  54,  58,  59,  61,  62,  63,  73,  74,  78,  79,  86,  88,\n",
       "        89, 100, 103, 111, 137, 166, 176, 213, 247, 317, 349, 350, 351,\n",
       "       352, 353, 354, 355, 356, 357, 358, 359, 360, 361, 362, 363, 364,\n",
       "       365, 366, 367, 368, 369, 372, 375, 403, 406, 429])"
      ]
     },
     "execution_count": 26,
     "metadata": {},
     "output_type": "execute_result"
    }
   ],
   "source": [
    "blob[blob.number2.isnull()].number1.unique()\n",
    "#I see a coupleof consecutive series among the number1 column."
   ]
  },
  {
   "cell_type": "code",
   "execution_count": 30,
   "metadata": {},
   "outputs": [
    {
     "data": {
      "text/plain": [
       "2585"
      ]
     },
     "execution_count": 30,
     "metadata": {},
     "output_type": "execute_result"
    }
   ],
   "source": [
    "blob.ip_source.nunique()"
   ]
  },
  {
   "cell_type": "code",
   "execution_count": 29,
   "metadata": {},
   "outputs": [
    {
     "data": {
      "text/plain": [
       "240"
      ]
     },
     "execution_count": 29,
     "metadata": {},
     "output_type": "execute_result"
    }
   ],
   "source": [
    "blob[blob.number2.isnull()].ip_source.nunique()"
   ]
  },
  {
   "cell_type": "code",
   "execution_count": 37,
   "metadata": {},
   "outputs": [],
   "source": [
    "nulls = df[df.number2.isnull()]['number1']"
   ]
  },
  {
   "cell_type": "markdown",
   "metadata": {},
   "source": [
    "Whatever these nulls mean, they were happening a lot between early this year and stops dramatically in late June"
   ]
  },
  {
   "cell_type": "code",
   "execution_count": 44,
   "metadata": {},
   "outputs": [
    {
     "data": {
      "image/png": "[encoded data removed]",
      "text/plain": [
       "<Figure size 432x288 with 1 Axes>"
      ]
     },
     "metadata": {},
     "output_type": "display_data"
    }
   ],
   "source": [
    "nulls.resample('W').count().plot()\n",
    "plt.show()"
   ]
  },
  {
   "cell_type": "markdown",
   "metadata": {},
   "source": [
    "The relationship between mystery number 1 and 2 shows some predictability."
   ]
  },
  {
   "cell_type": "code",
   "execution_count": 15,
   "metadata": {},
   "outputs": [
    {
     "data": {
      "text/plain": [
       "number2\n",
       "1.0     18\n",
       "2.0      3\n",
       "4.0      1\n",
       "6.0      2\n",
       "7.0      6\n",
       "8.0      4\n",
       "9.0      1\n",
       "11.0     5\n",
       "12.0     4\n",
       "13.0    10\n",
       "14.0    10\n",
       "15.0     5\n",
       "16.0     8\n",
       "17.0    12\n",
       "18.0    13\n",
       "19.0    16\n",
       "21.0    28\n",
       "22.0    35\n",
       "23.0    33\n",
       "24.0    33\n",
       "25.0    26\n",
       "26.0    20\n",
       "27.0    28\n",
       "28.0    19\n",
       "29.0    25\n",
       "31.0    28\n",
       "32.0    20\n",
       "33.0    29\n",
       "34.0    22\n",
       "51.0    25\n",
       "52.0    27\n",
       "Name: number1, dtype: int64"
      ]
     },
     "execution_count": 15,
     "metadata": {},
     "output_type": "execute_result"
    }
   ],
   "source": [
    "blob.groupby('number2')['number1'].nunique()"
   ]
  },
  {
   "cell_type": "markdown",
   "metadata": {},
   "source": [
    "The distribution of n_unique values grouped to number 2 looks to be bimodal, with 1-10 and 25-35 being the peaks."
   ]
  },
  {
   "cell_type": "code",
   "execution_count": 21,
   "metadata": {},
   "outputs": [
    {
     "data": {
      "text/plain": [
       "<function matplotlib.pyplot.show(*args, **kw)>"
      ]
     },
     "execution_count": 21,
     "metadata": {},
     "output_type": "execute_result"
    },
    {
     "data": {
      "image/png": "[encoded data removed]",
      "text/plain": [
       "<Figure size 432x288 with 1 Axes>"
      ]
     },
     "metadata": {},
     "output_type": "display_data"
    }
   ],
   "source": [
    "ax = sns.distplot(blob.groupby('number2')['number1'].nunique())\n",
    "ax.set_xlim(0, 45)\n",
    "plt.show"
   ]
  },
  {
   "cell_type": "markdown",
   "metadata": {},
   "source": [
    "# Lets find the normal, so we can see what's an anomaly"
   ]
  },
  {
   "cell_type": "code",
   "execution_count": 46,
   "metadata": {},
   "outputs": [
    {
     "data": {
      "text/plain": [
       "<matplotlib.axes._subplots.AxesSubplot at 0x1a26755128>"
      ]
     },
     "execution_count": 46,
     "metadata": {},
     "output_type": "execute_result"
    },
    {
     "data": {
      "image/png": "[encoded data removed]",
      "text/plain": [
       "<Figure size 432x288 with 1 Axes>"
      ]
     },
     "metadata": {},
     "output_type": "display_data"
    }
   ],
   "source": [
    "#The traffic on a weekly basis\n",
    "df.resample('W')['ip_source'].count().plot()"
   ]
  },
  {
   "cell_type": "code",
   "execution_count": 47,
   "metadata": {},
   "outputs": [
    {
     "data": {
      "text/plain": [
       "4158.28125"
      ]
     },
     "execution_count": 47,
     "metadata": {},
     "output_type": "execute_result"
    }
   ],
   "source": [
    "#Each week has about 4158 hits per week\n",
    "df.resample('W')['ip_source'].count().mean()"
   ]
  },
  {
   "cell_type": "code",
   "execution_count": 48,
   "metadata": {},
   "outputs": [
    {
     "data": {
      "text/html": [
       "<div>\n",
       "<style scoped>\n",
       "    .dataframe tbody tr th:only-of-type {\n",
       "        vertical-align: middle;\n",
       "    }\n",
       "\n",
       "    .dataframe tbody tr th {\n",
       "        vertical-align: top;\n",
       "    }\n",
       "\n",
       "    .dataframe thead th {\n",
       "        text-align: right;\n",
       "    }\n",
       "</style>\n",
       "<table border=\"1\" class=\"dataframe\">\n",
       "  <thead>\n",
       "    <tr style=\"text-align: right;\">\n",
       "      <th></th>\n",
       "      <th>resource</th>\n",
       "      <th>number1</th>\n",
       "      <th>number2</th>\n",
       "    </tr>\n",
       "    <tr>\n",
       "      <th>ip_source</th>\n",
       "      <th></th>\n",
       "      <th></th>\n",
       "      <th></th>\n",
       "    </tr>\n",
       "  </thead>\n",
       "  <tbody>\n",
       "    <tr>\n",
       "      <th>97.105.19.58</th>\n",
       "      <td>227220</td>\n",
       "      <td>227220</td>\n",
       "      <td>211289</td>\n",
       "    </tr>\n",
       "    <tr>\n",
       "      <th>97.105.19.61</th>\n",
       "      <td>61662</td>\n",
       "      <td>61662</td>\n",
       "      <td>60530</td>\n",
       "    </tr>\n",
       "    <tr>\n",
       "      <th>192.171.117.210</th>\n",
       "      <td>8127</td>\n",
       "      <td>8127</td>\n",
       "      <td>7791</td>\n",
       "    </tr>\n",
       "    <tr>\n",
       "      <th>70.122.40.62</th>\n",
       "      <td>1338</td>\n",
       "      <td>1338</td>\n",
       "      <td>1338</td>\n",
       "    </tr>\n",
       "    <tr>\n",
       "      <th>66.69.108.117</th>\n",
       "      <td>1199</td>\n",
       "      <td>1199</td>\n",
       "      <td>1199</td>\n",
       "    </tr>\n",
       "    <tr>\n",
       "      <th>173.174.211.206</th>\n",
       "      <td>1019</td>\n",
       "      <td>1019</td>\n",
       "      <td>1019</td>\n",
       "    </tr>\n",
       "    <tr>\n",
       "      <th>108.65.244.91</th>\n",
       "      <td>1007</td>\n",
       "      <td>1007</td>\n",
       "      <td>1007</td>\n",
       "    </tr>\n",
       "    <tr>\n",
       "      <th>170.248.173.245</th>\n",
       "      <td>997</td>\n",
       "      <td>997</td>\n",
       "      <td>952</td>\n",
       "    </tr>\n",
       "    <tr>\n",
       "      <th>67.11.157.190</th>\n",
       "      <td>972</td>\n",
       "      <td>972</td>\n",
       "      <td>968</td>\n",
       "    </tr>\n",
       "    <tr>\n",
       "      <th>66.69.62.219</th>\n",
       "      <td>934</td>\n",
       "      <td>934</td>\n",
       "      <td>0</td>\n",
       "    </tr>\n",
       "    <tr>\n",
       "      <th>70.118.8.243</th>\n",
       "      <td>876</td>\n",
       "      <td>876</td>\n",
       "      <td>876</td>\n",
       "    </tr>\n",
       "    <tr>\n",
       "      <th>72.181.104.64</th>\n",
       "      <td>865</td>\n",
       "      <td>865</td>\n",
       "      <td>865</td>\n",
       "    </tr>\n",
       "  </tbody>\n",
       "</table>\n",
       "</div>"
      ],
      "text/plain": [
       "                 resource  number1  number2\n",
       "ip_source                                  \n",
       "97.105.19.58       227220   227220   211289\n",
       "97.105.19.61        61662    61662    60530\n",
       "192.171.117.210      8127     8127     7791\n",
       "70.122.40.62         1338     1338     1338\n",
       "66.69.108.117        1199     1199     1199\n",
       "173.174.211.206      1019     1019     1019\n",
       "108.65.244.91        1007     1007     1007\n",
       "170.248.173.245       997      997      952\n",
       "67.11.157.190         972      972      968\n",
       "66.69.62.219          934      934        0\n",
       "70.118.8.243          876      876      876\n",
       "72.181.104.64         865      865      865"
      ]
     },
     "execution_count": 48,
     "metadata": {},
     "output_type": "execute_result"
    }
   ],
   "source": [
    "#The top twelve most common clients' IP address\n",
    "df.groupby('ip_source').count().sort_values('resource',ascending=False).head(12)"
   ]
  },
  {
   "cell_type": "markdown",
   "metadata": {},
   "source": [
    "97.105.19.X is traffic from the Codeup Router"
   ]
  },
  {
   "cell_type": "code",
   "execution_count": 49,
   "metadata": {},
   "outputs": [],
   "source": [
    "clients = df.ip_source"
   ]
  },
  {
   "cell_type": "code",
   "execution_count": 53,
   "metadata": {},
   "outputs": [],
   "source": [
    "local_traffic = df[(df.ip_source == '97.105.19.58') | (df.ip_source =='97.105.19.61')]"
   ]
  },
  {
   "cell_type": "code",
   "execution_count": 55,
   "metadata": {},
   "outputs": [],
   "source": [
    "outside_traffic = df[(df.ip_source != '97.105.19.58') | (df.ip_source != '97.105.19.61')]"
   ]
  },
  {
   "cell_type": "markdown",
   "metadata": {},
   "source": [
    "Looks like the traffic getting to the curricullum is paired. No real diffenrences between them"
   ]
  },
  {
   "cell_type": "code",
   "execution_count": 61,
   "metadata": {},
   "outputs": [
    {
     "data": {
      "image/png": "[encoded data removed]",
      "text/plain": [
       "<Figure size 432x288 with 1 Axes>"
      ]
     },
     "metadata": {},
     "output_type": "display_data"
    }
   ],
   "source": [
    "outside_traffic.resample('W')['ip_source'].count().plot()\n",
    "local_traffic.resample('W')['ip_source'].count().plot()\n",
    "plt.show()"
   ]
  },
  {
   "cell_type": "markdown",
   "metadata": {},
   "source": [
    "## They shoot cohorts, don't they"
   ]
  },
  {
   "cell_type": "code",
   "execution_count": 62,
   "metadata": {},
   "outputs": [],
   "source": [
    "first_cohort = df[df.number2 == 1]\n",
    "last_cohort = df[df.number2 == 51]"
   ]
  },
  {
   "cell_type": "markdown",
   "metadata": {},
   "source": [
    "If number2 does correspond to the cohorts accessing the curriculum, the plots would indicate so."
   ]
  },
  {
   "cell_type": "code",
   "execution_count": 72,
   "metadata": {},
   "outputs": [
    {
     "data": {
      "text/plain": [
       "<matplotlib.axes._subplots.AxesSubplot at 0x1a26c510f0>"
      ]
     },
     "execution_count": 72,
     "metadata": {},
     "output_type": "execute_result"
    },
    {
     "data": {
      "image/png": "[encoded data removed]",
      "text/plain": [
       "<Figure size 432x288 with 1 Axes>"
      ]
     },
     "metadata": {},
     "output_type": "display_data"
    }
   ],
   "source": [
    "first_cohort.resample('M')['ip_source'].count().plot()\n",
    "last_cohort.resample('M')['ip_source'].count().plot()"
   ]
  },
  {
   "cell_type": "markdown",
   "metadata": {},
   "source": [
    "## Maybe Bayes?"
   ]
  },
  {
   "cell_type": "code",
   "execution_count": 66,
   "metadata": {},
   "outputs": [],
   "source": [
    "bayes = df[df.number2 == 34]"
   ]
  },
  {
   "cell_type": "markdown",
   "metadata": {},
   "source": [
    "I think we started with 22 students in Bayes"
   ]
  },
  {
   "cell_type": "code",
   "execution_count": 68,
   "metadata": {},
   "outputs": [
    {
     "data": {
      "text/plain": [
       "22"
      ]
     },
     "execution_count": 68,
     "metadata": {},
     "output_type": "execute_result"
    }
   ],
   "source": [
    "bayes.number1.nunique()"
   ]
  },
  {
   "cell_type": "markdown",
   "metadata": {},
   "source": [
    "Data for this possible Bayes cohort is consistent with the start date"
   ]
  },
  {
   "cell_type": "code",
   "execution_count": 74,
   "metadata": {},
   "outputs": [
    {
     "data": {
      "text/plain": [
       "(2509, 2600)"
      ]
     },
     "execution_count": 74,
     "metadata": {},
     "output_type": "execute_result"
    },
    {
     "data": {
      "image/png": "[encoded data removed]",
      "text/plain": [
       "<Figure size 432x288 with 1 Axes>"
      ]
     },
     "metadata": {},
     "output_type": "display_data"
    }
   ],
   "source": [
    "ax = bayes.resample('W')['ip_source'].count().plot()\n",
    "ax.set_xlim('2018-01-26', '2019-10-26')"
   ]
  },
  {
   "cell_type": "markdown",
   "metadata": {},
   "source": [
    "Maybe Sean?"
   ]
  },
  {
   "cell_type": "code",
   "execution_count": null,
   "metadata": {},
   "outputs": [],
   "source": [
    "#bayes.groupby('number1')['resource'].count()\n",
    "# bayes.pivot_table(values = 'resource', index='number1', columns='ip_source')"
   ]
  },
  {
   "cell_type": "code",
   "execution_count": 75,
   "metadata": {},
   "outputs": [],
   "source": [
    "sean = df[df.number1 == 358]"
   ]
  },
  {
   "cell_type": "code",
   "execution_count": 89,
   "metadata": {},
   "outputs": [
    {
     "data": {
      "text/plain": [
       "<matplotlib.axes._subplots.AxesSubplot at 0x1a2a8d4828>"
      ]
     },
     "execution_count": 89,
     "metadata": {},
     "output_type": "execute_result"
    },
    {
     "data": {
      "image/png": "[encoded data removed]",
      "text/plain": [
       "<Figure size 432x288 with 1 Axes>"
      ]
     },
     "metadata": {},
     "output_type": "display_data"
    }
   ],
   "source": [
    "ax = bayes.resample('W')['ip_source'].count().plot()\n",
    "ax.set_xlim('2018-01-26', '2019-10-26')\n",
    "sean.resample('W')['ip_source'].count().plot()"
   ]
  },
  {
   "cell_type": "markdown",
   "metadata": {},
   "source": [
    "## Instructors?"
   ]
  },
  {
   "cell_type": "code",
   "execution_count": 93,
   "metadata": {},
   "outputs": [
    {
     "data": {
      "text/plain": [
       "array(['/', 'java-ii', 'java-ii/object-oriented-programming', ...,\n",
       "       '9-timeseries/5.1-modeling-lesson1',\n",
       "       '9-timeseries/5.2-modeling-lesson2', 'alumni'], dtype=object)"
      ]
     },
     "execution_count": 93,
     "metadata": {},
     "output_type": "execute_result"
    }
   ],
   "source": [
    "df.resource.unique()"
   ]
  },
  {
   "cell_type": "code",
   "execution_count": 99,
   "metadata": {},
   "outputs": [],
   "source": [
    "javascript = df[df.resource.str.match('javascript')]"
   ]
  },
  {
   "cell_type": "code",
   "execution_count": 98,
   "metadata": {},
   "outputs": [],
   "source": [
    "time_series = df[df.resource.str.match('9-timeseries')]"
   ]
  },
  {
   "cell_type": "code",
   "execution_count": 100,
   "metadata": {},
   "outputs": [
    {
     "data": {
      "text/plain": [
       "417"
      ]
     },
     "execution_count": 100,
     "metadata": {},
     "output_type": "execute_result"
    }
   ],
   "source": [
    "javascript.number1.nunique()"
   ]
  },
  {
   "cell_type": "markdown",
   "metadata": {},
   "source": [
    "I'm willing to bet 11, 146, 248 and 1 are instructors"
   ]
  },
  {
   "cell_type": "code",
   "execution_count": 102,
   "metadata": {},
   "outputs": [
    {
     "data": {
      "text/plain": [
       "array([404,  11, 467, 485, 471, 354, 363, 403, 353, 248, 481, 349, 484,\n",
       "       476, 479,   1, 429, 469, 478, 146, 369, 351, 361, 483, 468, 480,\n",
       "       482, 474, 470, 477, 475, 473, 358, 466, 472])"
      ]
     },
     "execution_count": 102,
     "metadata": {},
     "output_type": "execute_result"
    }
   ],
   "source": [
    "time_series.number1.unique()"
   ]
  },
  {
   "cell_type": "code",
   "execution_count": 108,
   "metadata": {},
   "outputs": [
    {
     "data": {
      "text/html": [
       "<div>\n",
       "<style scoped>\n",
       "    .dataframe tbody tr th:only-of-type {\n",
       "        vertical-align: middle;\n",
       "    }\n",
       "\n",
       "    .dataframe tbody tr th {\n",
       "        vertical-align: top;\n",
       "    }\n",
       "\n",
       "    .dataframe thead th {\n",
       "        text-align: right;\n",
       "    }\n",
       "</style>\n",
       "<table border=\"1\" class=\"dataframe\">\n",
       "  <thead>\n",
       "    <tr style=\"text-align: right;\">\n",
       "      <th></th>\n",
       "      <th>resource</th>\n",
       "      <th>number1</th>\n",
       "      <th>number2</th>\n",
       "      <th>ip_source</th>\n",
       "    </tr>\n",
       "    <tr>\n",
       "      <th>Date</th>\n",
       "      <th></th>\n",
       "      <th></th>\n",
       "      <th></th>\n",
       "      <th></th>\n",
       "    </tr>\n",
       "  </thead>\n",
       "  <tbody>\n",
       "    <tr>\n",
       "      <th>2018-09-05 14:28:23</th>\n",
       "      <td>/</td>\n",
       "      <td>248</td>\n",
       "      <td>1.0</td>\n",
       "      <td>97.105.19.58</td>\n",
       "    </tr>\n",
       "    <tr>\n",
       "      <th>2018-09-07 14:53:23</th>\n",
       "      <td>/</td>\n",
       "      <td>248</td>\n",
       "      <td>1.0</td>\n",
       "      <td>97.105.19.58</td>\n",
       "    </tr>\n",
       "    <tr>\n",
       "      <th>2018-09-07 14:54:13</th>\n",
       "      <td>html-css</td>\n",
       "      <td>248</td>\n",
       "      <td>1.0</td>\n",
       "      <td>97.105.19.58</td>\n",
       "    </tr>\n",
       "    <tr>\n",
       "      <th>2018-09-07 14:56:07</th>\n",
       "      <td>html-css/introduction</td>\n",
       "      <td>248</td>\n",
       "      <td>1.0</td>\n",
       "      <td>97.105.19.58</td>\n",
       "    </tr>\n",
       "    <tr>\n",
       "      <th>2018-09-07 14:57:00</th>\n",
       "      <td>html-css/elements</td>\n",
       "      <td>248</td>\n",
       "      <td>1.0</td>\n",
       "      <td>97.105.19.58</td>\n",
       "    </tr>\n",
       "  </tbody>\n",
       "</table>\n",
       "</div>"
      ],
      "text/plain": [
       "                                  resource  number1  number2     ip_source\n",
       "Date                                                                      \n",
       "2018-09-05 14:28:23                      /      248      1.0  97.105.19.58\n",
       "2018-09-07 14:53:23                      /      248      1.0  97.105.19.58\n",
       "2018-09-07 14:54:13               html-css      248      1.0  97.105.19.58\n",
       "2018-09-07 14:56:07  html-css/introduction      248      1.0  97.105.19.58\n",
       "2018-09-07 14:57:00      html-css/elements      248      1.0  97.105.19.58"
      ]
     },
     "execution_count": 108,
     "metadata": {},
     "output_type": "execute_result"
    }
   ],
   "source": [
    "df[df.number1 == 248].head()"
   ]
  },
  {
   "cell_type": "code",
   "execution_count": 109,
   "metadata": {},
   "outputs": [
    {
     "data": {
      "text/html": [
       "<div>\n",
       "<style scoped>\n",
       "    .dataframe tbody tr th:only-of-type {\n",
       "        vertical-align: middle;\n",
       "    }\n",
       "\n",
       "    .dataframe tbody tr th {\n",
       "        vertical-align: top;\n",
       "    }\n",
       "\n",
       "    .dataframe thead th {\n",
       "        text-align: right;\n",
       "    }\n",
       "</style>\n",
       "<table border=\"1\" class=\"dataframe\">\n",
       "  <thead>\n",
       "    <tr style=\"text-align: right;\">\n",
       "      <th></th>\n",
       "      <th>resource</th>\n",
       "      <th>number1</th>\n",
       "      <th>number2</th>\n",
       "      <th>ip_source</th>\n",
       "    </tr>\n",
       "    <tr>\n",
       "      <th>Date</th>\n",
       "      <th></th>\n",
       "      <th></th>\n",
       "      <th></th>\n",
       "      <th></th>\n",
       "    </tr>\n",
       "  </thead>\n",
       "  <tbody>\n",
       "    <tr>\n",
       "      <th>2019-11-19 09:45:31</th>\n",
       "      <td>10-anomaly-detection/exercises</td>\n",
       "      <td>248</td>\n",
       "      <td>28.0</td>\n",
       "      <td>97.105.19.58</td>\n",
       "    </tr>\n",
       "    <tr>\n",
       "      <th>2019-11-19 09:45:38</th>\n",
       "      <td>10-anomaly-detection/2-detecting-through-proba...</td>\n",
       "      <td>248</td>\n",
       "      <td>28.0</td>\n",
       "      <td>97.105.19.58</td>\n",
       "    </tr>\n",
       "    <tr>\n",
       "      <th>2019-11-19 09:46:05</th>\n",
       "      <td>10-anomaly-detection/3-detecting-timeseries-an...</td>\n",
       "      <td>248</td>\n",
       "      <td>28.0</td>\n",
       "      <td>97.105.19.58</td>\n",
       "    </tr>\n",
       "    <tr>\n",
       "      <th>2019-11-19 09:46:09</th>\n",
       "      <td>10-anomaly-detection/4-detecting-with-clustering</td>\n",
       "      <td>248</td>\n",
       "      <td>28.0</td>\n",
       "      <td>97.105.19.58</td>\n",
       "    </tr>\n",
       "    <tr>\n",
       "      <th>2019-11-19 09:46:55</th>\n",
       "      <td>10-anomaly-detection/2-detecting-through-proba...</td>\n",
       "      <td>248</td>\n",
       "      <td>28.0</td>\n",
       "      <td>97.105.19.58</td>\n",
       "    </tr>\n",
       "  </tbody>\n",
       "</table>\n",
       "</div>"
      ],
      "text/plain": [
       "                                                              resource  \\\n",
       "Date                                                                     \n",
       "2019-11-19 09:45:31                     10-anomaly-detection/exercises   \n",
       "2019-11-19 09:45:38  10-anomaly-detection/2-detecting-through-proba...   \n",
       "2019-11-19 09:46:05  10-anomaly-detection/3-detecting-timeseries-an...   \n",
       "2019-11-19 09:46:09   10-anomaly-detection/4-detecting-with-clustering   \n",
       "2019-11-19 09:46:55  10-anomaly-detection/2-detecting-through-proba...   \n",
       "\n",
       "                     number1  number2     ip_source  \n",
       "Date                                                 \n",
       "2019-11-19 09:45:31      248     28.0  97.105.19.58  \n",
       "2019-11-19 09:45:38      248     28.0  97.105.19.58  \n",
       "2019-11-19 09:46:05      248     28.0  97.105.19.58  \n",
       "2019-11-19 09:46:09      248     28.0  97.105.19.58  \n",
       "2019-11-19 09:46:55      248     28.0  97.105.19.58  "
      ]
     },
     "execution_count": 109,
     "metadata": {},
     "output_type": "execute_result"
    }
   ],
   "source": [
    "df[df.number1 == 248].tail()"
   ]
  },
  {
   "cell_type": "markdown",
   "metadata": {},
   "source": [
    "Whoever 248 is, they're making requests to the curricullum from the internal traffic address."
   ]
  },
  {
   "cell_type": "markdown",
   "metadata": {},
   "source": [
    "## USING SOME DATA THAT GARRETT PUT TOGETHER"
   ]
  },
  {
   "cell_type": "code",
   "execution_count": null,
   "metadata": {},
   "outputs": [],
   "source": [
    "IP_DF = pd.read_csv('/Users/fredricklambuth/Downloads/GEOs', header=None)"
   ]
  },
  {
   "cell_type": "code",
   "execution_count": null,
   "metadata": {},
   "outputs": [],
   "source": [
    "geoDF = pd.read_csv('/Users/fredricklambuth/Downloads/IPs', header=None)"
   ]
  },
  {
   "cell_type": "code",
   "execution_count": null,
   "metadata": {},
   "outputs": [],
   "source": [
    "geoDF['IP'] = IP_DF[0]"
   ]
  },
  {
   "cell_type": "code",
   "execution_count": null,
   "metadata": {},
   "outputs": [],
   "source": [
    "geoDF = geoDF.rename(columns={0: \"State\", 1: \"City\", 2: \"Org\"})"
   ]
  },
  {
   "cell_type": "code",
   "execution_count": null,
   "metadata": {},
   "outputs": [],
   "source": [
    "geoDF.City = geoDF.City.str.strip(\"'\")"
   ]
  },
  {
   "cell_type": "code",
   "execution_count": null,
   "metadata": {},
   "outputs": [],
   "source": [
    "geoDF"
   ]
  },
  {
   "cell_type": "code",
   "execution_count": null,
   "metadata": {},
   "outputs": [],
   "source": []
  }
 ],
 "metadata": {
  "kernelspec": {
   "display_name": "Python 3",
   "language": "python",
   "name": "python3"
  },
  "language_info": {
   "codemirror_mode": {
    "name": "ipython",
    "version": 3
   },
   "file_extension": ".py",
   "mimetype": "text/x-python",
   "name": "python",
   "nbconvert_exporter": "python",
   "pygments_lexer": "ipython3",
   "version": "3.7.3"
  }
 },
 "nbformat": 4,
 "nbformat_minor": 2
}
