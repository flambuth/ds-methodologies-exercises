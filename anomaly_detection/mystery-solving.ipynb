{
 "cells": [
  {
   "cell_type": "code",
   "execution_count": 1,
   "metadata": {},
   "outputs": [],
   "source": [
    "import numpy as np\n",
    "import pandas as pd"
   ]
  },
  {
   "cell_type": "code",
   "execution_count": 2,
   "metadata": {},
   "outputs": [],
   "source": [
    "import warnings\n",
    "import matplotlib.pyplot as plt\n",
    "import matplotlib.dates as mdates\n",
    "import seaborn as sns\n",
    "from pylab import rcParams"
   ]
  },
  {
   "cell_type": "code",
   "execution_count": 3,
   "metadata": {},
   "outputs": [],
   "source": [
    "#Style-settings for Notebook\n",
    "rcParams['figure.figsize'] = 18, 8\n",
    "plt.style.use('fivethirtyeight')\n",
    "warnings.filterwarnings(\"ignore\")\n",
    "%matplotlib inline"
   ]
  },
  {
   "cell_type": "markdown",
   "metadata": {},
   "source": [
    "## Nous regardons le journal de Webserver"
   ]
  },
  {
   "cell_type": "code",
   "execution_count": 4,
   "metadata": {},
   "outputs": [],
   "source": [
    "#My names for the 6 fields of this logfile. I have no idea what number1 and number2 are supposed to be\n",
    "cols = ['date', 'time','resource','number1','number2','ip_source']"
   ]
  },
  {
   "cell_type": "markdown",
   "metadata": {},
   "source": [
    "#### ca me manque mes jours commen un sysadmin"
   ]
  },
  {
   "cell_type": "code",
   "execution_count": null,
   "metadata": {},
   "outputs": [],
   "source": [
    "!echo You can do it again if you want. Just uncomment this line\n",
    "#!awk 'BEGIN { FS = OFS = \"\\t\" } { for(i=1; i<=NF; i++) if($i ~ /^ *$/) $i = 0 }; 1' anonymized-curriculum-access.txt > crap.txt\n",
    "\n",
    "#!awk '{print $1 \" \" $2 \",\" $3 \",\" $4 \",\" $5 \",\" $6}' crap.txt > crapGood.txt"
   ]
  },
  {
   "cell_type": "code",
   "execution_count": 5,
   "metadata": {},
   "outputs": [],
   "source": [
    "cols2 = ['datetime','resource','number1','number2','ip_source']\n",
    "schmutz = pd.read_csv('crapGood.txt', names=cols2, parse_dates = [0], index_col = [0])"
   ]
  },
  {
   "cell_type": "code",
   "execution_count": 6,
   "metadata": {},
   "outputs": [
    {
     "name": "stdout",
     "output_type": "stream",
     "text": [
      "<class 'pandas.core.frame.DataFrame'>\n",
      "DatetimeIndex: 399195 entries, 2018-01-26 09:55:03 to 2019-11-19 10:07:45\n",
      "Data columns (total 4 columns):\n",
      "resource     399195 non-null object\n",
      "number1      399195 non-null int64\n",
      "number2      398890 non-null object\n",
      "ip_source    372746 non-null object\n",
      "dtypes: int64(1), object(3)\n",
      "memory usage: 15.2+ MB\n"
     ]
    }
   ],
   "source": [
    "schmutz.info()\n",
    "#merde"
   ]
  },
  {
   "cell_type": "markdown",
   "metadata": {},
   "source": [
    "#### maudire ces valeures nulles! Mon AWK code est trop vieux pour cette tache´"
   ]
  },
  {
   "cell_type": "code",
   "execution_count": 7,
   "metadata": {},
   "outputs": [],
   "source": [
    "#We can convince Pandas it's a CSV if we tell it the C is a blank space\n",
    "#blob = pd.read_csv('anonymized-curriculum-access.txt', sep=' ', names=cols, parse_dates = [0], index_col = [0])\n",
    "blob = pd.read_csv('anonymized-curriculum-access.txt.ORIG', sep=' ', names=cols)"
   ]
  },
  {
   "cell_type": "code",
   "execution_count": 8,
   "metadata": {},
   "outputs": [],
   "source": [
    "#Cleaning up the time data.\n",
    "Date = blob['date'] + ' ' + blob['time']\n",
    "Date = pd.to_datetime(Date)\n",
    "blob['Date'] = Date\n",
    "blob.drop(['date','time'],axis=1,inplace=True)\n",
    "blob.set_index('Date',inplace=True)\n",
    "df = blob\n",
    "#df = schmutz"
   ]
  },
  {
   "cell_type": "code",
   "execution_count": null,
   "metadata": {},
   "outputs": [],
   "source": [
    "df.info()"
   ]
  },
  {
   "cell_type": "code",
   "execution_count": 74,
   "metadata": {},
   "outputs": [
    {
     "data": {
      "text/html": [
       "<div>\n",
       "<style scoped>\n",
       "    .dataframe tbody tr th:only-of-type {\n",
       "        vertical-align: middle;\n",
       "    }\n",
       "\n",
       "    .dataframe tbody tr th {\n",
       "        vertical-align: top;\n",
       "    }\n",
       "\n",
       "    .dataframe thead th {\n",
       "        text-align: right;\n",
       "    }\n",
       "</style>\n",
       "<table border=\"1\" class=\"dataframe\">\n",
       "  <thead>\n",
       "    <tr style=\"text-align: right;\">\n",
       "      <th></th>\n",
       "      <th>resource</th>\n",
       "      <th>number1</th>\n",
       "      <th>number2</th>\n",
       "      <th>ip_source</th>\n",
       "    </tr>\n",
       "    <tr>\n",
       "      <th>Date</th>\n",
       "      <th></th>\n",
       "      <th></th>\n",
       "      <th></th>\n",
       "      <th></th>\n",
       "    </tr>\n",
       "  </thead>\n",
       "  <tbody>\n",
       "    <tr>\n",
       "      <th>2018-01-26 09:55:03</th>\n",
       "      <td>/</td>\n",
       "      <td>1</td>\n",
       "      <td>8.0</td>\n",
       "      <td>97.105.19.61</td>\n",
       "    </tr>\n",
       "    <tr>\n",
       "      <th>2018-01-26 09:56:02</th>\n",
       "      <td>java-ii</td>\n",
       "      <td>1</td>\n",
       "      <td>8.0</td>\n",
       "      <td>97.105.19.61</td>\n",
       "    </tr>\n",
       "    <tr>\n",
       "      <th>2018-01-26 09:56:05</th>\n",
       "      <td>java-ii/object-oriented-programming</td>\n",
       "      <td>1</td>\n",
       "      <td>8.0</td>\n",
       "      <td>97.105.19.61</td>\n",
       "    </tr>\n",
       "    <tr>\n",
       "      <th>2018-01-26 09:56:06</th>\n",
       "      <td>slides/object_oriented_programming</td>\n",
       "      <td>1</td>\n",
       "      <td>8.0</td>\n",
       "      <td>97.105.19.61</td>\n",
       "    </tr>\n",
       "    <tr>\n",
       "      <th>2018-01-26 09:56:24</th>\n",
       "      <td>javascript-i/conditionals</td>\n",
       "      <td>2</td>\n",
       "      <td>22.0</td>\n",
       "      <td>97.105.19.61</td>\n",
       "    </tr>\n",
       "    <tr>\n",
       "      <th>2018-01-26 09:56:41</th>\n",
       "      <td>javascript-i/loops</td>\n",
       "      <td>2</td>\n",
       "      <td>22.0</td>\n",
       "      <td>97.105.19.61</td>\n",
       "    </tr>\n",
       "    <tr>\n",
       "      <th>2018-01-26 09:56:46</th>\n",
       "      <td>javascript-i/conditionals</td>\n",
       "      <td>3</td>\n",
       "      <td>22.0</td>\n",
       "      <td>97.105.19.61</td>\n",
       "    </tr>\n",
       "    <tr>\n",
       "      <th>2018-01-26 09:56:48</th>\n",
       "      <td>javascript-i/functions</td>\n",
       "      <td>3</td>\n",
       "      <td>22.0</td>\n",
       "      <td>97.105.19.61</td>\n",
       "    </tr>\n",
       "    <tr>\n",
       "      <th>2018-01-26 09:56:59</th>\n",
       "      <td>javascript-i/loops</td>\n",
       "      <td>2</td>\n",
       "      <td>22.0</td>\n",
       "      <td>97.105.19.61</td>\n",
       "    </tr>\n",
       "    <tr>\n",
       "      <th>2018-01-26 09:58:26</th>\n",
       "      <td>javascript-i/functions</td>\n",
       "      <td>4</td>\n",
       "      <td>22.0</td>\n",
       "      <td>97.105.19.61</td>\n",
       "    </tr>\n",
       "    <tr>\n",
       "      <th>2018-01-26 09:59:22</th>\n",
       "      <td>mkdocs/search_index.json</td>\n",
       "      <td>5</td>\n",
       "      <td>22.0</td>\n",
       "      <td>97.105.19.61</td>\n",
       "    </tr>\n",
       "    <tr>\n",
       "      <th>2018-01-26 10:00:02</th>\n",
       "      <td>javascript-i/introduction/working-with-data-ty...</td>\n",
       "      <td>6</td>\n",
       "      <td>22.0</td>\n",
       "      <td>97.105.19.61</td>\n",
       "    </tr>\n",
       "    <tr>\n",
       "      <th>2018-01-26 10:00:37</th>\n",
       "      <td>/</td>\n",
       "      <td>6</td>\n",
       "      <td>22.0</td>\n",
       "      <td>97.105.19.61</td>\n",
       "    </tr>\n",
       "    <tr>\n",
       "      <th>2018-01-26 10:00:39</th>\n",
       "      <td>javascript-i</td>\n",
       "      <td>6</td>\n",
       "      <td>22.0</td>\n",
       "      <td>97.105.19.61</td>\n",
       "    </tr>\n",
       "    <tr>\n",
       "      <th>2018-01-26 10:00:44</th>\n",
       "      <td>javascript-i/introduction/working-with-data-ty...</td>\n",
       "      <td>6</td>\n",
       "      <td>22.0</td>\n",
       "      <td>97.105.19.61</td>\n",
       "    </tr>\n",
       "    <tr>\n",
       "      <th>2018-01-26 10:00:49</th>\n",
       "      <td>javascript-i/introduction/variables</td>\n",
       "      <td>6</td>\n",
       "      <td>22.0</td>\n",
       "      <td>97.105.19.61</td>\n",
       "    </tr>\n",
       "    <tr>\n",
       "      <th>2018-01-26 10:00:57</th>\n",
       "      <td>javascript-i/introduction/operators</td>\n",
       "      <td>6</td>\n",
       "      <td>22.0</td>\n",
       "      <td>97.105.19.61</td>\n",
       "    </tr>\n",
       "    <tr>\n",
       "      <th>2018-01-26 10:01:12</th>\n",
       "      <td>javascript-i/introduction/working-with-data-ty...</td>\n",
       "      <td>6</td>\n",
       "      <td>22.0</td>\n",
       "      <td>97.105.19.61</td>\n",
       "    </tr>\n",
       "    <tr>\n",
       "      <th>2018-01-26 10:02:02</th>\n",
       "      <td>javascript-i/functions</td>\n",
       "      <td>7</td>\n",
       "      <td>22.0</td>\n",
       "      <td>97.105.19.61</td>\n",
       "    </tr>\n",
       "    <tr>\n",
       "      <th>2018-01-26 10:02:21</th>\n",
       "      <td>javascript-i/functions</td>\n",
       "      <td>8</td>\n",
       "      <td>22.0</td>\n",
       "      <td>97.105.19.61</td>\n",
       "    </tr>\n",
       "    <tr>\n",
       "      <th>2018-01-26 10:02:42</th>\n",
       "      <td>javascript-i/functions</td>\n",
       "      <td>9</td>\n",
       "      <td>22.0</td>\n",
       "      <td>97.105.19.61</td>\n",
       "    </tr>\n",
       "    <tr>\n",
       "      <th>2018-01-26 10:05:26</th>\n",
       "      <td>javascript-i/conditionals</td>\n",
       "      <td>7</td>\n",
       "      <td>22.0</td>\n",
       "      <td>97.105.19.61</td>\n",
       "    </tr>\n",
       "    <tr>\n",
       "      <th>2018-01-26 10:05:36</th>\n",
       "      <td>javascript-i/functions</td>\n",
       "      <td>7</td>\n",
       "      <td>22.0</td>\n",
       "      <td>97.105.19.61</td>\n",
       "    </tr>\n",
       "    <tr>\n",
       "      <th>2018-01-26 10:08:22</th>\n",
       "      <td>mkdocs/search_index.json</td>\n",
       "      <td>10</td>\n",
       "      <td>21.0</td>\n",
       "      <td>97.105.19.61</td>\n",
       "    </tr>\n",
       "    <tr>\n",
       "      <th>2018-01-26 10:08:34</th>\n",
       "      <td>git/merge-conflict-demo</td>\n",
       "      <td>10</td>\n",
       "      <td>21.0</td>\n",
       "      <td>97.105.19.61</td>\n",
       "    </tr>\n",
       "    <tr>\n",
       "      <th>2018-01-26 10:08:45</th>\n",
       "      <td>mkdocs/search_index.json</td>\n",
       "      <td>10</td>\n",
       "      <td>21.0</td>\n",
       "      <td>97.105.19.61</td>\n",
       "    </tr>\n",
       "    <tr>\n",
       "      <th>2018-01-26 10:08:55</th>\n",
       "      <td>git/working-in-teams</td>\n",
       "      <td>10</td>\n",
       "      <td>21.0</td>\n",
       "      <td>97.105.19.61</td>\n",
       "    </tr>\n",
       "    <tr>\n",
       "      <th>2018-01-26 10:09:15</th>\n",
       "      <td>javascript-i/introduction/primitive-types</td>\n",
       "      <td>4</td>\n",
       "      <td>22.0</td>\n",
       "      <td>97.105.19.61</td>\n",
       "    </tr>\n",
       "    <tr>\n",
       "      <th>2018-01-26 10:09:24</th>\n",
       "      <td>javascript-i/introduction/operators</td>\n",
       "      <td>4</td>\n",
       "      <td>22.0</td>\n",
       "      <td>97.105.19.61</td>\n",
       "    </tr>\n",
       "    <tr>\n",
       "      <th>2018-01-26 10:10:16</th>\n",
       "      <td>javascript-i/functions</td>\n",
       "      <td>3</td>\n",
       "      <td>22.0</td>\n",
       "      <td>97.105.19.61</td>\n",
       "    </tr>\n",
       "    <tr>\n",
       "      <th>...</th>\n",
       "      <td>...</td>\n",
       "      <td>...</td>\n",
       "      <td>...</td>\n",
       "      <td>...</td>\n",
       "    </tr>\n",
       "    <tr>\n",
       "      <th>2019-11-19 10:00:27</th>\n",
       "      <td>html-css</td>\n",
       "      <td>522</td>\n",
       "      <td>52.0</td>\n",
       "      <td>97.105.19.58</td>\n",
       "    </tr>\n",
       "    <tr>\n",
       "      <th>2019-11-19 10:00:29</th>\n",
       "      <td>html-css/css-ii/bootstrap-introduction</td>\n",
       "      <td>540</td>\n",
       "      <td>52.0</td>\n",
       "      <td>97.105.19.58</td>\n",
       "    </tr>\n",
       "    <tr>\n",
       "      <th>2019-11-19 10:00:33</th>\n",
       "      <td>html-css/css-ii/bootstrap-introduction</td>\n",
       "      <td>522</td>\n",
       "      <td>52.0</td>\n",
       "      <td>97.105.19.58</td>\n",
       "    </tr>\n",
       "    <tr>\n",
       "      <th>2019-11-19 10:00:40</th>\n",
       "      <td>html-css/css-ii/bootstrap-introduction</td>\n",
       "      <td>526</td>\n",
       "      <td>52.0</td>\n",
       "      <td>97.105.19.58</td>\n",
       "    </tr>\n",
       "    <tr>\n",
       "      <th>2019-11-19 10:00:54</th>\n",
       "      <td>html-css/css-ii/bootstrap-introduction</td>\n",
       "      <td>542</td>\n",
       "      <td>52.0</td>\n",
       "      <td>97.105.19.58</td>\n",
       "    </tr>\n",
       "    <tr>\n",
       "      <th>2019-11-19 10:01:23</th>\n",
       "      <td>10-anomaly-detection/exercises</td>\n",
       "      <td>11</td>\n",
       "      <td>28.0</td>\n",
       "      <td>97.105.19.58</td>\n",
       "    </tr>\n",
       "    <tr>\n",
       "      <th>2019-11-19 10:01:25</th>\n",
       "      <td>6-regression/1-overview</td>\n",
       "      <td>11</td>\n",
       "      <td>28.0</td>\n",
       "      <td>97.105.19.58</td>\n",
       "    </tr>\n",
       "    <tr>\n",
       "      <th>2019-11-19 10:01:40</th>\n",
       "      <td>9-timeseries/5.1-modeling-lesson1</td>\n",
       "      <td>475</td>\n",
       "      <td>34.0</td>\n",
       "      <td>97.105.19.58</td>\n",
       "    </tr>\n",
       "    <tr>\n",
       "      <th>2019-11-19 10:01:50</th>\n",
       "      <td>html-css/css-ii/bootstrap-introduction</td>\n",
       "      <td>516</td>\n",
       "      <td>52.0</td>\n",
       "      <td>97.105.19.58</td>\n",
       "    </tr>\n",
       "    <tr>\n",
       "      <th>2019-11-19 10:02:00</th>\n",
       "      <td>html-css/css-ii/bootstrap-introduction</td>\n",
       "      <td>532</td>\n",
       "      <td>52.0</td>\n",
       "      <td>97.105.19.58</td>\n",
       "    </tr>\n",
       "    <tr>\n",
       "      <th>2019-11-19 10:02:24</th>\n",
       "      <td>html-css/css-ii/bootstrap-introduction</td>\n",
       "      <td>535</td>\n",
       "      <td>52.0</td>\n",
       "      <td>97.105.19.58</td>\n",
       "    </tr>\n",
       "    <tr>\n",
       "      <th>2019-11-19 10:02:38</th>\n",
       "      <td>9-timeseries/3-prep</td>\n",
       "      <td>467</td>\n",
       "      <td>34.0</td>\n",
       "      <td>97.105.19.58</td>\n",
       "    </tr>\n",
       "    <tr>\n",
       "      <th>2019-11-19 10:03:01</th>\n",
       "      <td>9-timeseries/2-acquire</td>\n",
       "      <td>475</td>\n",
       "      <td>34.0</td>\n",
       "      <td>97.105.19.58</td>\n",
       "    </tr>\n",
       "    <tr>\n",
       "      <th>2019-11-19 10:03:48</th>\n",
       "      <td>/</td>\n",
       "      <td>455</td>\n",
       "      <td>33.0</td>\n",
       "      <td>97.105.19.58</td>\n",
       "    </tr>\n",
       "    <tr>\n",
       "      <th>2019-11-19 10:04:02</th>\n",
       "      <td>toc</td>\n",
       "      <td>528</td>\n",
       "      <td>52.0</td>\n",
       "      <td>97.105.19.58</td>\n",
       "    </tr>\n",
       "    <tr>\n",
       "      <th>2019-11-19 10:04:04</th>\n",
       "      <td>spring</td>\n",
       "      <td>455</td>\n",
       "      <td>33.0</td>\n",
       "      <td>97.105.19.58</td>\n",
       "    </tr>\n",
       "    <tr>\n",
       "      <th>2019-11-19 10:04:08</th>\n",
       "      <td>html-css/css-ii/bootstrap-introduction</td>\n",
       "      <td>528</td>\n",
       "      <td>52.0</td>\n",
       "      <td>97.105.19.58</td>\n",
       "    </tr>\n",
       "    <tr>\n",
       "      <th>2019-11-19 10:04:12</th>\n",
       "      <td>appendix</td>\n",
       "      <td>455</td>\n",
       "      <td>33.0</td>\n",
       "      <td>97.105.19.58</td>\n",
       "    </tr>\n",
       "    <tr>\n",
       "      <th>2019-11-19 10:04:19</th>\n",
       "      <td>appendix/capstone-workbook</td>\n",
       "      <td>455</td>\n",
       "      <td>33.0</td>\n",
       "      <td>97.105.19.58</td>\n",
       "    </tr>\n",
       "    <tr>\n",
       "      <th>2019-11-19 10:04:27</th>\n",
       "      <td>search/search_index.json</td>\n",
       "      <td>455</td>\n",
       "      <td>33.0</td>\n",
       "      <td>97.105.19.58</td>\n",
       "    </tr>\n",
       "    <tr>\n",
       "      <th>2019-11-19 10:05:00</th>\n",
       "      <td>9-timeseries/project</td>\n",
       "      <td>472</td>\n",
       "      <td>34.0</td>\n",
       "      <td>97.105.19.58</td>\n",
       "    </tr>\n",
       "    <tr>\n",
       "      <th>2019-11-19 10:05:53</th>\n",
       "      <td>html-css/css-i/flexbox/flexbox-fundamentals</td>\n",
       "      <td>211</td>\n",
       "      <td>28.0</td>\n",
       "      <td>192.171.117.210</td>\n",
       "    </tr>\n",
       "    <tr>\n",
       "      <th>2019-11-19 10:06:13</th>\n",
       "      <td>html-css/css-ii/bootstrap-introduction</td>\n",
       "      <td>211</td>\n",
       "      <td>28.0</td>\n",
       "      <td>192.171.117.210</td>\n",
       "    </tr>\n",
       "    <tr>\n",
       "      <th>2019-11-19 10:06:21</th>\n",
       "      <td>jquery/effects</td>\n",
       "      <td>410</td>\n",
       "      <td>32.0</td>\n",
       "      <td>67.11.157.190</td>\n",
       "    </tr>\n",
       "    <tr>\n",
       "      <th>2019-11-19 10:06:26</th>\n",
       "      <td>jquery</td>\n",
       "      <td>410</td>\n",
       "      <td>32.0</td>\n",
       "      <td>67.11.157.190</td>\n",
       "    </tr>\n",
       "    <tr>\n",
       "      <th>2019-11-19 10:06:28</th>\n",
       "      <td>spring/fundamentals/controllers</td>\n",
       "      <td>445</td>\n",
       "      <td>33.0</td>\n",
       "      <td>97.105.19.58</td>\n",
       "    </tr>\n",
       "    <tr>\n",
       "      <th>2019-11-19 10:06:50</th>\n",
       "      <td>spring/fundamentals/views</td>\n",
       "      <td>445</td>\n",
       "      <td>33.0</td>\n",
       "      <td>97.105.19.58</td>\n",
       "    </tr>\n",
       "    <tr>\n",
       "      <th>2019-11-19 10:07:03</th>\n",
       "      <td>8-clustering/3-wrangle</td>\n",
       "      <td>475</td>\n",
       "      <td>34.0</td>\n",
       "      <td>97.105.19.58</td>\n",
       "    </tr>\n",
       "    <tr>\n",
       "      <th>2019-11-19 10:07:07</th>\n",
       "      <td>7-classification/2-acquire</td>\n",
       "      <td>475</td>\n",
       "      <td>34.0</td>\n",
       "      <td>97.105.19.58</td>\n",
       "    </tr>\n",
       "    <tr>\n",
       "      <th>2019-11-19 10:07:45</th>\n",
       "      <td>search/search_index.json</td>\n",
       "      <td>455</td>\n",
       "      <td>33.0</td>\n",
       "      <td>97.105.19.58</td>\n",
       "    </tr>\n",
       "  </tbody>\n",
       "</table>\n",
       "<p>399195 rows × 4 columns</p>\n",
       "</div>"
      ],
      "text/plain": [
       "                                                              resource  \\\n",
       "Date                                                                     \n",
       "2018-01-26 09:55:03                                                  /   \n",
       "2018-01-26 09:56:02                                            java-ii   \n",
       "2018-01-26 09:56:05                java-ii/object-oriented-programming   \n",
       "2018-01-26 09:56:06                 slides/object_oriented_programming   \n",
       "2018-01-26 09:56:24                          javascript-i/conditionals   \n",
       "2018-01-26 09:56:41                                 javascript-i/loops   \n",
       "2018-01-26 09:56:46                          javascript-i/conditionals   \n",
       "2018-01-26 09:56:48                             javascript-i/functions   \n",
       "2018-01-26 09:56:59                                 javascript-i/loops   \n",
       "2018-01-26 09:58:26                             javascript-i/functions   \n",
       "2018-01-26 09:59:22                           mkdocs/search_index.json   \n",
       "2018-01-26 10:00:02  javascript-i/introduction/working-with-data-ty...   \n",
       "2018-01-26 10:00:37                                                  /   \n",
       "2018-01-26 10:00:39                                       javascript-i   \n",
       "2018-01-26 10:00:44  javascript-i/introduction/working-with-data-ty...   \n",
       "2018-01-26 10:00:49                javascript-i/introduction/variables   \n",
       "2018-01-26 10:00:57                javascript-i/introduction/operators   \n",
       "2018-01-26 10:01:12  javascript-i/introduction/working-with-data-ty...   \n",
       "2018-01-26 10:02:02                             javascript-i/functions   \n",
       "2018-01-26 10:02:21                             javascript-i/functions   \n",
       "2018-01-26 10:02:42                             javascript-i/functions   \n",
       "2018-01-26 10:05:26                          javascript-i/conditionals   \n",
       "2018-01-26 10:05:36                             javascript-i/functions   \n",
       "2018-01-26 10:08:22                           mkdocs/search_index.json   \n",
       "2018-01-26 10:08:34                            git/merge-conflict-demo   \n",
       "2018-01-26 10:08:45                           mkdocs/search_index.json   \n",
       "2018-01-26 10:08:55                               git/working-in-teams   \n",
       "2018-01-26 10:09:15          javascript-i/introduction/primitive-types   \n",
       "2018-01-26 10:09:24                javascript-i/introduction/operators   \n",
       "2018-01-26 10:10:16                             javascript-i/functions   \n",
       "...                                                                ...   \n",
       "2019-11-19 10:00:27                                           html-css   \n",
       "2019-11-19 10:00:29             html-css/css-ii/bootstrap-introduction   \n",
       "2019-11-19 10:00:33             html-css/css-ii/bootstrap-introduction   \n",
       "2019-11-19 10:00:40             html-css/css-ii/bootstrap-introduction   \n",
       "2019-11-19 10:00:54             html-css/css-ii/bootstrap-introduction   \n",
       "2019-11-19 10:01:23                     10-anomaly-detection/exercises   \n",
       "2019-11-19 10:01:25                            6-regression/1-overview   \n",
       "2019-11-19 10:01:40                  9-timeseries/5.1-modeling-lesson1   \n",
       "2019-11-19 10:01:50             html-css/css-ii/bootstrap-introduction   \n",
       "2019-11-19 10:02:00             html-css/css-ii/bootstrap-introduction   \n",
       "2019-11-19 10:02:24             html-css/css-ii/bootstrap-introduction   \n",
       "2019-11-19 10:02:38                                9-timeseries/3-prep   \n",
       "2019-11-19 10:03:01                             9-timeseries/2-acquire   \n",
       "2019-11-19 10:03:48                                                  /   \n",
       "2019-11-19 10:04:02                                                toc   \n",
       "2019-11-19 10:04:04                                             spring   \n",
       "2019-11-19 10:04:08             html-css/css-ii/bootstrap-introduction   \n",
       "2019-11-19 10:04:12                                           appendix   \n",
       "2019-11-19 10:04:19                         appendix/capstone-workbook   \n",
       "2019-11-19 10:04:27                           search/search_index.json   \n",
       "2019-11-19 10:05:00                               9-timeseries/project   \n",
       "2019-11-19 10:05:53        html-css/css-i/flexbox/flexbox-fundamentals   \n",
       "2019-11-19 10:06:13             html-css/css-ii/bootstrap-introduction   \n",
       "2019-11-19 10:06:21                                     jquery/effects   \n",
       "2019-11-19 10:06:26                                             jquery   \n",
       "2019-11-19 10:06:28                    spring/fundamentals/controllers   \n",
       "2019-11-19 10:06:50                          spring/fundamentals/views   \n",
       "2019-11-19 10:07:03                             8-clustering/3-wrangle   \n",
       "2019-11-19 10:07:07                         7-classification/2-acquire   \n",
       "2019-11-19 10:07:45                           search/search_index.json   \n",
       "\n",
       "                     number1  number2        ip_source  \n",
       "Date                                                    \n",
       "2018-01-26 09:55:03        1      8.0     97.105.19.61  \n",
       "2018-01-26 09:56:02        1      8.0     97.105.19.61  \n",
       "2018-01-26 09:56:05        1      8.0     97.105.19.61  \n",
       "2018-01-26 09:56:06        1      8.0     97.105.19.61  \n",
       "2018-01-26 09:56:24        2     22.0     97.105.19.61  \n",
       "2018-01-26 09:56:41        2     22.0     97.105.19.61  \n",
       "2018-01-26 09:56:46        3     22.0     97.105.19.61  \n",
       "2018-01-26 09:56:48        3     22.0     97.105.19.61  \n",
       "2018-01-26 09:56:59        2     22.0     97.105.19.61  \n",
       "2018-01-26 09:58:26        4     22.0     97.105.19.61  \n",
       "2018-01-26 09:59:22        5     22.0     97.105.19.61  \n",
       "2018-01-26 10:00:02        6     22.0     97.105.19.61  \n",
       "2018-01-26 10:00:37        6     22.0     97.105.19.61  \n",
       "2018-01-26 10:00:39        6     22.0     97.105.19.61  \n",
       "2018-01-26 10:00:44        6     22.0     97.105.19.61  \n",
       "2018-01-26 10:00:49        6     22.0     97.105.19.61  \n",
       "2018-01-26 10:00:57        6     22.0     97.105.19.61  \n",
       "2018-01-26 10:01:12        6     22.0     97.105.19.61  \n",
       "2018-01-26 10:02:02        7     22.0     97.105.19.61  \n",
       "2018-01-26 10:02:21        8     22.0     97.105.19.61  \n",
       "2018-01-26 10:02:42        9     22.0     97.105.19.61  \n",
       "2018-01-26 10:05:26        7     22.0     97.105.19.61  \n",
       "2018-01-26 10:05:36        7     22.0     97.105.19.61  \n",
       "2018-01-26 10:08:22       10     21.0     97.105.19.61  \n",
       "2018-01-26 10:08:34       10     21.0     97.105.19.61  \n",
       "2018-01-26 10:08:45       10     21.0     97.105.19.61  \n",
       "2018-01-26 10:08:55       10     21.0     97.105.19.61  \n",
       "2018-01-26 10:09:15        4     22.0     97.105.19.61  \n",
       "2018-01-26 10:09:24        4     22.0     97.105.19.61  \n",
       "2018-01-26 10:10:16        3     22.0     97.105.19.61  \n",
       "...                      ...      ...              ...  \n",
       "2019-11-19 10:00:27      522     52.0     97.105.19.58  \n",
       "2019-11-19 10:00:29      540     52.0     97.105.19.58  \n",
       "2019-11-19 10:00:33      522     52.0     97.105.19.58  \n",
       "2019-11-19 10:00:40      526     52.0     97.105.19.58  \n",
       "2019-11-19 10:00:54      542     52.0     97.105.19.58  \n",
       "2019-11-19 10:01:23       11     28.0     97.105.19.58  \n",
       "2019-11-19 10:01:25       11     28.0     97.105.19.58  \n",
       "2019-11-19 10:01:40      475     34.0     97.105.19.58  \n",
       "2019-11-19 10:01:50      516     52.0     97.105.19.58  \n",
       "2019-11-19 10:02:00      532     52.0     97.105.19.58  \n",
       "2019-11-19 10:02:24      535     52.0     97.105.19.58  \n",
       "2019-11-19 10:02:38      467     34.0     97.105.19.58  \n",
       "2019-11-19 10:03:01      475     34.0     97.105.19.58  \n",
       "2019-11-19 10:03:48      455     33.0     97.105.19.58  \n",
       "2019-11-19 10:04:02      528     52.0     97.105.19.58  \n",
       "2019-11-19 10:04:04      455     33.0     97.105.19.58  \n",
       "2019-11-19 10:04:08      528     52.0     97.105.19.58  \n",
       "2019-11-19 10:04:12      455     33.0     97.105.19.58  \n",
       "2019-11-19 10:04:19      455     33.0     97.105.19.58  \n",
       "2019-11-19 10:04:27      455     33.0     97.105.19.58  \n",
       "2019-11-19 10:05:00      472     34.0     97.105.19.58  \n",
       "2019-11-19 10:05:53      211     28.0  192.171.117.210  \n",
       "2019-11-19 10:06:13      211     28.0  192.171.117.210  \n",
       "2019-11-19 10:06:21      410     32.0    67.11.157.190  \n",
       "2019-11-19 10:06:26      410     32.0    67.11.157.190  \n",
       "2019-11-19 10:06:28      445     33.0     97.105.19.58  \n",
       "2019-11-19 10:06:50      445     33.0     97.105.19.58  \n",
       "2019-11-19 10:07:03      475     34.0     97.105.19.58  \n",
       "2019-11-19 10:07:07      475     34.0     97.105.19.58  \n",
       "2019-11-19 10:07:45      455     33.0     97.105.19.58  \n",
       "\n",
       "[399195 rows x 4 columns]"
      ]
     },
     "execution_count": 74,
     "metadata": {},
     "output_type": "execute_result"
    }
   ],
   "source": [
    "df"
   ]
  },
  {
   "cell_type": "markdown",
   "metadata": {},
   "source": [
    "#### Looks like there is one column with some nulls. Maybe that's significant."
   ]
  },
  {
   "cell_type": "code",
   "execution_count": 11,
   "metadata": {},
   "outputs": [
    {
     "data": {
      "text/plain": [
       "26754"
      ]
     },
     "execution_count": 11,
     "metadata": {},
     "output_type": "execute_result"
    }
   ],
   "source": [
    "df.number2.isnull().sum()"
   ]
  },
  {
   "cell_type": "markdown",
   "metadata": {},
   "source": [
    "#### Lets see if there's anything that jumps out about these null values in the number2 column"
   ]
  },
  {
   "cell_type": "code",
   "execution_count": 12,
   "metadata": {},
   "outputs": [
    {
     "data": {
      "text/plain": [
       "240"
      ]
     },
     "execution_count": 12,
     "metadata": {},
     "output_type": "execute_result"
    }
   ],
   "source": [
    "df[df.number2.isnull()].ip_source.nunique()"
   ]
  },
  {
   "cell_type": "code",
   "execution_count": 13,
   "metadata": {},
   "outputs": [
    {
     "data": {
      "text/plain": [
       "array([ 48,  54,  58,  59,  61,  62,  63,  73,  74,  78,  79,  86,  88,\n",
       "        89, 100, 103, 111, 137, 166, 176, 213, 247, 317, 349, 350, 351,\n",
       "       352, 353, 354, 355, 356, 357, 358, 359, 360, 361, 362, 363, 364,\n",
       "       365, 366, 367, 368, 369, 372, 375, 403, 406, 429])"
      ]
     },
     "execution_count": 13,
     "metadata": {},
     "output_type": "execute_result"
    }
   ],
   "source": [
    "df[df.number2.isnull()].number1.unique()\n",
    "#There looks to be a a few consecutive streaks in there."
   ]
  },
  {
   "cell_type": "code",
   "execution_count": 15,
   "metadata": {},
   "outputs": [
    {
     "data": {
      "text/plain": [
       "240"
      ]
     },
     "execution_count": 15,
     "metadata": {},
     "output_type": "execute_result"
    }
   ],
   "source": [
    "df[df.number2.isnull()].ip_source.nunique()"
   ]
  },
  {
   "cell_type": "code",
   "execution_count": 17,
   "metadata": {},
   "outputs": [
    {
     "data": {
      "text/plain": [
       "array(['/', 'spring/extra-features/form-validation',\n",
       "       'mysql/relationships/joins', 'mysql/tables', 'mysql/databases',\n",
       "       'mysql/relationships', 'mysql/database-design',\n",
       "       'mysql/relationships/indexes', 'spring/fundamentals/relationships',\n",
       "       'spring/extra-features/error-pages',\n",
       "       'spring/extra-features/json-response',\n",
       "       'spring/extra-features/file-upload', 'spring/extra-features',\n",
       "       'spring/fundamentals/security/authentication',\n",
       "       'appendix/further-reading/spring/authorization',\n",
       "       'appendix/further-reading/spring/security-use-cases',\n",
       "       'mysql/sample-database', 'mysql/intellij', 'mysql/users',\n",
       "       'mysql/basic-statements', 'html-css/elements',\n",
       "       'mkdocs/search_index.json', 'appendix/capstone-workbook',\n",
       "       'git/intellij-intro', 'jquery/resume-portfolio', 'java-ii',\n",
       "       'java-ii/interfaces-and-abstract-classes',\n",
       "       'slides/interfaces_and_abstract_classes', 'html-css',\n",
       "       'javascript-i', 'javascript-i/conditionals',\n",
       "       'slides/control_statements_and_loops',\n",
       "       'java-i/introduction-to-java', 'slides/introduction_to_java',\n",
       "       'java-i/syntax-types-and-variables',\n",
       "       'slides/syntax_types_and_variables', 'index.html',\n",
       "       'java-i/control-statements-and-loops', 'java-iii', 'spring',\n",
       "       'spring/fundamentals/controllers', 'slides/collections',\n",
       "       'slides/servlets', 'java-ii/arrays', 'slides/arrays',\n",
       "       'html-css/css-ii/bootstrap-grid-system', 'html-css/forms',\n",
       "       'java-i/strings', 'slides/strings', 'slides/annotations',\n",
       "       'spring/fundamentals/views',\n",
       "       'spring/fundamentals/form-model-binding',\n",
       "       'spring/fundamentals/services', 'spring/fundamentals/repositories',\n",
       "       'java-ii/inheritance-and-polymorphism',\n",
       "       'slides/inheritance_and_polymorphism', 'java-ii/collections',\n",
       "       'javascript-i/introduction',\n",
       "       'javascript-i/introduction/primitive-types',\n",
       "       'javascript-i/introduction/operators',\n",
       "       'spring/fundamentals/security', 'git/cli', 'javascript-ii',\n",
       "       'javascript-i/loops', 'html-css/css-ii/bootstrap-introduction',\n",
       "       'java-i', 'java-i/methods', 'slides/methods',\n",
       "       'java-ii/object-oriented-programming',\n",
       "       'slides/object_oriented_programming', 'java-ii/file-io',\n",
       "       'slides/file_io', 'html-css/introduction',\n",
       "       'java-ii/exceptions-and-error-handling',\n",
       "       'slides/exceptions_and_error_handling', 'java-ii/annotations',\n",
       "       'java-iii/mvc', 'slides/mvc', 'mysql', 'java-iii/servlets',\n",
       "       'jquery', 'javascript-i/google-maps-api', 'jquery/ajax',\n",
       "       'appendix', 'appendix/postwork/memory-game',\n",
       "       'javascript-i/introduction/variables',\n",
       "       'javascript-i/introduction/working-with-data-types-operators-and-variables',\n",
       "       'javascript-i/javascript-with-html', 'java-i/console-io',\n",
       "       'slides/console_io', 'html-css/css-ii/media-queries',\n",
       "       'javascript-i/objects/math', 'git/intellij',\n",
       "       'javascript-i/coffee-project', 'javascript-i/functions',\n",
       "       'javascript-ii/map-filter-reduce',\n",
       "       'javascript-i/arrays/manipulating', 'javascript-ii/ajax-api',\n",
       "       'jquery/ajax/requests-and-responses', 'javascript-ii/promises',\n",
       "       'jquery/ajax/weather-map', 'javascript-i/bom-and-dom/dom-events',\n",
       "       'javascript-i/bom-and-dom/dom', 'javascript-i/bom-and-dom',\n",
       "       'javascript-i/bom-and-dom/bom', 'javascript-ii/es6',\n",
       "       'spring/setup', 'java-iii/deployment-and-dependencies',\n",
       "       'java-iii/jdbc', 'mysql/introduction',\n",
       "       'appendix/further-reading/spring/pagination', 'java-iii/passwords',\n",
       "       'slides/passwords', 'prework/getting-started',\n",
       "       'prework/fundamentals', 'prework/vocab/decimal-number-system',\n",
       "       'prework/cli', 'prework/versioning', 'prework/databases',\n",
       "       'prework/databases/database-systems', 'prework/databases/sql',\n",
       "       'prework/fundamentals/variable',\n",
       "       'prework/fundamentals/if-statement', 'prework/fundamentals/loop',\n",
       "       'prework/fundamentals/function',\n",
       "       'appendix/postwork/basic-challenges',\n",
       "       'javascript-i/bom-and-dom/calculator',\n",
       "       'appendix/postwork/website-status-page', 'appendix/postwork',\n",
       "       'jquery/selectors', 'jquery/events', 'jquery/events/mouse-events',\n",
       "       'html-css/css-ii/grids', 'javascript-ii/npm',\n",
       "       'javascript-ii/modules', 'appendix/git/cli',\n",
       "       'appendix/git/intellij', 'content/javascript/loops.html',\n",
       "       'uploads/598dc43df39e2.jpg', 'java-iii/jsp-and-jstl',\n",
       "       'java-iii/user-input', 'slides/deployment_and_dependencies',\n",
       "       'javascript-i/arrays', 'html-css/css-i',\n",
       "       'html-css/css-i/introduction',\n",
       "       'html-css/css-i/selectors-and-properties',\n",
       "       'html-css/css-i/box-model', 'html-css/css-i/positioning',\n",
       "       'html-css/css-ii', 'javascript-i/objects',\n",
       "       'java-iii/finish-the-adlister', 'java-iii/sessions-and-cookies',\n",
       "       'jquery/essential-methods/traversing', 'jquery/effects',\n",
       "       'examples/javascript/defuse-the-bom.html',\n",
       "       'examples/javascript/dom-query-js.html', 'content/html-css',\n",
       "       'content/html-css/gitbook/images/favicon.ico',\n",
       "       'content/html-css/introduction.html',\n",
       "       'content/html-css/elements.html', 'content/html-css/forms.html',\n",
       "       'content/git', 'content/git/gitbook/images/favicon.ico',\n",
       "       'content/php_i', 'content/php_i/gitbook/images/favicon.ico',\n",
       "       'content/php_i/intro-via-interactive-shell',\n",
       "       'content/php_i/intro-via-interactive-shell/gitbook/images/favicon.ico',\n",
       "       'content/php_ii', 'content/php_ii/gitbook/images/favicon.ico',\n",
       "       'content/php_ii/array-functions',\n",
       "       'content/php_ii/array-functions/gitbook/images/favicon.ico',\n",
       "       'mysql/functions', 'mysql/group-by', 'mysql/clauses/limit',\n",
       "       'mysql/clauses/order-by', 'mysql/clauses/where', 'mysql/clauses',\n",
       "       'mysql/aliases', 'mysql/relationships/sub-queries',\n",
       "       'jquery/introduction', 'slides/jsp_and_jstl',\n",
       "       'jquery/events/keyboard-events',\n",
       "       'appendix/further-reading/spring/seeder',\n",
       "       'slides/sessions_and_cookies', 'slides/jdbc',\n",
       "       'spring/fundamentals', 'slides/user_input',\n",
       "       'jquery/essential-methods/attributes-and-css',\n",
       "       'examples/javascript/blog.json',\n",
       "       'examples/javascript/ajax-store.html',\n",
       "       'examples/javascript/inventory.json', 'appendix/documentation',\n",
       "       'jquery/simple-simon', 'jquery/personal-site',\n",
       "       'content/javascript',\n",
       "       'content/javascript/gitbook/images/favicon.ico', 'content/jquery',\n",
       "       'content/jquery/gitbook/images/favicon.ico',\n",
       "       'content/php_i/intro-via-interactive-shell/hello-world-and-other-strings.html',\n",
       "       'content/php_iii',\n",
       "       'content/php_i/intro-via-interactive-shell/doing-math-in-the-shell.html',\n",
       "       'content/php_i/intro-via-interactive-shell/exiting-the-shell.html',\n",
       "       'content/php_i/types-and-variables-i',\n",
       "       'content/php_i/types-and-variables-i/boolean-data-type.html',\n",
       "       'content/php_i/types-and-variables-i/type-juggling-and-booleans.html',\n",
       "       'content/php_i/types-and-variables-i/intergers-and-floats.html',\n",
       "       'content/php_i/types-and-variables-i/introduction-to-strings.html',\n",
       "       'content/php_i/types-and-variables-ii/intro-to-strings-continued.html',\n",
       "       'content/php_i/types-and-variables-ii/constants.html',\n",
       "       'content/php_i/types-and-variables-ii/intro-to-arrays.html',\n",
       "       'content/php_i/types-and-variables-ii/objects-other-types-and-review.html',\n",
       "       'content/php_i/intro-to-operators',\n",
       "       'content/php_i/intro-to-operators/arithmetic-operators.html',\n",
       "       'content/php_i/intro-to-operators/assignment-operators.html',\n",
       "       'content/php_i/intro-to-operators/comparison-operators.html',\n",
       "       'content/php_i/intro-to-operators/incrementing-and-decrementing-operators.html',\n",
       "       'content/php_i/intro-to-operators/logical-operators.html',\n",
       "       'appendix/git/intellij-intro',\n",
       "       'content/php_ii/control-structures-i',\n",
       "       'content/gitbook/images/favicon.ico',\n",
       "       'content/php_ii/control-structures-i/if.html',\n",
       "       'content/examples/php/if.php',\n",
       "       'content/php_ii/control-structures-i/if-continued.html',\n",
       "       'content/php_iv', 'content/php_iv/ad-lister',\n",
       "       'content/php_iii/classes-and-objects-i',\n",
       "       'content/php_iv/php-with-mysql',\n",
       "       'content/php_iv/php-with-mysql/connect-to-db.html',\n",
       "       'content/php_iv/php-with-mysql/executing-queries.html',\n",
       "       'content/php_iv/php-with-mysql/query-and-results.html',\n",
       "       'appendix/code-standards/mysql', 'mysql/extra-exercises',\n",
       "       'appendix/git/branching', 'appendix/git/working-in-teams',\n",
       "       'content/php_iv/gitbook/images/favicon.ico',\n",
       "       'content/laravel/intro',\n",
       "       'content/laravel/intro/gitbook/images/favicon.ico',\n",
       "       'content/laravel/more-features/readme.html',\n",
       "       'content/laravel/more-features/gitbook/images/favicon.ico',\n",
       "       'content/laravel/intro/application-structure.html',\n",
       "       'content/laravel/intro/environment.html',\n",
       "       'content/laravel/quickstart/basic-routing.html',\n",
       "       'content/laravel/quickstart/gitbook/images/favicon.ico',\n",
       "       'content/laravel/quickstart/views.html',\n",
       "       'content/laravel/quickstart/templating.html',\n",
       "       'content/laravel/quickstart/controllers.html',\n",
       "       'content/laravel/quickstart/artisan.html',\n",
       "       'content/laravel/quickstart/db-migrations.html',\n",
       "       'content/laravel/quickstart/resource-controllers.html',\n",
       "       'content/php_i/types-and-variables-i/gitbook/images/favicon.ico',\n",
       "       'content/php_i/types-and-variables-ii/gitbook/images/favicon.ico',\n",
       "       'content/php_i/intro-to-operators/gitbook/images/favicon.ico',\n",
       "       'appendix/further-reading/java/intellij-tomcat-configuration',\n",
       "       'appendix/further-reading/javascript/this', 'appendix/angular',\n",
       "       'appendix/angular/templating', 'appendix/angular/models',\n",
       "       'appendix/angular/controllers', 'appendix/angular/dependencies',\n",
       "       'toc', 'search/search_index.json',\n",
       "       'content/php_iv/php-with-mysql/gitbook/images/favicon.ico',\n",
       "       'content/html-css/css-i',\n",
       "       'content/html-css/css-i/gitbook/images/favicon.ico',\n",
       "       'content/html-css/css-i/introduction.html',\n",
       "       'content/html-css/css-i/selectors-and-properties.html',\n",
       "       'content/html-css/css-i/box-model.html',\n",
       "       'content/html-css/css-i/positioning.html',\n",
       "       'content/html-css/css-ii',\n",
       "       'content/html-css/css-ii/gitbook/images/favicon.ico',\n",
       "       'content/html-css/css-ii/media-queries.html',\n",
       "       'content/html-css/css-ii/grids.html',\n",
       "       'content/html-css/css-ii/bootstrap-introduction.html',\n",
       "       'content/html-css/css-ii/bootstrap-grid-system.html',\n",
       "       'content/git/creating-a-repository.html',\n",
       "       'content/git/initializing-a-repository.html',\n",
       "       'content/git/adding-files.html', 'content/git/committing.html',\n",
       "       'content/git/pushing-and-pulling.html',\n",
       "       'content/git/gitignore-file.html', 'content/git/branching.html',\n",
       "       'content/javascript_ii',\n",
       "       'content/javascript_ii/gitbook/images/favicon.ico',\n",
       "       'content/javascript_ii/es6.html',\n",
       "       'content/javascript_ii/map-filter-reduce.html',\n",
       "       'content/javascript_ii/promises.html',\n",
       "       'content/javascript_ii/npm.html',\n",
       "       'content/javascript_ii/modules.html',\n",
       "       'content/javascript_ii/ajax-api.html',\n",
       "       'content/php_ii/control-structures-i/gitbook/images/favicon.ico',\n",
       "       '1._Fundamentals', '3.0-mysql-overview', 'Excel_Shortcuts',\n",
       "       '2.02.01_Probability', '2.00.00_Excel_Prob_Stats',\n",
       "       '2.00.02_Navigating_Excel', '1.10_JobReq_Indeed', '5._Regression',\n",
       "       '2.00.01_Intro_Excel', '3.1-mysql-introduction',\n",
       "       '2.00.03_Import_Excel', '2.00.04_PrepareData_Excel', 'mac-tips',\n",
       "       'Pipeline_Demo', 'git', '4.0_overview', '13._Storytelling',\n",
       "       '3.3-tables', '2.01.00_Descriptive_Stats',\n",
       "       '4.6.0_DS_Libraries_Overview',\n",
       "       '2.00.05_Charts_PivotTables_Sparklines',\n",
       "       '2.02.04_Distribution_and_Test', '6._Classification', '6.00_Intro',\n",
       "       '5.02_Prep', '5.01_Acquire', '2.02.02_Sampling',\n",
       "       '2.02.00_Inferential_Stats', '2.02.03_Power_Analysis',\n",
       "       '2.02.05_Compare_Means', '2.02.06_Correlation',\n",
       "       'DataSets_PneumoniaDetection', 'database-design',\n",
       "       '2.03.07_ParametricTests', '10.00_Intro.md', '10._NLP',\n",
       "       '10.04.03_SentimentAnalysis', '5.00_Intro', '13.02_Tableau',\n",
       "       '3.2-databases', '3.4-basic-statements', '3.6-functions',\n",
       "       '2.03.06_CorrelationTests', '2.02.01_Distributions',\n",
       "       '2.03.02_Sampling', '6.01.03_Summarize', 'Model_NaiveBayes',\n",
       "       '4.6.1_introduction_to_matplotlib',\n",
       "       '4.6.4_introduction_to_seaborn', '4.6.3_introduction_to_pandas',\n",
       "       '3.5.0-clauses-overview', '3.5.1-where', '3.5.2-order-by',\n",
       "       '3.5.3-limit', '3.7-group-by', '3.8.0-relationships-overview',\n",
       "       '3.8.1-indexes', '3.9-temporary-tables', '3.10-more-exercises',\n",
       "       '3.8.2-joins', '3.8.3-subqueries', '12.01_SocialNetworkAnalysis',\n",
       "       '12.02_Recommenders', '10.01_Acquire_WebScraping',\n",
       "       '4.1_introduction', '4.2_data_types_and_variables',\n",
       "       '4.3_control_structures', '4.4_functions',\n",
       "       '10.02.04_EntityLabeling', '10.04.01_FeatureExtraction_FreqBased',\n",
       "       '10.04.02_FeatureExtraction_Word2Vec', '02_listing_files',\n",
       "       '00_index', '01_intro', '03_file_paths',\n",
       "       '04_navigating_the_filesystem',\n",
       "       '05_creating_files_and_directories', '06_moving_files',\n",
       "       '07_more_topics', '8.04.03_MLModeling',\n",
       "       '8.04.02_ParametricModeling', '11.00_Intro.md', '13.00_Intro.md',\n",
       "       'ExploringDataSets', 'ordinary_least_squares.jpeg', '7.00_Intro',\n",
       "       '6.01.01_AcquireSQL', '8.02_Prep', '00_',\n",
       "       '4_introduction_to_sklearn', '4_Matplotlib_Styles',\n",
       "       'Appendix_RidgeRegression', 'Appendix_LeastAngleRegression',\n",
       "       'Appendix_Tidy_Data', '4_Objects', '4_Error_Handling',\n",
       "       'cli-07-more-topics', 'Intro_to_Regression_Module',\n",
       "       'Univariate_Regression_Excel', 'Multivariate_Regression_Excel',\n",
       "       'Regression_Python', 'Exercises', '9._Anomaly_Detection',\n",
       "       '10.02.01_ParseText', '10.02.03_TFIDF', '11.03_Explore.md',\n",
       "       'Intro_to_Regression', 'Regression%20_Project.md',\n",
       "       'cli-03-file-paths', 'cli-06-moving-files', 'cli-00-overview',\n",
       "       'cli-05-creating-files-and-directories', 'cli-01-intro',\n",
       "       'cli-02-listing-files', 'cli-04-navigating-the-filesystem',\n",
       "       '4.5_imports', '4.6.2_introduction_to_numpy', 'Python_Libraries',\n",
       "       '13.03_Bokeh', '4_list_comprehension_exercises',\n",
       "       'ada-python-assessment.html', '4_panda_bears',\n",
       "       '11.01.02_DataAcquisition', 'Classification_DataPrep',\n",
       "       'Classification_Exercises', '11.01.03_Summarize',\n",
       "       'BuiltIn_Datasets', 'Regression_Project', 'merge_Explore',\n",
       "       'Intro_to_Classification_Module', 'Intro_to_Classification',\n",
       "       'Classification_AcquireData', 'Classification_Explore',\n",
       "       'Classification_LogisticRegression.md', '7._Clustering',\n",
       "       '7.01_Acquire', '8.05_Deliver', '9.20_Data',\n",
       "       'javascript-i/mapbox-api', 'Clustering_DataPrep', '5.03_Explore',\n",
       "       'Classification_LogisticRegression', 'Classification_Project',\n",
       "       'examples/css/css_selectors.html', 'Clustering_Acquire',\n",
       "       'Clustering_Intro_Module', '5.01_Prep', '5.01',\n",
       "       'Regression_Python1', 'sequel-pro', 'Regression_Python.md',\n",
       "       '6.05_Deliver', 'examples/css/login-form.html',\n",
       "       'examples/css/messages.html', 'Regression_Project2',\n",
       "       'html-css/css-i/flexbox', 'examples/css/flex-form.zip',\n",
       "       'Clustering_Explore', '8.00_Intro', 'examples/css/twitter.html',\n",
       "       'appendix/extra-challenges/css-practice',\n",
       "       'examples/css/flexbox-cards.zip', 'Classification_DecisionTree',\n",
       "       'Classification_DecisionTree_files/Classification_DecisionTree_20_0.svg',\n",
       "       'Classification_RandomForest', 'Classification_KNN',\n",
       "       'Classification_Appendix_SVM', 'Classification_Appendix_Ensemble',\n",
       "       'Classification_Appendix_CustomFillNulls', '6.1_Overview',\n",
       "       '6.2_About', '6.3_Acquire', '6_Exercises', '6.4_Prep', '6.6.4_KNN',\n",
       "       '8.01_Acquire', '6.6.1_Logistic_Regression', '6.6.2_Decision_Tree',\n",
       "       '6.6.3_Random_Forest', 'intellij', '6_Project', '6.5_Explore',\n",
       "       'merge_Binary', '6.3_Aquire', '6_SVM', '6_Ensemble',\n",
       "       '6_CustomFillNulls', 'Clustering_KMeans_1', 'Clustering_Intro',\n",
       "       'Hospital-Distance-Clusters.jpg', 'Clustering_Prep.md',\n",
       "       '13.01.02.04_Prototype', '13.01.04_Present', '13.01.01_Understand',\n",
       "       '11.01.01_ConnectingToSpark',\n",
       "       'Classification_Exercises_with_Answers', '7.2_About',\n",
       "       '7.5.1_KMeans1', '7.5.2_KMeans2', '7.3_Wrangle',\n",
       "       '13.01.02.03_Sketch', '8.03_Explore', '7.4_Explore',\n",
       "       '2.03.04_StatisticalTestEvaluation', '7_DBSCAN', 'Data_SaaS',\n",
       "       '6_Project.json', '7.1_Overview', '5_Project',\n",
       "       'Clustering_Project', '8.1_Overview', '8.7_Deliver', '8.2_About',\n",
       "       '8.3_Acquire', '8.4_Prep', '8.5_Explore', '7_Project',\n",
       "       '7_Hierarchical', 'dendogram_sample.jpeg', '7_Exercises',\n",
       "       '7_exercises', '7_Projects', '7-Copy1.3_Wrangle', '7_Review',\n",
       "       '7_Summarize', 'Exploration_Lecture', 'Exercises_Drafts',\n",
       "       'Appendix_Vocabulary', '8.1_Project', '8.7_Project', '8.8_Project',\n",
       "       '2.03.03_Power', '8.6.1_ParametricModeling', '8.6.2_MLModeling',\n",
       "       '11._DistributedML.md', '10.10_Exercises', '8_Project',\n",
       "       '8_Exercises', 'DataSet_Zillow', '8.6.2_Prophet', '8_Appendix_SVR',\n",
       "       '8_Appendix_SARIMAX', 'warmups',\n",
       "       '8_Exercises/ds.codeup.com/saas.csv', '8_Exercises/saas.csv',\n",
       "       'ds.codeup.com/saas.csv', 'DataSets_SaaSCustomerChurn',\n",
       "       '13.11_Exercises', '8_ts_split', '2.03.05_NormalityTests',\n",
       "       '10.04.05_TopicModeling', 'merge_Ensemble', '10.03_Explore',\n",
       "       '9_Anomaly_Detection', '4_Projects', 'Stats_Assessment',\n",
       "       '10.02.02_POSTagging', '11.04_Modeling.md', '9_Exercises',\n",
       "       '9.1_About', '9.2_Detect_through_Probability',\n",
       "       '9.3_Detect_Through_Isolation_Forest',\n",
       "       '9.4_Detecting_TimeSeries_Anomalies',\n",
       "       '9.5_DBSCAN_to_detect_anomalies', '2.02.02_Functions',\n",
       "       'AnomalyDetectionCartoon.jpeg',\n",
       "       '9.3_Detecting_TimeSeries_Anomalies',\n",
       "       '9.4_Detect_Through_Isolation_Forest', '9_Appendix_TSAD_Lesson',\n",
       "       '9_Appendix_TSAD_Lesson2', '9_Appendix_TSAD_Lesson3',\n",
       "       '9_Appendix_Isolation_Forest', '9.5_DBSCAN_to_detect_anomalies.md',\n",
       "       '9.4_DBSCAN_to_detect_anomalies',\n",
       "       '9.4_DBSCAN_to_detect_anomalies.md',\n",
       "       'Classificaiton_LogisticRegression', 'students/468/notes',\n",
       "       'students/300/notes', 'code-standards/html-css', 'code-standards',\n",
       "       'code-standards/javascript', 'open_data', '10_Regex',\n",
       "       'interview_questions', '10.04.04_TextClassification',\n",
       "       'DataSets_Elo_CustomerLoyalty', 'Clustering_Project_Example',\n",
       "       '10.2_Regex', '10.4_Prepare', '10_Exercises', '10.6_Model',\n",
       "       '10.5_Explore', '10.3_Acquire', '10_Appendix_TopicModeling',\n",
       "       '10_Appendix_POSTagging', '10_Appendix_EntityLabeling',\n",
       "       '10_Appendix_Word2Vec', '10_Project', '10_Projects',\n",
       "       '10.1_Overview', 'github_repo_language.gif', '11.03_Explore',\n",
       "       '10.03_FeatureExtraction_BOW', '10.02.04_EntityLabeling.md',\n",
       "       '11.06.02_Model_Classification', '11._DistributedML',\n",
       "       '11.00_Intro', '11.02_TransformData', '11_Intro', '11.04_Modeling',\n",
       "       '11.06.01_Model_TopicModeling', '11.02_TransformData.md',\n",
       "       '11.01.01_ConnectingToSpark.md', '11_SparkArchitecture',\n",
       "       '11.01_GettingStarted', '11.02_DataAcquisition', '11.03_Inspect',\n",
       "       '11.04.01_Prepare_part1', '11_Environment_Setup', '11.05_Explore',\n",
       "       '11._Environment_Setup', '11.04.02_Prepare_part2',\n",
       "       '11.04.03_Prepare_part3', '11.04.04_Prepare_part4',\n",
       "       'prep_311data_for_module', '11_Exercises',\n",
       "       'javascript-i/testing-user-functions', '13.01.02_Create',\n",
       "       '13.01.02.01_Prep', '13_Exercises', '12.1_Tidy_Data',\n",
       "       '12.2_Cross_Validation', '13_Appendix_BadCharts',\n",
       "       'misleading1_baseball.jpg', 'misleading1_fox.jpg',\n",
       "       'misleading3_deaths.jpg', '13_Overview',\n",
       "       'MachineLearning_CheatSheet', '12.3_Developing_Data_Products',\n",
       "       '12.3.1_Virtual_Environments', '12.3.2_Building_A_Model',\n",
       "       '12.3.3_Flask_Intro', '12.3.4_HTML_Templates',\n",
       "       '12.3.6_Page_Styling', '12.3.7_JSON_Responses',\n",
       "       '12.3.5_HTML_Forms', '13.5_Tableau', '13_Appendix_ChartTypes',\n",
       "       '13.1_Understand', '13_Appendix_Keywords', '13.2_Create',\n",
       "       '13.3_Refine', '13.4_Present', '11_Appendix_CommonPySparkClasses',\n",
       "       'Lesson_Modeling', 'merge_Deliver', '8_Prophet_Lesson',\n",
       "       'DataSets_GoogleAnalytics', 'Explore_Lesson', 'SVM_NLP',\n",
       "       '11_Appendix_Acquisition', '2.03_Inferential',\n",
       "       '9-anomaly-detection/isolation-forests',\n",
       "       '4-python/2-introduction-to-python',\n",
       "       '4-python/7.4-intro-to-pandas', '3-sql/1-mysql-overview',\n",
       "       '4-python/1-overview', 'appendix/interview_questions_students',\n",
       "       '3-sql/3-databases', '5-regression/2-intro-to-regression',\n",
       "       '5-regression/ordinary_least_squares.jpeg',\n",
       "       '1-fundamentals/1-fundamentals-overview',\n",
       "       '5-regression/1-overview', '10-nlp/4-prepare',\n",
       "       '6-classification/exercises', '6-classification/1-overview',\n",
       "       '6-classification/2-intro-to-classification',\n",
       "       '6-classification/3-acquire',\n",
       "       '6-classification/6.2-decision-trees', '10-nlp/5-explore',\n",
       "       '10-nlp/3-acquire', '12-advanced-topics/3.8-json-responses',\n",
       "       '6-classification/4-prep', '2-stats/project', 'appendix/git',\n",
       "       '6-classification/6.4-knn', '10-nlp/6-model', '10-nlp/1-overview',\n",
       "       '2-stats/2.1-intro-to-excel', '2-stats/3.1-descriptive-stats',\n",
       "       '2-stats/4.2-probability', '2-stats/4.3-sampling',\n",
       "       '2-stats/4.4-power-analysis',\n",
       "       '2-stats/4.5-distributions-and-testing',\n",
       "       '2-stats/4.6-compare-means', '2-stats/4.7-correlation',\n",
       "       '1-fundamentals/pipeline-demo',\n",
       "       '5-regression/5-regression-with-python',\n",
       "       '12-advanced-topics/3.2-virtual-environments',\n",
       "       '11-distributed-ml/8.1-classification',\n",
       "       '9-anomaly-detection/3-detecting-timeseries-anomalies',\n",
       "       '9-anomaly-detection/4-detecting-with-clustering',\n",
       "       '5-regression/3-univariate-regression-in-excel',\n",
       "       '4-python/7.2-intro-to-matplotlib',\n",
       "       '4-python/7.1-ds-libraries-overview',\n",
       "       '4-python/7.3-intro-to-numpy', '4-python/7.5-intro-to-seaborn',\n",
       "       '12-advanced-topics/3.4-intro-to-flask', '10-nlp/project',\n",
       "       '10-nlp/github_repo_language.gif',\n",
       "       '6-classification/6.3-random-forests',\n",
       "       '6-classification/5-explore', '5-regression/built-in-datasets',\n",
       "       '7-clustering/5.1-kmeans-part-1', '7-clustering/4-explore',\n",
       "       '7-clustering/review', '7-clustering/1-overview',\n",
       "       '7-clustering/3-wrangle', '7-clustering/2-about',\n",
       "       '7-clustering/Hospital-Distance-Clusters.jpg',\n",
       "       '11-distributed-ml/2-environment-setup',\n",
       "       '10-nlp/2-regular-expressions', '10-nlp/exercises',\n",
       "       'appendix/cli/7-more-topics',\n",
       "       'appendix/cli/5-creating-files-and-directories',\n",
       "       '12-advanced-topics/3.3-building-a-model',\n",
       "       '3-sql/2-mysql-introduction', '3-sql/4-tables',\n",
       "       '3-sql/5-basic-statements', '4-python/matplotlib-styles',\n",
       "       '2-stats/2.2-navigating-excel', '2-stats/2.3-preparing-data',\n",
       "       '2-stats/2.4-visualization-with-excel', '3-sql/7-functions',\n",
       "       '2-stats/1-overview', '3-sql/10-temporary-tables',\n",
       "       '3-sql/11-more-exercises', '4-python/3-data-types-and-variables',\n",
       "       '4-python/4-control-structures', '4-python/5-functions',\n",
       "       '4-python/project', '4-python/6-imports',\n",
       "       '4-python/intro-to-sklearn', 'appendix/open_data',\n",
       "       '4-python/objects', '4-python/error-handling',\n",
       "       '5-regression/exercises', '3-sql/database-design',\n",
       "       '10-nlp/entity-labeling', '10-nlp/pos-tagging',\n",
       "       '10-nlp/topic-modeling', '6-classification/ensemble',\n",
       "       '3-sql/8-group-by', '3-sql/9.4-subqueries', '3-sql/9.3-joins',\n",
       "       '8-timeseries/3-acquire',\n",
       "       '6-classification/6.1-logistic-regression',\n",
       "       '5-regression/4-multivariate-regression-in-excel',\n",
       "       '6-classification/svm', '12-distributed-ml/8.1-classification',\n",
       "       '1-fundamentals/2.1-intro-to-excel',\n",
       "       '1-fundamentals/2.2-excel-functions',\n",
       "       '1-fundamentals/2.3-visualization-with-excel',\n",
       "       '1-fundamentals/2.4-more-excel-features', '1-fundamentals/project',\n",
       "       '10-anomaly-detection/isolation-forests',\n",
       "       '8-timeseries/6.1-parametric-modeling', '8-timeseries/6.2-prophet',\n",
       "       '7-classification/4-prep', '7-clustering/5.2-kmeans-part-2',\n",
       "       '5-stats/1-descriptive-stats', '2-storytelling/1-overview',\n",
       "       '2-storytelling/3-tableau', '6-regression/1-overview',\n",
       "       '10-anomaly-detection/1-overview',\n",
       "       '10-anomaly-detection/AnomalyDetectionCartoon.jpeg',\n",
       "       '6-regression/2-intro-to-regression',\n",
       "       '6-regression/ordinary_least_squares.jpeg',\n",
       "       '6-regression/3-univariate-regression-in-excel',\n",
       "       '6-regression/4-multivariate-regression-in-excel',\n",
       "       '6-regression/5-regression-with-python',\n",
       "       '7-classification/6.1-logistic-regression',\n",
       "       '12-distributed-ml/1-overview',\n",
       "       '12-distributed-ml/2-environment-setup',\n",
       "       '6-regression/3.1-acquire-and-prep',\n",
       "       '6-regression/2-regression-excel', '6-regression/exercises',\n",
       "       '6-regression/project', '3.5-evaluation.md',\n",
       "       '6-regression/built-in-datasets',\n",
       "       '6-regression/3.2-split-and-scale',\n",
       "       '3.3-explore-and-get-features.md',\n",
       "       '12-distributed-ml/3-getting-started',\n",
       "       '12-distributed-ml/4-acquire', '12-distributed-ml/5-inspect',\n",
       "       '11-nlp/2-regular-expressions', '11-nlp/3-acquire',\n",
       "       '10-anomaly-detection/4-detecting-with-clustering',\n",
       "       '1-fundamentals/1.1-intro-to-data-science',\n",
       "       '1-fundamentals/modern-data-scientist.jpg',\n",
       "       '1-fundamentals/AI-ML-DL-timeline.jpg',\n",
       "       '1-fundamentals/1.2-data-science-pipeline',\n",
       "       '1-fundamentals/DataToAction_v2.jpg',\n",
       "       '1-fundamentals/1.3-pipeline-demo', '9-timeseries/svr',\n",
       "       '12-distributed-ml/topic-modeling', '9-timeseries/6.2-prophet',\n",
       "       '13-advanced-topics/3.2-virtual-environments', '3-sql/6.2-where',\n",
       "       '3-sql/6.3-order-by', '3-sql/6.4-limit',\n",
       "       '13-advanced-topics/3.8-json-responses', '9-timeseries/3-acquire',\n",
       "       '11-nlp/4-prepare', '13-advanced-topics/3.4-intro-to-flask',\n",
       "       '11-nlp/5-explore', '11-nlp/6-model', '11-nlp/exercises',\n",
       "       '1-fundamentals/2.1-excel-overview', 'appendix/cli/6-moving-files',\n",
       "       'appendix/cli/4-navigating-the-filesystem',\n",
       "       '10-anomaly-detection/2-detecting-through-probability',\n",
       "       '7-classification/handling-missing-values',\n",
       "       '13-advanced-topics/3.6-html-forms', 'appendix/cli-git-overview',\n",
       "       '2-storytelling/project', '1-fundamentals/3-vocabulary',\n",
       "       'appendix/cli/0-overview', 'appendix/cli/1-intro',\n",
       "       '11-nlp/project', '11-nlp/github_repo_language.gif',\n",
       "       '7-classification/project', '8-clustering/project',\n",
       "       '9-timeseries/project', 'appendix/ds-environment-setup',\n",
       "       'appendix/vocabulary', '13-advanced-topics/3.5-html-templates',\n",
       "       '13-advanced-topics/3.7-styling-webpages', '9-timeseries/4-prep',\n",
       "       '6-regression/3.3-explore', '7-classification/5-explore',\n",
       "       '9-timeseries/5-explore', '9-timeseries/6.1-parametric-modeling',\n",
       "       '6-regression/3.4-feature-engineering', '7-classification/svm',\n",
       "       '4-python/7.4.1-pandas-overview', '4-python/7.4.2-series',\n",
       "       '4-python/7.4.3-dataframes', '4-python/7.4.4-advanced-dataframes',\n",
       "       '7-classification/6.3-random-forests',\n",
       "       '7-classification/6.2-decision-trees', '5-stats/2-simulation',\n",
       "       '9-timeseries/1-overview', '9-timeseries/2-intro-to-timeseries',\n",
       "       '8-clustering/4-explore', '8-clustering/5.1-kmeans-part-1',\n",
       "       '8-clustering/5.2-kmeans-part-2',\n",
       "       '10-anomaly-detection/3-detecting-timeseries-anomalies',\n",
       "       '6-regression/4.0-explore', '6-regression/2.0-acquire-and-prep',\n",
       "       '6-regression/3.0-split-and-scale', '6-regression/5.0-evaluate',\n",
       "       '6-regression/6.0-feature-engineering', '5-stats/1-overview',\n",
       "       '5-stats/3-probability-distributions',\n",
       "       '5-stats/4.1-hypothesis-testing-overview',\n",
       "       '5-stats/4.2-compare-means', '6-regression/8.0-Project',\n",
       "       'appendix/univariate_regression_in_excel',\n",
       "       '7-classification/1-overview', '6-regression/notes',\n",
       "       '8-clustering/exercises', '9-timeseries/exercises',\n",
       "       '8-clustering/3-wrangle', '10-anomaly-detection/exercises',\n",
       "       '11-nlp/1-overview', '9-timeseries/sarimax',\n",
       "       '9-timeseries/2-acquire', '9-timeseries/5.1-parametric-modeling',\n",
       "       '9-timeseries/5.2-prophet', '9-timeseries/4-explore',\n",
       "       '6-regression/multivariate-regression-in-excel', '5-stats/viz.py',\n",
       "       '5-stats/5-power-analysis', '6-regression/7.0-model',\n",
       "       '7-classification/3-prep', '7-classification/4-explore',\n",
       "       '7-classification/6.4-knn'], dtype=object)"
      ]
     },
     "execution_count": 17,
     "metadata": {},
     "output_type": "execute_result"
    }
   ],
   "source": [
    "df[df.number2.isnull()].resource.unique()"
   ]
  },
  {
   "cell_type": "markdown",
   "metadata": {},
   "source": [
    "Whatever number 2 represents, theres 31 of them."
   ]
  },
  {
   "cell_type": "code",
   "execution_count": 18,
   "metadata": {},
   "outputs": [
    {
     "data": {
      "text/plain": [
       "31"
      ]
     },
     "execution_count": 18,
     "metadata": {},
     "output_type": "execute_result"
    }
   ],
   "source": [
    "df.number2.nunique()"
   ]
  },
  {
   "cell_type": "markdown",
   "metadata": {},
   "source": [
    "The relationship between mystery number 1 and 2 shows some predictability."
   ]
  },
  {
   "cell_type": "code",
   "execution_count": 19,
   "metadata": {},
   "outputs": [
    {
     "data": {
      "text/plain": [
       "number2\n",
       "1.0     18\n",
       "2.0      3\n",
       "4.0      1\n",
       "6.0      2\n",
       "7.0      6\n",
       "8.0      4\n",
       "9.0      1\n",
       "11.0     5\n",
       "12.0     4\n",
       "13.0    10\n",
       "14.0    10\n",
       "15.0     5\n",
       "16.0     8\n",
       "17.0    12\n",
       "18.0    13\n",
       "19.0    16\n",
       "21.0    28\n",
       "22.0    35\n",
       "23.0    33\n",
       "24.0    33\n",
       "25.0    26\n",
       "26.0    20\n",
       "27.0    28\n",
       "28.0    19\n",
       "29.0    25\n",
       "31.0    28\n",
       "32.0    20\n",
       "33.0    29\n",
       "34.0    22\n",
       "51.0    25\n",
       "52.0    27\n",
       "Name: number1, dtype: int64"
      ]
     },
     "execution_count": 19,
     "metadata": {},
     "output_type": "execute_result"
    }
   ],
   "source": [
    "blob.groupby('number2')['number1'].nunique()"
   ]
  },
  {
   "cell_type": "markdown",
   "metadata": {},
   "source": [
    "Starts high, then hovers in the 1-10 range, then jumps to 20-30, then gets very consistent"
   ]
  },
  {
   "cell_type": "code",
   "execution_count": 20,
   "metadata": {},
   "outputs": [
    {
     "data": {
      "image/png": "[encoded data removed]",
      "text/plain": [
       "<Figure size 432x288 with 1 Axes>"
      ]
     },
     "metadata": {
      "needs_background": "light"
     },
     "output_type": "display_data"
    }
   ],
   "source": [
    "blob.groupby('number2')['number1'].nunique().plot()\n",
    "plt.show()"
   ]
  },
  {
   "cell_type": "markdown",
   "metadata": {},
   "source": [
    "# Lets find the normal, so we can see what's an anomaly"
   ]
  },
  {
   "cell_type": "code",
   "execution_count": 24,
   "metadata": {},
   "outputs": [
    {
     "data": {
      "image/png": "[encoded data removed]",
      "text/plain": [
       "<Figure size 432x288 with 1 Axes>"
      ]
     },
     "metadata": {
      "needs_background": "light"
     },
     "output_type": "display_data"
    }
   ],
   "source": [
    "#The traffic on a weekly basis\n",
    "df.resample('W')['ip_source'].count().plot()\n",
    "#df.resample('W')['ip_source'].nunique().plot()\n",
    "plt.show()"
   ]
  },
  {
   "cell_type": "code",
   "execution_count": 22,
   "metadata": {},
   "outputs": [
    {
     "data": {
      "image/png": "[encoded data removed]",
      "text/plain": [
       "<Figure size 432x288 with 1 Axes>"
      ]
     },
     "metadata": {
      "needs_background": "light"
     },
     "output_type": "display_data"
    }
   ],
   "source": [
    "#Unique IPs connecting to the curriculum\n",
    "df.resample('W')['ip_source'].nunique().plot()\n",
    "plt.show()"
   ]
  },
  {
   "cell_type": "code",
   "execution_count": 25,
   "metadata": {},
   "outputs": [
    {
     "data": {
      "image/png": "[encoded data removed]",
      "text/plain": [
       "<Figure size 432x288 with 1 Axes>"
      ]
     },
     "metadata": {
      "needs_background": "light"
     },
     "output_type": "display_data"
    }
   ],
   "source": [
    "#Number 1\n",
    "df.resample('W')['number1'].nunique().plot()\n",
    "plt.show()"
   ]
  },
  {
   "cell_type": "code",
   "execution_count": 26,
   "metadata": {},
   "outputs": [
    {
     "data": {
      "image/png": "[encoded data removed]",
      "text/plain": [
       "<Figure size 432x288 with 1 Axes>"
      ]
     },
     "metadata": {
      "needs_background": "light"
     },
     "output_type": "display_data"
    }
   ],
   "source": [
    "#Number2\n",
    "df.resample('W')['number2'].nunique().plot()\n",
    "plt.show()"
   ]
  },
  {
   "cell_type": "code",
   "execution_count": 27,
   "metadata": {},
   "outputs": [
    {
     "data": {
      "text/plain": [
       "4158.28125"
      ]
     },
     "execution_count": 27,
     "metadata": {},
     "output_type": "execute_result"
    }
   ],
   "source": [
    "#Each week has about 4158 hits per week\n",
    "df.resample('W')['ip_source'].count().mean()"
   ]
  },
  {
   "cell_type": "code",
   "execution_count": 28,
   "metadata": {},
   "outputs": [
    {
     "data": {
      "text/plain": [
       "90.27083333333333"
      ]
     },
     "execution_count": 28,
     "metadata": {},
     "output_type": "execute_result"
    }
   ],
   "source": [
    "#About 90 unique connections to the curriculum per week\n",
    "df.resample('W')['ip_source'].nunique().mean()"
   ]
  },
  {
   "cell_type": "code",
   "execution_count": 32,
   "metadata": {},
   "outputs": [
    {
     "data": {
      "text/html": [
       "<div>\n",
       "<style scoped>\n",
       "    .dataframe tbody tr th:only-of-type {\n",
       "        vertical-align: middle;\n",
       "    }\n",
       "\n",
       "    .dataframe tbody tr th {\n",
       "        vertical-align: top;\n",
       "    }\n",
       "\n",
       "    .dataframe thead th {\n",
       "        text-align: right;\n",
       "    }\n",
       "</style>\n",
       "<table border=\"1\" class=\"dataframe\">\n",
       "  <thead>\n",
       "    <tr style=\"text-align: right;\">\n",
       "      <th></th>\n",
       "      <th>resource</th>\n",
       "      <th>number1</th>\n",
       "      <th>number2</th>\n",
       "    </tr>\n",
       "    <tr>\n",
       "      <th>ip_source</th>\n",
       "      <th></th>\n",
       "      <th></th>\n",
       "      <th></th>\n",
       "    </tr>\n",
       "  </thead>\n",
       "  <tbody>\n",
       "    <tr>\n",
       "      <th>97.105.19.58</th>\n",
       "      <td>227220</td>\n",
       "      <td>227220</td>\n",
       "      <td>211289</td>\n",
       "    </tr>\n",
       "    <tr>\n",
       "      <th>97.105.19.61</th>\n",
       "      <td>61662</td>\n",
       "      <td>61662</td>\n",
       "      <td>60530</td>\n",
       "    </tr>\n",
       "    <tr>\n",
       "      <th>192.171.117.210</th>\n",
       "      <td>8127</td>\n",
       "      <td>8127</td>\n",
       "      <td>7791</td>\n",
       "    </tr>\n",
       "    <tr>\n",
       "      <th>70.122.40.62</th>\n",
       "      <td>1338</td>\n",
       "      <td>1338</td>\n",
       "      <td>1338</td>\n",
       "    </tr>\n",
       "    <tr>\n",
       "      <th>66.69.108.117</th>\n",
       "      <td>1199</td>\n",
       "      <td>1199</td>\n",
       "      <td>1199</td>\n",
       "    </tr>\n",
       "    <tr>\n",
       "      <th>173.174.211.206</th>\n",
       "      <td>1019</td>\n",
       "      <td>1019</td>\n",
       "      <td>1019</td>\n",
       "    </tr>\n",
       "    <tr>\n",
       "      <th>108.65.244.91</th>\n",
       "      <td>1007</td>\n",
       "      <td>1007</td>\n",
       "      <td>1007</td>\n",
       "    </tr>\n",
       "    <tr>\n",
       "      <th>170.248.173.245</th>\n",
       "      <td>997</td>\n",
       "      <td>997</td>\n",
       "      <td>952</td>\n",
       "    </tr>\n",
       "    <tr>\n",
       "      <th>67.11.157.190</th>\n",
       "      <td>972</td>\n",
       "      <td>972</td>\n",
       "      <td>968</td>\n",
       "    </tr>\n",
       "    <tr>\n",
       "      <th>66.69.62.219</th>\n",
       "      <td>934</td>\n",
       "      <td>934</td>\n",
       "      <td>0</td>\n",
       "    </tr>\n",
       "    <tr>\n",
       "      <th>70.118.8.243</th>\n",
       "      <td>876</td>\n",
       "      <td>876</td>\n",
       "      <td>876</td>\n",
       "    </tr>\n",
       "    <tr>\n",
       "      <th>72.181.104.64</th>\n",
       "      <td>865</td>\n",
       "      <td>865</td>\n",
       "      <td>865</td>\n",
       "    </tr>\n",
       "  </tbody>\n",
       "</table>\n",
       "</div>"
      ],
      "text/plain": [
       "                 resource  number1  number2\n",
       "ip_source                                  \n",
       "97.105.19.58       227220   227220   211289\n",
       "97.105.19.61        61662    61662    60530\n",
       "192.171.117.210      8127     8127     7791\n",
       "70.122.40.62         1338     1338     1338\n",
       "66.69.108.117        1199     1199     1199\n",
       "173.174.211.206      1019     1019     1019\n",
       "108.65.244.91        1007     1007     1007\n",
       "170.248.173.245       997      997      952\n",
       "67.11.157.190         972      972      968\n",
       "66.69.62.219          934      934        0\n",
       "70.118.8.243          876      876      876\n",
       "72.181.104.64         865      865      865"
      ]
     },
     "execution_count": 32,
     "metadata": {},
     "output_type": "execute_result"
    }
   ],
   "source": [
    "#The top twelve most common clients' IP address\n",
    "df.groupby('ip_source').count().sort_values('resource',ascending=False).head(12)"
   ]
  },
  {
   "cell_type": "code",
   "execution_count": 29,
   "metadata": {},
   "outputs": [
    {
     "name": "stdout",
     "output_type": "stream",
     "text": [
      "traceroute to 8.8.8.8 (8.8.8.8), 64 hops max, 52 byte packets\n",
      " 1  10.10.1.1 (10.10.1.1)  4.069 ms  0.827 ms  0.654 ms\n",
      " 2  97.105.19.57 (97.105.19.57)  7.932 ms  2.819 ms  5.353 ms\n",
      " 3  ae15.snantxvy01h.sw.twcbiz.com (97.77.3.210)  3.274 ms  10.172 ms  13.485 ms\n",
      " 4  agg60.snantxvy01r.texas.rr.com (24.175.33.208)  17.524 ms  17.768 ms  16.804 ms\n",
      " 5  agg23.dllatxl301r.texas.rr.com (24.175.32.146)  21.284 ms  24.940 ms\n",
      "    agg10-10.snavtxuu02r.texas.rr.com (24.175.32.149)  17.525 ms\n",
      " 6  agg23.hstqtxl301r.texas.rr.com (24.175.32.156)  19.084 ms\n",
      "    agg10.hstqtxl301r.texas.rr.com (24.175.52.61)  26.088 ms\n",
      "    agg23.hstqtxl301r.texas.rr.com (24.175.32.156)  15.314 ms\n",
      " 7  bu-ether16.hstqtx0209w-bcr00.tbone.rr.com (66.109.6.108)  38.034 ms\n",
      "    ae-1-0.p0.atl90.tbone.rr.com (66.109.1.218)  21.533 ms  14.257 ms\n",
      " 8  bu-ether12.dllstx976iw-bcr00.tbone.rr.com (66.109.6.39)  17.945 ms  18.017 ms\n",
      "    107.14.19.49 (107.14.19.49)  31.725 ms\n",
      " 9  66.109.5.121 (66.109.5.121)  16.940 ms  19.982 ms  15.757 ms\n",
      "10  ix-ae-52-0.tcore2.dt8-dallas.as6453.net (66.110.57.162)  17.208 ms  12.581 ms  32.735 ms\n",
      "11  74.125.48.232 (74.125.48.232)  20.368 ms  18.141 ms  14.819 ms\n",
      "12  108.170.240.129 (108.170.240.129)  16.199 ms\n",
      "    108.170.240.193 (108.170.240.193)  13.534 ms\n",
      "    108.170.252.129 (108.170.252.129)  12.704 ms\n",
      "13  108.170.230.113 (108.170.230.113)  15.012 ms\n",
      "    209.85.242.55 (209.85.242.55)  14.700 ms\n",
      "    72.14.232.167 (72.14.232.167)  15.528 ms\n",
      "14  dns.google (8.8.8.8)  17.929 ms  24.616 ms  18.323 ms\n"
     ]
    }
   ],
   "source": [
    "!traceroute 8.8.8.8"
   ]
  },
  {
   "cell_type": "markdown",
   "metadata": {},
   "source": [
    "97.105.19.X is traffic from the Codeup Router"
   ]
  },
  {
   "cell_type": "code",
   "execution_count": 30,
   "metadata": {},
   "outputs": [],
   "source": [
    "local_traffic = df[(df.ip_source == '97.105.19.58') | (df.ip_source =='97.105.19.61')]"
   ]
  },
  {
   "cell_type": "code",
   "execution_count": 31,
   "metadata": {},
   "outputs": [],
   "source": [
    "outside_traffic = df[(df.ip_source != '97.105.19.58') | (df.ip_source != '97.105.19.61')]"
   ]
  },
  {
   "cell_type": "markdown",
   "metadata": {},
   "source": [
    "Looks like the traffic getting to the curricullum is paired. No real diffenrences between them"
   ]
  },
  {
   "cell_type": "code",
   "execution_count": 42,
   "metadata": {},
   "outputs": [
    {
     "data": {
      "image/png": "[encoded data removed]",
      "text/plain": [
       "<Figure size 432x288 with 1 Axes>"
      ]
     },
     "metadata": {
      "needs_background": "light"
     },
     "output_type": "display_data"
    }
   ],
   "source": [
    "outside_traffic.resample('W')['ip_source'].count().plot()\n",
    "local_traffic.resample('W')['ip_source'].count().plot()\n",
    "plt.show()"
   ]
  },
  {
   "cell_type": "markdown",
   "metadata": {},
   "source": [
    "## They shoot cohorts, don't they"
   ]
  },
  {
   "cell_type": "code",
   "execution_count": 43,
   "metadata": {},
   "outputs": [],
   "source": [
    "first_cohort = df[df.number2 == 1]\n",
    "last_cohort = df[df.number2 == 51]"
   ]
  },
  {
   "cell_type": "markdown",
   "metadata": {},
   "source": [
    "If number2 does correspond to the cohorts accessing the curriculum, the plots would indicate so."
   ]
  },
  {
   "cell_type": "code",
   "execution_count": 45,
   "metadata": {},
   "outputs": [
    {
     "data": {
      "image/png": "[encoded data removed]",
      "text/plain": [
       "<Figure size 432x288 with 1 Axes>"
      ]
     },
     "metadata": {
      "needs_background": "light"
     },
     "output_type": "display_data"
    }
   ],
   "source": [
    "first_cohort.resample('W')['ip_source'].count().plot()\n",
    "last_cohort.resample('W')['ip_source'].count().plot()\n",
    "plt.show()"
   ]
  },
  {
   "cell_type": "code",
   "execution_count": 75,
   "metadata": {},
   "outputs": [
    {
     "data": {
      "text/plain": [
       "<matplotlib.axes._subplots.AxesSubplot at 0x1a1e500ac8>"
      ]
     },
     "execution_count": 75,
     "metadata": {},
     "output_type": "execute_result"
    },
    {
     "data": {
      "image/png": "[encoded data removed]",
      "text/plain": [
       "<Figure size 432x288 with 1 Axes>"
      ]
     },
     "metadata": {
      "needs_background": "light"
     },
     "output_type": "display_data"
    }
   ],
   "source": [
    "first_cohort.resample('W')['ip_source'].count().plot()"
   ]
  },
  {
   "cell_type": "markdown",
   "metadata": {},
   "source": [
    "## Maybe Bayes?"
   ]
  },
  {
   "cell_type": "code",
   "execution_count": 46,
   "metadata": {},
   "outputs": [],
   "source": [
    "#Lets try the third to last. I figure Deimos and Europa would be -2 and -1.\n",
    "bayes = df[df.number2 == 34]"
   ]
  },
  {
   "cell_type": "markdown",
   "metadata": {},
   "source": [
    "I think we started with 22 students in Bayes"
   ]
  },
  {
   "cell_type": "code",
   "execution_count": 47,
   "metadata": {},
   "outputs": [
    {
     "data": {
      "text/plain": [
       "22"
      ]
     },
     "execution_count": 47,
     "metadata": {},
     "output_type": "execute_result"
    }
   ],
   "source": [
    "bayes.number1.nunique()"
   ]
  },
  {
   "cell_type": "markdown",
   "metadata": {},
   "source": [
    "Data for this possible Bayes cohort is consistent with the start date"
   ]
  },
  {
   "cell_type": "code",
   "execution_count": 48,
   "metadata": {},
   "outputs": [
    {
     "data": {
      "text/plain": [
       "(2509, 2600)"
      ]
     },
     "execution_count": 48,
     "metadata": {},
     "output_type": "execute_result"
    },
    {
     "data": {
      "image/png": "[encoded data removed]",
      "text/plain": [
       "<Figure size 432x288 with 1 Axes>"
      ]
     },
     "metadata": {
      "needs_background": "light"
     },
     "output_type": "display_data"
    }
   ],
   "source": [
    "ax = bayes.resample('W')['ip_source'].count().plot()\n",
    "ax.set_xlim('2018-01-26', '2019-10-26')"
   ]
  },
  {
   "cell_type": "code",
   "execution_count": 49,
   "metadata": {},
   "outputs": [
    {
     "data": {
      "image/png": "[encoded data removed]",
      "text/plain": [
       "<Figure size 432x288 with 1 Axes>"
      ]
     },
     "metadata": {
      "needs_background": "light"
     },
     "output_type": "display_data"
    }
   ],
   "source": [
    "ax = bayes.resample('W')['ip_source'].count().plot()"
   ]
  },
  {
   "cell_type": "markdown",
   "metadata": {},
   "source": [
    "## Instructors?"
   ]
  },
  {
   "cell_type": "code",
   "execution_count": 50,
   "metadata": {},
   "outputs": [
    {
     "data": {
      "text/plain": [
       "array(['/', 'java-ii', 'java-ii/object-oriented-programming', ...,\n",
       "       '9-timeseries/5.1-modeling-lesson1',\n",
       "       '9-timeseries/5.2-modeling-lesson2', 'alumni'], dtype=object)"
      ]
     },
     "execution_count": 50,
     "metadata": {},
     "output_type": "execute_result"
    }
   ],
   "source": [
    "df.resource.unique()"
   ]
  },
  {
   "cell_type": "code",
   "execution_count": 51,
   "metadata": {},
   "outputs": [],
   "source": [
    "javascript = df[df.resource.str.match('javascript')]"
   ]
  },
  {
   "cell_type": "code",
   "execution_count": 52,
   "metadata": {},
   "outputs": [],
   "source": [
    "time_series = df[df.resource.str.match('9-timeseries')]"
   ]
  },
  {
   "cell_type": "code",
   "execution_count": 53,
   "metadata": {},
   "outputs": [
    {
     "data": {
      "text/plain": [
       "417"
      ]
     },
     "execution_count": 53,
     "metadata": {},
     "output_type": "execute_result"
    }
   ],
   "source": [
    "javascript.number1.nunique()"
   ]
  },
  {
   "cell_type": "code",
   "execution_count": 54,
   "metadata": {},
   "outputs": [
    {
     "data": {
      "text/plain": [
       "35"
      ]
     },
     "execution_count": 54,
     "metadata": {},
     "output_type": "execute_result"
    }
   ],
   "source": [
    "time_series.number1.nunique()"
   ]
  },
  {
   "cell_type": "markdown",
   "metadata": {},
   "source": [
    "I'm willing to bet 11, 146, 248 and 1 are instructors"
   ]
  },
  {
   "cell_type": "code",
   "execution_count": 55,
   "metadata": {},
   "outputs": [
    {
     "data": {
      "text/plain": [
       "array([404,  11, 467, 485, 471, 354, 363, 403, 353, 248, 481, 349, 484,\n",
       "       476, 479,   1, 429, 469, 478, 146, 369, 351, 361, 483, 468, 480,\n",
       "       482, 474, 470, 477, 475, 473, 358, 466, 472])"
      ]
     },
     "execution_count": 55,
     "metadata": {},
     "output_type": "execute_result"
    }
   ],
   "source": [
    "time_series.number1.unique()"
   ]
  },
  {
   "cell_type": "code",
   "execution_count": 56,
   "metadata": {},
   "outputs": [
    {
     "data": {
      "text/html": [
       "<div>\n",
       "<style scoped>\n",
       "    .dataframe tbody tr th:only-of-type {\n",
       "        vertical-align: middle;\n",
       "    }\n",
       "\n",
       "    .dataframe tbody tr th {\n",
       "        vertical-align: top;\n",
       "    }\n",
       "\n",
       "    .dataframe thead th {\n",
       "        text-align: right;\n",
       "    }\n",
       "</style>\n",
       "<table border=\"1\" class=\"dataframe\">\n",
       "  <thead>\n",
       "    <tr style=\"text-align: right;\">\n",
       "      <th></th>\n",
       "      <th>resource</th>\n",
       "      <th>number1</th>\n",
       "      <th>number2</th>\n",
       "      <th>ip_source</th>\n",
       "    </tr>\n",
       "    <tr>\n",
       "      <th>Date</th>\n",
       "      <th></th>\n",
       "      <th></th>\n",
       "      <th></th>\n",
       "      <th></th>\n",
       "    </tr>\n",
       "  </thead>\n",
       "  <tbody>\n",
       "    <tr>\n",
       "      <th>2018-09-05 14:28:23</th>\n",
       "      <td>/</td>\n",
       "      <td>248</td>\n",
       "      <td>1.0</td>\n",
       "      <td>97.105.19.58</td>\n",
       "    </tr>\n",
       "    <tr>\n",
       "      <th>2018-09-07 14:53:23</th>\n",
       "      <td>/</td>\n",
       "      <td>248</td>\n",
       "      <td>1.0</td>\n",
       "      <td>97.105.19.58</td>\n",
       "    </tr>\n",
       "    <tr>\n",
       "      <th>2018-09-07 14:54:13</th>\n",
       "      <td>html-css</td>\n",
       "      <td>248</td>\n",
       "      <td>1.0</td>\n",
       "      <td>97.105.19.58</td>\n",
       "    </tr>\n",
       "    <tr>\n",
       "      <th>2018-09-07 14:56:07</th>\n",
       "      <td>html-css/introduction</td>\n",
       "      <td>248</td>\n",
       "      <td>1.0</td>\n",
       "      <td>97.105.19.58</td>\n",
       "    </tr>\n",
       "    <tr>\n",
       "      <th>2018-09-07 14:57:00</th>\n",
       "      <td>html-css/elements</td>\n",
       "      <td>248</td>\n",
       "      <td>1.0</td>\n",
       "      <td>97.105.19.58</td>\n",
       "    </tr>\n",
       "  </tbody>\n",
       "</table>\n",
       "</div>"
      ],
      "text/plain": [
       "                                  resource  number1  number2     ip_source\n",
       "Date                                                                      \n",
       "2018-09-05 14:28:23                      /      248      1.0  97.105.19.58\n",
       "2018-09-07 14:53:23                      /      248      1.0  97.105.19.58\n",
       "2018-09-07 14:54:13               html-css      248      1.0  97.105.19.58\n",
       "2018-09-07 14:56:07  html-css/introduction      248      1.0  97.105.19.58\n",
       "2018-09-07 14:57:00      html-css/elements      248      1.0  97.105.19.58"
      ]
     },
     "execution_count": 56,
     "metadata": {},
     "output_type": "execute_result"
    }
   ],
   "source": [
    "df[df.number1 == 248].head()"
   ]
  },
  {
   "cell_type": "code",
   "execution_count": 57,
   "metadata": {},
   "outputs": [
    {
     "data": {
      "text/html": [
       "<div>\n",
       "<style scoped>\n",
       "    .dataframe tbody tr th:only-of-type {\n",
       "        vertical-align: middle;\n",
       "    }\n",
       "\n",
       "    .dataframe tbody tr th {\n",
       "        vertical-align: top;\n",
       "    }\n",
       "\n",
       "    .dataframe thead th {\n",
       "        text-align: right;\n",
       "    }\n",
       "</style>\n",
       "<table border=\"1\" class=\"dataframe\">\n",
       "  <thead>\n",
       "    <tr style=\"text-align: right;\">\n",
       "      <th></th>\n",
       "      <th>resource</th>\n",
       "      <th>number1</th>\n",
       "      <th>number2</th>\n",
       "      <th>ip_source</th>\n",
       "    </tr>\n",
       "    <tr>\n",
       "      <th>Date</th>\n",
       "      <th></th>\n",
       "      <th></th>\n",
       "      <th></th>\n",
       "      <th></th>\n",
       "    </tr>\n",
       "  </thead>\n",
       "  <tbody>\n",
       "    <tr>\n",
       "      <th>2019-11-19 09:45:31</th>\n",
       "      <td>10-anomaly-detection/exercises</td>\n",
       "      <td>248</td>\n",
       "      <td>28.0</td>\n",
       "      <td>97.105.19.58</td>\n",
       "    </tr>\n",
       "    <tr>\n",
       "      <th>2019-11-19 09:45:38</th>\n",
       "      <td>10-anomaly-detection/2-detecting-through-proba...</td>\n",
       "      <td>248</td>\n",
       "      <td>28.0</td>\n",
       "      <td>97.105.19.58</td>\n",
       "    </tr>\n",
       "    <tr>\n",
       "      <th>2019-11-19 09:46:05</th>\n",
       "      <td>10-anomaly-detection/3-detecting-timeseries-an...</td>\n",
       "      <td>248</td>\n",
       "      <td>28.0</td>\n",
       "      <td>97.105.19.58</td>\n",
       "    </tr>\n",
       "    <tr>\n",
       "      <th>2019-11-19 09:46:09</th>\n",
       "      <td>10-anomaly-detection/4-detecting-with-clustering</td>\n",
       "      <td>248</td>\n",
       "      <td>28.0</td>\n",
       "      <td>97.105.19.58</td>\n",
       "    </tr>\n",
       "    <tr>\n",
       "      <th>2019-11-19 09:46:55</th>\n",
       "      <td>10-anomaly-detection/2-detecting-through-proba...</td>\n",
       "      <td>248</td>\n",
       "      <td>28.0</td>\n",
       "      <td>97.105.19.58</td>\n",
       "    </tr>\n",
       "  </tbody>\n",
       "</table>\n",
       "</div>"
      ],
      "text/plain": [
       "                                                              resource  \\\n",
       "Date                                                                     \n",
       "2019-11-19 09:45:31                     10-anomaly-detection/exercises   \n",
       "2019-11-19 09:45:38  10-anomaly-detection/2-detecting-through-proba...   \n",
       "2019-11-19 09:46:05  10-anomaly-detection/3-detecting-timeseries-an...   \n",
       "2019-11-19 09:46:09   10-anomaly-detection/4-detecting-with-clustering   \n",
       "2019-11-19 09:46:55  10-anomaly-detection/2-detecting-through-proba...   \n",
       "\n",
       "                     number1  number2     ip_source  \n",
       "Date                                                 \n",
       "2019-11-19 09:45:31      248     28.0  97.105.19.58  \n",
       "2019-11-19 09:45:38      248     28.0  97.105.19.58  \n",
       "2019-11-19 09:46:05      248     28.0  97.105.19.58  \n",
       "2019-11-19 09:46:09      248     28.0  97.105.19.58  \n",
       "2019-11-19 09:46:55      248     28.0  97.105.19.58  "
      ]
     },
     "execution_count": 57,
     "metadata": {},
     "output_type": "execute_result"
    }
   ],
   "source": [
    "df[df.number1 == 248].tail()"
   ]
  },
  {
   "cell_type": "code",
   "execution_count": 69,
   "metadata": {},
   "outputs": [
    {
     "data": {
      "image/png": "[encoded data removed]",
      "text/plain": [
       "<Figure size 432x288 with 1 Axes>"
      ]
     },
     "metadata": {
      "needs_background": "light"
     },
     "output_type": "display_data"
    }
   ],
   "source": [
    "df[df.number1 == 248].resample('W')['ip_source'].count().plot()\n",
    "plt.show()"
   ]
  },
  {
   "cell_type": "markdown",
   "metadata": {},
   "source": [
    "Whoever 248 is, they're making requests to the curricullum from the internal traffic address."
   ]
  },
  {
   "cell_type": "code",
   "execution_count": 65,
   "metadata": {},
   "outputs": [
    {
     "data": {
      "text/html": [
       "<div>\n",
       "<style scoped>\n",
       "    .dataframe tbody tr th:only-of-type {\n",
       "        vertical-align: middle;\n",
       "    }\n",
       "\n",
       "    .dataframe tbody tr th {\n",
       "        vertical-align: top;\n",
       "    }\n",
       "\n",
       "    .dataframe thead th {\n",
       "        text-align: right;\n",
       "    }\n",
       "</style>\n",
       "<table border=\"1\" class=\"dataframe\">\n",
       "  <thead>\n",
       "    <tr style=\"text-align: right;\">\n",
       "      <th></th>\n",
       "      <th>resource</th>\n",
       "      <th>number1</th>\n",
       "      <th>number2</th>\n",
       "      <th>ip_source</th>\n",
       "    </tr>\n",
       "    <tr>\n",
       "      <th>Date</th>\n",
       "      <th></th>\n",
       "      <th></th>\n",
       "      <th></th>\n",
       "      <th></th>\n",
       "    </tr>\n",
       "  </thead>\n",
       "  <tbody>\n",
       "    <tr>\n",
       "      <th>2018-01-26 09:55:03</th>\n",
       "      <td>/</td>\n",
       "      <td>1</td>\n",
       "      <td>8.0</td>\n",
       "      <td>97.105.19.61</td>\n",
       "    </tr>\n",
       "    <tr>\n",
       "      <th>2018-01-26 09:56:02</th>\n",
       "      <td>java-ii</td>\n",
       "      <td>1</td>\n",
       "      <td>8.0</td>\n",
       "      <td>97.105.19.61</td>\n",
       "    </tr>\n",
       "    <tr>\n",
       "      <th>2018-01-26 09:56:05</th>\n",
       "      <td>java-ii/object-oriented-programming</td>\n",
       "      <td>1</td>\n",
       "      <td>8.0</td>\n",
       "      <td>97.105.19.61</td>\n",
       "    </tr>\n",
       "    <tr>\n",
       "      <th>2018-01-26 09:56:06</th>\n",
       "      <td>slides/object_oriented_programming</td>\n",
       "      <td>1</td>\n",
       "      <td>8.0</td>\n",
       "      <td>97.105.19.61</td>\n",
       "    </tr>\n",
       "    <tr>\n",
       "      <th>2018-01-26 10:40:15</th>\n",
       "      <td>javascript-i/functions</td>\n",
       "      <td>1</td>\n",
       "      <td>8.0</td>\n",
       "      <td>97.105.19.61</td>\n",
       "    </tr>\n",
       "  </tbody>\n",
       "</table>\n",
       "</div>"
      ],
      "text/plain": [
       "                                                resource  number1  number2  \\\n",
       "Date                                                                         \n",
       "2018-01-26 09:55:03                                    /        1      8.0   \n",
       "2018-01-26 09:56:02                              java-ii        1      8.0   \n",
       "2018-01-26 09:56:05  java-ii/object-oriented-programming        1      8.0   \n",
       "2018-01-26 09:56:06   slides/object_oriented_programming        1      8.0   \n",
       "2018-01-26 10:40:15               javascript-i/functions        1      8.0   \n",
       "\n",
       "                        ip_source  \n",
       "Date                               \n",
       "2018-01-26 09:55:03  97.105.19.61  \n",
       "2018-01-26 09:56:02  97.105.19.61  \n",
       "2018-01-26 09:56:05  97.105.19.61  \n",
       "2018-01-26 09:56:06  97.105.19.61  \n",
       "2018-01-26 10:40:15  97.105.19.61  "
      ]
     },
     "execution_count": 65,
     "metadata": {},
     "output_type": "execute_result"
    }
   ],
   "source": [
    "df[df.number1 == 1].head()"
   ]
  },
  {
   "cell_type": "code",
   "execution_count": 66,
   "metadata": {},
   "outputs": [
    {
     "data": {
      "text/html": [
       "<div>\n",
       "<style scoped>\n",
       "    .dataframe tbody tr th:only-of-type {\n",
       "        vertical-align: middle;\n",
       "    }\n",
       "\n",
       "    .dataframe tbody tr th {\n",
       "        vertical-align: top;\n",
       "    }\n",
       "\n",
       "    .dataframe thead th {\n",
       "        text-align: right;\n",
       "    }\n",
       "</style>\n",
       "<table border=\"1\" class=\"dataframe\">\n",
       "  <thead>\n",
       "    <tr style=\"text-align: right;\">\n",
       "      <th></th>\n",
       "      <th>resource</th>\n",
       "      <th>number1</th>\n",
       "      <th>number2</th>\n",
       "      <th>ip_source</th>\n",
       "    </tr>\n",
       "    <tr>\n",
       "      <th>Date</th>\n",
       "      <th></th>\n",
       "      <th></th>\n",
       "      <th></th>\n",
       "      <th></th>\n",
       "    </tr>\n",
       "  </thead>\n",
       "  <tbody>\n",
       "    <tr>\n",
       "      <th>2019-11-18 08:26:01</th>\n",
       "      <td>9-timeseries/4-explore</td>\n",
       "      <td>1</td>\n",
       "      <td>28.0</td>\n",
       "      <td>97.105.19.58</td>\n",
       "    </tr>\n",
       "    <tr>\n",
       "      <th>2019-11-18 08:31:34</th>\n",
       "      <td>9-timeseries/project</td>\n",
       "      <td>1</td>\n",
       "      <td>28.0</td>\n",
       "      <td>97.105.19.58</td>\n",
       "    </tr>\n",
       "    <tr>\n",
       "      <th>2019-11-19 08:38:11</th>\n",
       "      <td>/</td>\n",
       "      <td>1</td>\n",
       "      <td>28.0</td>\n",
       "      <td>97.105.19.58</td>\n",
       "    </tr>\n",
       "    <tr>\n",
       "      <th>2019-11-19 08:38:13</th>\n",
       "      <td>6-regression/1-overview</td>\n",
       "      <td>1</td>\n",
       "      <td>28.0</td>\n",
       "      <td>97.105.19.58</td>\n",
       "    </tr>\n",
       "    <tr>\n",
       "      <th>2019-11-19 08:38:17</th>\n",
       "      <td>9-timeseries/project</td>\n",
       "      <td>1</td>\n",
       "      <td>28.0</td>\n",
       "      <td>97.105.19.58</td>\n",
       "    </tr>\n",
       "  </tbody>\n",
       "</table>\n",
       "</div>"
      ],
      "text/plain": [
       "                                    resource  number1  number2     ip_source\n",
       "Date                                                                        \n",
       "2019-11-18 08:26:01   9-timeseries/4-explore        1     28.0  97.105.19.58\n",
       "2019-11-18 08:31:34     9-timeseries/project        1     28.0  97.105.19.58\n",
       "2019-11-19 08:38:11                        /        1     28.0  97.105.19.58\n",
       "2019-11-19 08:38:13  6-regression/1-overview        1     28.0  97.105.19.58\n",
       "2019-11-19 08:38:17     9-timeseries/project        1     28.0  97.105.19.58"
      ]
     },
     "execution_count": 66,
     "metadata": {},
     "output_type": "execute_result"
    }
   ],
   "source": [
    "df[df.number1 == 1].tail()"
   ]
  },
  {
   "cell_type": "code",
   "execution_count": 68,
   "metadata": {},
   "outputs": [
    {
     "data": {
      "image/png": "[encoded data removed]",
      "text/plain": [
       "<Figure size 432x288 with 1 Axes>"
      ]
     },
     "metadata": {
      "needs_background": "light"
     },
     "output_type": "display_data"
    }
   ],
   "source": [
    "df[df.number1 == 1].resample('W')['ip_source'].count().plot()\n",
    "plt.show()"
   ]
  },
  {
   "cell_type": "markdown",
   "metadata": {},
   "source": [
    "Whoever is number 1 took a vacation in the fall of last year."
   ]
  },
  {
   "cell_type": "code",
   "execution_count": null,
   "metadata": {},
   "outputs": [],
   "source": [
    "test = df['2019-08-29']"
   ]
  },
  {
   "cell_type": "code",
   "execution_count": null,
   "metadata": {},
   "outputs": [],
   "source": [
    "test[test.number2 == 34]"
   ]
  },
  {
   "cell_type": "code",
   "execution_count": null,
   "metadata": {},
   "outputs": [],
   "source": []
  },
  {
   "cell_type": "code",
   "execution_count": null,
   "metadata": {},
   "outputs": [],
   "source": []
  },
  {
   "cell_type": "code",
   "execution_count": null,
   "metadata": {},
   "outputs": [],
   "source": [
    "#I'm rather sure this is geekdom's gateway IP. \n",
    "geekdom_connections = df[df.ip_source == '192.171.117.210']"
   ]
  },
  {
   "cell_type": "code",
   "execution_count": null,
   "metadata": {},
   "outputs": [],
   "source": [
    "geekdom_connections['2019-11-17']"
   ]
  },
  {
   "cell_type": "code",
   "execution_count": null,
   "metadata": {},
   "outputs": [],
   "source": []
  }
 ],
 "metadata": {
  "kernelspec": {
   "display_name": "Python 3",
   "language": "python",
   "name": "python3"
  },
  "language_info": {
   "codemirror_mode": {
    "name": "ipython",
    "version": 3
   },
   "file_extension": ".py",
   "mimetype": "text/x-python",
   "name": "python",
   "nbconvert_exporter": "python",
   "pygments_lexer": "ipython3",
   "version": "3.7.3"
  }
 },
 "nbformat": 4,
 "nbformat_minor": 2
}
